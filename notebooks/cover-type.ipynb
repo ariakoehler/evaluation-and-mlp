{
 "cells": [
  {
   "cell_type": "markdown",
   "metadata": {},
   "source": [
    "# Predicting Forest Coverage Type to Predict Ecological Shifts\n",
    "\n",
    "by: Carter Koehler"
   ]
  },
  {
   "cell_type": "markdown",
   "metadata": {},
   "source": [
    "## Data Description and Prediction Task"
   ]
  },
  {
   "cell_type": "markdown",
   "metadata": {},
   "source": [
    "This dataset contains information on the forest coverage types from the Roosevelt National Forest in Colorado. The data consists of $12$ explanatory variables related to cartographic measurements of a particular area and a categorical encoding of what type of tree cover that area has. In particular, it has features on:\n",
    "\n",
    "- elevation\n",
    "- grade of slope (slope)\n",
    "- direction of slope (aspect)\n",
    "- distance to water\n",
    "- distance to roads\n",
    "- distance to fire points\n",
    "- shade coverage at various times in the day\n",
    "- wilderness area\n",
    "- soil type\n",
    "\n",
    "All of the categorical data (with the exception of the target variable) has already been one-hot encoded, meaning the the data we are dealing with already has quite a few more than $12$ columns.\n",
    "\n",
    "All of this is well and good, but it begs the question why we would want to be able to predict the forest coverage of a particular block of forest. One possible application is as follows: If it happens that we are able to predict how a particular area of forest is covered, this gives us a good qualitative description of what flora is present in that area. However, if the cartographic features of that area were to change due to human or other influence, such that we would predict a different coverage type than is there currently, we should predict that that area is about to go through a severe ecological change. This will give administrators and rangers a chance to prepare for major changes in the forest's wildlife. Unfortunately, this application is difficult to test for directly, so we will settle for predicting the classes as is. Additionally, since we will be using this to test for changes in the environment, we will care as much about false negatives as false positives, since the precise classification will inform whether or nota change is correctly detected.\n",
    "\n",
    "This of course brings into question what we might use as a suitable baseline. We will see in the exploratory stages of the analysis that the distribution of cover type changes significantly between wilderness areas. We will use this to derive our baseline, which will predict the most frequent cover type for each wilderness area. For our algorithm to be considered as successfully fulfilling our task, it should be able to beat this baseline to within a statistically significant margin."
   ]
  },
  {
   "cell_type": "markdown",
   "metadata": {},
   "source": [
    "## Data Preparation"
   ]
  },
  {
   "cell_type": "code",
   "execution_count": 95,
   "metadata": {
    "collapsed": true
   },
   "outputs": [],
   "source": [
    "import numpy as np\n",
    "import pandas as pd\n",
    "import matplotlib.pyplot as plt\n",
    "import seaborn as sns\n",
    "\n",
    "from matplotlib import rcParams\n",
    "rcParams['figure.figsize'] = 10, 8\n",
    "rcParams['axes.grid'] = True\n",
    "\n",
    "import os\n",
    "import sys\n",
    "from pprint import pprint"
   ]
  },
  {
   "cell_type": "code",
   "execution_count": 96,
   "metadata": {},
   "outputs": [
    {
     "data": {
      "text/html": [
       "<div>\n",
       "<style>\n",
       "    .dataframe thead tr:only-child th {\n",
       "        text-align: right;\n",
       "    }\n",
       "\n",
       "    .dataframe thead th {\n",
       "        text-align: left;\n",
       "    }\n",
       "\n",
       "    .dataframe tbody tr th {\n",
       "        vertical-align: top;\n",
       "    }\n",
       "</style>\n",
       "<table border=\"1\" class=\"dataframe\">\n",
       "  <thead>\n",
       "    <tr style=\"text-align: right;\">\n",
       "      <th></th>\n",
       "      <th>Elevation</th>\n",
       "      <th>Aspect</th>\n",
       "      <th>Slope</th>\n",
       "      <th>Horizontal_Distance_To_Hydrology</th>\n",
       "      <th>Vertical_Distance_To_Hydrology</th>\n",
       "      <th>Horizontal_Distance_To_Roadways</th>\n",
       "      <th>Hillshade_9am</th>\n",
       "      <th>Hillshade_Noon</th>\n",
       "      <th>Hillshade_3pm</th>\n",
       "      <th>Horizontal_Distance_To_Fire_Points</th>\n",
       "      <th>...</th>\n",
       "      <th>Soil_Type32</th>\n",
       "      <th>Soil_Type33</th>\n",
       "      <th>Soil_Type34</th>\n",
       "      <th>Soil_Type35</th>\n",
       "      <th>Soil_Type36</th>\n",
       "      <th>Soil_Type37</th>\n",
       "      <th>Soil_Type38</th>\n",
       "      <th>Soil_Type39</th>\n",
       "      <th>Soil_Type40</th>\n",
       "      <th>Cover_Type</th>\n",
       "    </tr>\n",
       "  </thead>\n",
       "  <tbody>\n",
       "    <tr>\n",
       "      <th>count</th>\n",
       "      <td>581012.000000</td>\n",
       "      <td>581012.000000</td>\n",
       "      <td>581012.000000</td>\n",
       "      <td>581012.000000</td>\n",
       "      <td>581012.000000</td>\n",
       "      <td>581012.000000</td>\n",
       "      <td>581012.000000</td>\n",
       "      <td>581012.000000</td>\n",
       "      <td>581012.000000</td>\n",
       "      <td>581012.000000</td>\n",
       "      <td>...</td>\n",
       "      <td>581012.000000</td>\n",
       "      <td>581012.000000</td>\n",
       "      <td>581012.000000</td>\n",
       "      <td>581012.000000</td>\n",
       "      <td>581012.000000</td>\n",
       "      <td>581012.000000</td>\n",
       "      <td>581012.000000</td>\n",
       "      <td>581012.000000</td>\n",
       "      <td>581012.000000</td>\n",
       "      <td>581012.000000</td>\n",
       "    </tr>\n",
       "    <tr>\n",
       "      <th>mean</th>\n",
       "      <td>2959.365301</td>\n",
       "      <td>155.656807</td>\n",
       "      <td>14.103704</td>\n",
       "      <td>269.428217</td>\n",
       "      <td>46.418855</td>\n",
       "      <td>2350.146611</td>\n",
       "      <td>212.146049</td>\n",
       "      <td>223.318716</td>\n",
       "      <td>142.528263</td>\n",
       "      <td>1980.291226</td>\n",
       "      <td>...</td>\n",
       "      <td>0.090392</td>\n",
       "      <td>0.077716</td>\n",
       "      <td>0.002773</td>\n",
       "      <td>0.003255</td>\n",
       "      <td>0.000205</td>\n",
       "      <td>0.000513</td>\n",
       "      <td>0.026803</td>\n",
       "      <td>0.023762</td>\n",
       "      <td>0.015060</td>\n",
       "      <td>2.051471</td>\n",
       "    </tr>\n",
       "    <tr>\n",
       "      <th>std</th>\n",
       "      <td>279.984734</td>\n",
       "      <td>111.913721</td>\n",
       "      <td>7.488242</td>\n",
       "      <td>212.549356</td>\n",
       "      <td>58.295232</td>\n",
       "      <td>1559.254870</td>\n",
       "      <td>26.769889</td>\n",
       "      <td>19.768697</td>\n",
       "      <td>38.274529</td>\n",
       "      <td>1324.195210</td>\n",
       "      <td>...</td>\n",
       "      <td>0.286743</td>\n",
       "      <td>0.267725</td>\n",
       "      <td>0.052584</td>\n",
       "      <td>0.056957</td>\n",
       "      <td>0.014310</td>\n",
       "      <td>0.022641</td>\n",
       "      <td>0.161508</td>\n",
       "      <td>0.152307</td>\n",
       "      <td>0.121791</td>\n",
       "      <td>1.396504</td>\n",
       "    </tr>\n",
       "    <tr>\n",
       "      <th>min</th>\n",
       "      <td>1859.000000</td>\n",
       "      <td>0.000000</td>\n",
       "      <td>0.000000</td>\n",
       "      <td>0.000000</td>\n",
       "      <td>-173.000000</td>\n",
       "      <td>0.000000</td>\n",
       "      <td>0.000000</td>\n",
       "      <td>0.000000</td>\n",
       "      <td>0.000000</td>\n",
       "      <td>0.000000</td>\n",
       "      <td>...</td>\n",
       "      <td>0.000000</td>\n",
       "      <td>0.000000</td>\n",
       "      <td>0.000000</td>\n",
       "      <td>0.000000</td>\n",
       "      <td>0.000000</td>\n",
       "      <td>0.000000</td>\n",
       "      <td>0.000000</td>\n",
       "      <td>0.000000</td>\n",
       "      <td>0.000000</td>\n",
       "      <td>1.000000</td>\n",
       "    </tr>\n",
       "    <tr>\n",
       "      <th>25%</th>\n",
       "      <td>2809.000000</td>\n",
       "      <td>58.000000</td>\n",
       "      <td>9.000000</td>\n",
       "      <td>108.000000</td>\n",
       "      <td>7.000000</td>\n",
       "      <td>1106.000000</td>\n",
       "      <td>198.000000</td>\n",
       "      <td>213.000000</td>\n",
       "      <td>119.000000</td>\n",
       "      <td>1024.000000</td>\n",
       "      <td>...</td>\n",
       "      <td>0.000000</td>\n",
       "      <td>0.000000</td>\n",
       "      <td>0.000000</td>\n",
       "      <td>0.000000</td>\n",
       "      <td>0.000000</td>\n",
       "      <td>0.000000</td>\n",
       "      <td>0.000000</td>\n",
       "      <td>0.000000</td>\n",
       "      <td>0.000000</td>\n",
       "      <td>1.000000</td>\n",
       "    </tr>\n",
       "    <tr>\n",
       "      <th>50%</th>\n",
       "      <td>2996.000000</td>\n",
       "      <td>127.000000</td>\n",
       "      <td>13.000000</td>\n",
       "      <td>218.000000</td>\n",
       "      <td>30.000000</td>\n",
       "      <td>1997.000000</td>\n",
       "      <td>218.000000</td>\n",
       "      <td>226.000000</td>\n",
       "      <td>143.000000</td>\n",
       "      <td>1710.000000</td>\n",
       "      <td>...</td>\n",
       "      <td>0.000000</td>\n",
       "      <td>0.000000</td>\n",
       "      <td>0.000000</td>\n",
       "      <td>0.000000</td>\n",
       "      <td>0.000000</td>\n",
       "      <td>0.000000</td>\n",
       "      <td>0.000000</td>\n",
       "      <td>0.000000</td>\n",
       "      <td>0.000000</td>\n",
       "      <td>2.000000</td>\n",
       "    </tr>\n",
       "    <tr>\n",
       "      <th>75%</th>\n",
       "      <td>3163.000000</td>\n",
       "      <td>260.000000</td>\n",
       "      <td>18.000000</td>\n",
       "      <td>384.000000</td>\n",
       "      <td>69.000000</td>\n",
       "      <td>3328.000000</td>\n",
       "      <td>231.000000</td>\n",
       "      <td>237.000000</td>\n",
       "      <td>168.000000</td>\n",
       "      <td>2550.000000</td>\n",
       "      <td>...</td>\n",
       "      <td>0.000000</td>\n",
       "      <td>0.000000</td>\n",
       "      <td>0.000000</td>\n",
       "      <td>0.000000</td>\n",
       "      <td>0.000000</td>\n",
       "      <td>0.000000</td>\n",
       "      <td>0.000000</td>\n",
       "      <td>0.000000</td>\n",
       "      <td>0.000000</td>\n",
       "      <td>2.000000</td>\n",
       "    </tr>\n",
       "    <tr>\n",
       "      <th>max</th>\n",
       "      <td>3858.000000</td>\n",
       "      <td>360.000000</td>\n",
       "      <td>66.000000</td>\n",
       "      <td>1397.000000</td>\n",
       "      <td>601.000000</td>\n",
       "      <td>7117.000000</td>\n",
       "      <td>254.000000</td>\n",
       "      <td>254.000000</td>\n",
       "      <td>254.000000</td>\n",
       "      <td>7173.000000</td>\n",
       "      <td>...</td>\n",
       "      <td>1.000000</td>\n",
       "      <td>1.000000</td>\n",
       "      <td>1.000000</td>\n",
       "      <td>1.000000</td>\n",
       "      <td>1.000000</td>\n",
       "      <td>1.000000</td>\n",
       "      <td>1.000000</td>\n",
       "      <td>1.000000</td>\n",
       "      <td>1.000000</td>\n",
       "      <td>7.000000</td>\n",
       "    </tr>\n",
       "  </tbody>\n",
       "</table>\n",
       "<p>8 rows × 55 columns</p>\n",
       "</div>"
      ],
      "text/plain": [
       "           Elevation         Aspect          Slope  \\\n",
       "count  581012.000000  581012.000000  581012.000000   \n",
       "mean     2959.365301     155.656807      14.103704   \n",
       "std       279.984734     111.913721       7.488242   \n",
       "min      1859.000000       0.000000       0.000000   \n",
       "25%      2809.000000      58.000000       9.000000   \n",
       "50%      2996.000000     127.000000      13.000000   \n",
       "75%      3163.000000     260.000000      18.000000   \n",
       "max      3858.000000     360.000000      66.000000   \n",
       "\n",
       "       Horizontal_Distance_To_Hydrology  Vertical_Distance_To_Hydrology  \\\n",
       "count                     581012.000000                   581012.000000   \n",
       "mean                         269.428217                       46.418855   \n",
       "std                          212.549356                       58.295232   \n",
       "min                            0.000000                     -173.000000   \n",
       "25%                          108.000000                        7.000000   \n",
       "50%                          218.000000                       30.000000   \n",
       "75%                          384.000000                       69.000000   \n",
       "max                         1397.000000                      601.000000   \n",
       "\n",
       "       Horizontal_Distance_To_Roadways  Hillshade_9am  Hillshade_Noon  \\\n",
       "count                    581012.000000  581012.000000   581012.000000   \n",
       "mean                       2350.146611     212.146049      223.318716   \n",
       "std                        1559.254870      26.769889       19.768697   \n",
       "min                           0.000000       0.000000        0.000000   \n",
       "25%                        1106.000000     198.000000      213.000000   \n",
       "50%                        1997.000000     218.000000      226.000000   \n",
       "75%                        3328.000000     231.000000      237.000000   \n",
       "max                        7117.000000     254.000000      254.000000   \n",
       "\n",
       "       Hillshade_3pm  Horizontal_Distance_To_Fire_Points      ...        \\\n",
       "count  581012.000000                       581012.000000      ...         \n",
       "mean      142.528263                         1980.291226      ...         \n",
       "std        38.274529                         1324.195210      ...         \n",
       "min         0.000000                            0.000000      ...         \n",
       "25%       119.000000                         1024.000000      ...         \n",
       "50%       143.000000                         1710.000000      ...         \n",
       "75%       168.000000                         2550.000000      ...         \n",
       "max       254.000000                         7173.000000      ...         \n",
       "\n",
       "         Soil_Type32    Soil_Type33    Soil_Type34    Soil_Type35  \\\n",
       "count  581012.000000  581012.000000  581012.000000  581012.000000   \n",
       "mean        0.090392       0.077716       0.002773       0.003255   \n",
       "std         0.286743       0.267725       0.052584       0.056957   \n",
       "min         0.000000       0.000000       0.000000       0.000000   \n",
       "25%         0.000000       0.000000       0.000000       0.000000   \n",
       "50%         0.000000       0.000000       0.000000       0.000000   \n",
       "75%         0.000000       0.000000       0.000000       0.000000   \n",
       "max         1.000000       1.000000       1.000000       1.000000   \n",
       "\n",
       "         Soil_Type36    Soil_Type37    Soil_Type38    Soil_Type39  \\\n",
       "count  581012.000000  581012.000000  581012.000000  581012.000000   \n",
       "mean        0.000205       0.000513       0.026803       0.023762   \n",
       "std         0.014310       0.022641       0.161508       0.152307   \n",
       "min         0.000000       0.000000       0.000000       0.000000   \n",
       "25%         0.000000       0.000000       0.000000       0.000000   \n",
       "50%         0.000000       0.000000       0.000000       0.000000   \n",
       "75%         0.000000       0.000000       0.000000       0.000000   \n",
       "max         1.000000       1.000000       1.000000       1.000000   \n",
       "\n",
       "         Soil_Type40     Cover_Type  \n",
       "count  581012.000000  581012.000000  \n",
       "mean        0.015060       2.051471  \n",
       "std         0.121791       1.396504  \n",
       "min         0.000000       1.000000  \n",
       "25%         0.000000       1.000000  \n",
       "50%         0.000000       2.000000  \n",
       "75%         0.000000       2.000000  \n",
       "max         1.000000       7.000000  \n",
       "\n",
       "[8 rows x 55 columns]"
      ]
     },
     "metadata": {},
     "output_type": "display_data"
    },
    {
     "name": "stdout",
     "output_type": "stream",
     "text": [
      "<class 'pandas.core.frame.DataFrame'>\n",
      "RangeIndex: 581012 entries, 0 to 581011\n",
      "Data columns (total 55 columns):\n",
      "Elevation                             581012 non-null int64\n",
      "Aspect                                581012 non-null int64\n",
      "Slope                                 581012 non-null int64\n",
      "Horizontal_Distance_To_Hydrology      581012 non-null int64\n",
      "Vertical_Distance_To_Hydrology        581012 non-null int64\n",
      "Horizontal_Distance_To_Roadways       581012 non-null int64\n",
      "Hillshade_9am                         581012 non-null int64\n",
      "Hillshade_Noon                        581012 non-null int64\n",
      "Hillshade_3pm                         581012 non-null int64\n",
      "Horizontal_Distance_To_Fire_Points    581012 non-null int64\n",
      "Wilderness_Area1                      581012 non-null int64\n",
      "Wilderness_Area2                      581012 non-null int64\n",
      "Wilderness_Area3                      581012 non-null int64\n",
      "Wilderness_Area4                      581012 non-null int64\n",
      "Soil_Type1                            581012 non-null int64\n",
      "Soil_Type2                            581012 non-null int64\n",
      "Soil_Type3                            581012 non-null int64\n",
      "Soil_Type4                            581012 non-null int64\n",
      "Soil_Type5                            581012 non-null int64\n",
      "Soil_Type6                            581012 non-null int64\n",
      "Soil_Type7                            581012 non-null int64\n",
      "Soil_Type8                            581012 non-null int64\n",
      "Soil_Type9                            581012 non-null int64\n",
      "Soil_Type10                           581012 non-null int64\n",
      "Soil_Type11                           581012 non-null int64\n",
      "Soil_Type12                           581012 non-null int64\n",
      "Soil_Type13                           581012 non-null int64\n",
      "Soil_Type14                           581012 non-null int64\n",
      "Soil_Type15                           581012 non-null int64\n",
      "Soil_Type16                           581012 non-null int64\n",
      "Soil_Type17                           581012 non-null int64\n",
      "Soil_Type18                           581012 non-null int64\n",
      "Soil_Type19                           581012 non-null int64\n",
      "Soil_Type20                           581012 non-null int64\n",
      "Soil_Type21                           581012 non-null int64\n",
      "Soil_Type22                           581012 non-null int64\n",
      "Soil_Type23                           581012 non-null int64\n",
      "Soil_Type24                           581012 non-null int64\n",
      "Soil_Type25                           581012 non-null int64\n",
      "Soil_Type26                           581012 non-null int64\n",
      "Soil_Type27                           581012 non-null int64\n",
      "Soil_Type28                           581012 non-null int64\n",
      "Soil_Type29                           581012 non-null int64\n",
      "Soil_Type30                           581012 non-null int64\n",
      "Soil_Type31                           581012 non-null int64\n",
      "Soil_Type32                           581012 non-null int64\n",
      "Soil_Type33                           581012 non-null int64\n",
      "Soil_Type34                           581012 non-null int64\n",
      "Soil_Type35                           581012 non-null int64\n",
      "Soil_Type36                           581012 non-null int64\n",
      "Soil_Type37                           581012 non-null int64\n",
      "Soil_Type38                           581012 non-null int64\n",
      "Soil_Type39                           581012 non-null int64\n",
      "Soil_Type40                           581012 non-null int64\n",
      "Cover_Type                            581012 non-null int64\n",
      "dtypes: int64(55)\n",
      "memory usage: 243.8 MB\n"
     ]
    },
    {
     "data": {
      "text/plain": [
       "None"
      ]
     },
     "metadata": {},
     "output_type": "display_data"
    }
   ],
   "source": [
    "filename = os.path.join(os.pardir, 'data', 'covtype.csv')\n",
    "df_cov = pd.read_csv(filename)\n",
    "\n",
    "# get an idea of what data looks like\n",
    "display(df_cov.describe())\n",
    "display(df_cov.info())"
   ]
  },
  {
   "cell_type": "markdown",
   "metadata": {},
   "source": [
    "Clearly, much of this data has already been one-hot encoded. This would be convenient if we didn't have ambitions to visualize the data. Anyways, let's press onward regardless of the state of our data. At least there isn't anything missing."
   ]
  },
  {
   "cell_type": "code",
   "execution_count": 97,
   "metadata": {},
   "outputs": [
    {
     "data": {
      "text/plain": [
       "<matplotlib.axes._subplots.AxesSubplot at 0x2aab7f749eb8>"
      ]
     },
     "execution_count": 97,
     "metadata": {},
     "output_type": "execute_result"
    }
   ],
   "source": [
    "sns.heatmap(df_cov.corr(), cmap=plt.cm.BrBG)"
   ]
  },
  {
   "cell_type": "markdown",
   "metadata": {},
   "source": [
    "This heatmap is enormous, and some of the labels are getting cut off. We'll try removing the one-hot encoded data and looking at the heatmap again."
   ]
  },
  {
   "cell_type": "code",
   "execution_count": 98,
   "metadata": {},
   "outputs": [
    {
     "data": {
      "text/plain": [
       "<matplotlib.axes._subplots.AxesSubplot at 0x2aab7f749eb8>"
      ]
     },
     "execution_count": 98,
     "metadata": {},
     "output_type": "execute_result"
    }
   ],
   "source": [
    "non_one_hot = ['Elevation', 'Slope', 'Aspect', 'Hillshade_9am', 'Hillshade_Noon', 'Hillshade_3pm', 'Vertical_Distance_To_Hydrology', 'Horizontal_Distance_To_Hydrology', 'Horizontal_Distance_To_Roadways', 'Horizontal_Distance_To_Fire_Points', 'Cover_Type']\n",
    "\n",
    "sns.heatmap(df_cov.filter(non_one_hot).corr(), vmin=-1, cmap=plt.cm.BrBG)"
   ]
  },
  {
   "cell_type": "markdown",
   "metadata": {},
   "source": [
    "Most of the variables are only weakly correlated. However, it bears recalling that the variable we hope to predict, cover_type, is categorical, so we shouldn't expect it to have  any meaningful correlations anyways. And the purpose behind using a neural network is to be able to detect highly nonlinear relationships, which a simple correlation coefficient would never be able to detect.\n",
    "\n",
    "Let's look at a few more variables, then get started classifying."
   ]
  },
  {
   "cell_type": "code",
   "execution_count": 99,
   "metadata": {},
   "outputs": [
    {
     "data": {
      "text/plain": [
       "<matplotlib.axes._subplots.AxesSubplot at 0x2aab7f749eb8>"
      ]
     },
     "execution_count": 99,
     "metadata": {},
     "output_type": "execute_result"
    }
   ],
   "source": [
    "sns.violinplot(data=df_cov, x='Cover_Type', y='Horizontal_Distance_To_Hydrology')"
   ]
  },
  {
   "cell_type": "code",
   "execution_count": 100,
   "metadata": {},
   "outputs": [
    {
     "data": {
      "text/plain": [
       "<matplotlib.axes._subplots.AxesSubplot at 0x2aab7f749eb8>"
      ]
     },
     "execution_count": 100,
     "metadata": {},
     "output_type": "execute_result"
    }
   ],
   "source": [
    "sns.violinplot(data=df_cov, x='Cover_Type', y='Vertical_Distance_To_Hydrology')"
   ]
  },
  {
   "cell_type": "markdown",
   "metadata": {},
   "source": [
    "These plots aren't overly interesting, except that we may note that cover type 4 has base-heavy distributions, and cover types 2 and 7 have heavy-tailed distributions.\n",
    "\n",
    "One thing that likely will be interesting, and possibly important for balancing purposes, is to visualize the proportions of some of our categorical variables."
   ]
  },
  {
   "cell_type": "code",
   "execution_count": 101,
   "metadata": {},
   "outputs": [
    {
     "data": {
      "text/plain": [
       "<matplotlib.axes._subplots.AxesSubplot at 0x2aab7f749eb8>"
      ]
     },
     "execution_count": 101,
     "metadata": {},
     "output_type": "execute_result"
    }
   ],
   "source": [
    "soil_types = ['Soil_Type' + str(i) for i in range(1,41)]\n",
    "\n",
    "soil_counts = pd.DataFrame(np.zeros((len(soil_types), 2)), index=soil_types, columns=['type_soil', 'count'])\n",
    "soil_counts['type_soil'] = range(1,41)\n",
    "for soil in soil_types:\n",
    "    soil_counts.loc[soil, 'count'] = df_cov[soil].sum() / df_cov[soil].count()\n",
    "    \n",
    "sns.barplot(data=soil_counts, x='type_soil', y='count')"
   ]
  },
  {
   "cell_type": "code",
   "execution_count": 102,
   "metadata": {},
   "outputs": [
    {
     "data": {
      "text/plain": [
       "<matplotlib.axes._subplots.AxesSubplot at 0x2aab7f749eb8>"
      ]
     },
     "execution_count": 102,
     "metadata": {},
     "output_type": "execute_result"
    }
   ],
   "source": [
    "area_types = ['Wilderness_Area' + str(i) for i in range(1,5)]\n",
    "\n",
    "area_counts = pd.DataFrame(np.zeros((len(area_types), 2)), index=area_types, columns=['type_area', 'count'])\n",
    "area_counts['type_area'] = range(1,5)\n",
    "for area in area_types:\n",
    "    area_counts.loc[area, 'count'] = df_cov[area].sum() / df_cov[area].count()\n",
    "    \n",
    "sns.barplot(data=area_counts, x='type_area', y='count')"
   ]
  },
  {
   "cell_type": "code",
   "execution_count": 103,
   "metadata": {},
   "outputs": [
    {
     "data": {
      "text/plain": [
       "<matplotlib.axes._subplots.AxesSubplot at 0x2aab7f749eb8>"
      ]
     },
     "execution_count": 103,
     "metadata": {},
     "output_type": "execute_result"
    }
   ],
   "source": [
    "sns.countplot(data=df_cov, x='Cover_Type')"
   ]
  },
  {
   "cell_type": "markdown",
   "metadata": {},
   "source": [
    "It appears as though our prediction classes are horribly unbalanced. This will need to be corrected for at some point, and may require the use of a different evaluation metric than just accuracy. \n",
    "\n",
    "One other thing that is apparent from the larger heatmap (though perhaps difficult to see) is that wilderness area and cover type are somewhat related. Let's pull up this relationship so we can visualize it."
   ]
  },
  {
   "cell_type": "code",
   "execution_count": 104,
   "metadata": {},
   "outputs": [
    {
     "data": {
      "text/plain": [
       "<matplotlib.axes._subplots.AxesSubplot at 0x2aab8f077860>"
      ]
     },
     "execution_count": 104,
     "metadata": {},
     "output_type": "execute_result"
    }
   ],
   "source": [
    "import re\n",
    "\n",
    "# based on code from https://github.com/eclarson/MachineLearningNotebooks/blob/master/03.%20DataVisualization.ipynb\n",
    "\n",
    "areas = df_cov.filter(['Wilderness_Area1', 'Wilderness_Area2', \n",
    "                       'Wilderness_Area3', 'Wilderness_Area4'])\n",
    "areas['Area'] = areas.idxmax(1).apply(lambda phrase : re.search(r'\\d', phrase).group())\n",
    "\n",
    "areas_by_type = pd.crosstab([areas['Area']], df_cov['Cover_Type'])\n",
    "\n",
    "cover_rate = areas_by_type.div(areas_by_type.sum(axis=1).astype(float),\n",
    "                               axis=0) # normalize the value\n",
    "\n",
    "# print survival_rate\n",
    "cover_rate.plot(kind='barh', stacked=True)"
   ]
  },
  {
   "cell_type": "markdown",
   "metadata": {},
   "source": [
    "Here, we see that, indeed, the distributions of cover type are very different among the wilderness areas. In particular, the modes for most of the wilderness areas (which we will use as our baseline are very different, with 1 being most prevalent in area 2, type 2 being most frequent in areas 1 and 3, and type 3 in area 4. As mentioned in the introduction, this is what our baseline will be based on."
   ]
  },
  {
   "cell_type": "code",
   "execution_count": 105,
   "metadata": {},
   "outputs": [
    {
     "data": {
      "text/plain": [
       "<matplotlib.axes._subplots.AxesSubplot at 0x2aab8f077860>"
      ]
     },
     "execution_count": 105,
     "metadata": {},
     "output_type": "execute_result"
    }
   ],
   "source": [
    "sns.distplot(df_cov.Elevation)"
   ]
  },
  {
   "cell_type": "code",
   "execution_count": 106,
   "metadata": {},
   "outputs": [
    {
     "data": {
      "text/plain": [
       "<matplotlib.axes._subplots.AxesSubplot at 0x2aab8f077860>"
      ]
     },
     "execution_count": 106,
     "metadata": {},
     "output_type": "execute_result"
    }
   ],
   "source": [
    "sns.distplot(df_cov.Aspect)"
   ]
  },
  {
   "cell_type": "code",
   "execution_count": 107,
   "metadata": {},
   "outputs": [
    {
     "data": {
      "text/plain": [
       "<matplotlib.axes._subplots.AxesSubplot at 0x2aab8f077860>"
      ]
     },
     "execution_count": 107,
     "metadata": {},
     "output_type": "execute_result"
    }
   ],
   "source": [
    "sns.distplot(df_cov.Slope)"
   ]
  },
  {
   "cell_type": "markdown",
   "metadata": {},
   "source": [
    "These distributions don't tell us much. Everything is pretty nicely distributed, with no egregious spikes or extreme values.\n",
    "\n",
    "This is probably enough that we can get started on our actual analysis. Let's divide up the set in data and target, then get on with it."
   ]
  },
  {
   "cell_type": "code",
   "execution_count": 108,
   "metadata": {
    "collapsed": true
   },
   "outputs": [],
   "source": [
    "cov_data = np.array(df_cov.drop('Cover_Type', axis=1))\n",
    "cov_target = np.array(df_cov.Cover_Type)"
   ]
  },
  {
   "cell_type": "markdown",
   "metadata": {},
   "source": [
    "## Model Evaluation"
   ]
  },
  {
   "cell_type": "markdown",
   "metadata": {},
   "source": [
    "Before we do anything else, we should decide how we will evaluate our model once it is actually built. First, let's construct our baseline."
   ]
  },
  {
   "cell_type": "code",
   "execution_count": 109,
   "metadata": {
    "collapsed": true
   },
   "outputs": [],
   "source": [
    "area_cov = {'1':2, '2':1, '3':1, '4':3}\n",
    "area_to_cov = lambda area : area_cov[area]\n",
    "\n",
    "baseline = areas.Area.apply(area_to_cov)"
   ]
  },
  {
   "cell_type": "markdown",
   "metadata": {},
   "source": [
    "### Picking a Metric"
   ]
  },
  {
   "cell_type": "code",
   "execution_count": 110,
   "metadata": {
    "collapsed": true
   },
   "outputs": [],
   "source": [
    "from sklearn.metrics import accuracy_score, f1_score"
   ]
  },
  {
   "cell_type": "code",
   "execution_count": 111,
   "metadata": {},
   "outputs": [
    {
     "data": {
      "text/plain": [
       "<matplotlib.axes._subplots.AxesSubplot at 0x2aab8f077860>"
      ]
     },
     "execution_count": 111,
     "metadata": {},
     "output_type": "execute_result"
    }
   ],
   "source": [
    "# a plot from earlier\n",
    "\n",
    "sns.countplot(data=df_cov, x='Cover_Type')"
   ]
  },
  {
   "cell_type": "markdown",
   "metadata": {},
   "source": [
    "We saw this plot earlier, in the exploratory stages of the analysis, but it bears recreating it here. Because our classes are so imbalanced, an evaluation metric like accuracy is not going to be appropriate for this analysis.\n",
    "\n",
    "To demonstrate this, let's hypothesize a classifier that always predicts classes $1$ and $2$ correctly."
   ]
  },
  {
   "cell_type": "code",
   "execution_count": 112,
   "metadata": {
    "collapsed": true
   },
   "outputs": [],
   "source": [
    "import warnings\n",
    "warnings.filterwarnings('ignore')"
   ]
  },
  {
   "cell_type": "code",
   "execution_count": 113,
   "metadata": {},
   "outputs": [
    {
     "name": "stdout",
     "output_type": "stream",
     "text": [
      "Accuracy if we always predict 1 and 2 correctly is: 0.8522044295126434\n"
     ]
    }
   ],
   "source": [
    "high_accuracy = np.array(cov_target)\n",
    "high_accuracy[high_accuracy > 2] = 0\n",
    "\n",
    "print('Accuracy if we always predict 1 and 2 correctly is: {}'.format(accuracy_score(cov_target, high_accuracy)))"
   ]
  },
  {
   "cell_type": "code",
   "execution_count": 114,
   "metadata": {},
   "outputs": [
    {
     "name": "stdout",
     "output_type": "stream",
     "text": [
      "Baseline accuracy: 0.4712019717320813\n"
     ]
    }
   ],
   "source": [
    "print('Baseline accuracy: {}'.format(accuracy_score(cov_target, baseline)))"
   ]
  },
  {
   "cell_type": "markdown",
   "metadata": {},
   "source": [
    "Accuracy would tell us that this actually a pretty good classifier. It certainly beats the baseline by a wide margin. But let's try another popular metric, the $f_1$ score with a macro average."
   ]
  },
  {
   "cell_type": "code",
   "execution_count": 115,
   "metadata": {},
   "outputs": [
    {
     "name": "stdout",
     "output_type": "stream",
     "text": [
      "F-1 if we always predict 1 and 2 correctly is: 0.25\n",
      "Baseline F1: 0.2223035013816097\n"
     ]
    }
   ],
   "source": [
    "print('F-1 if we always predict 1 and 2 correctly is: {}'.format(f1_score(cov_target, high_accuracy, average='macro')))\n",
    "print('Baseline F1: {}'.format(f1_score(cov_target, baseline, average='macro')))"
   ]
  },
  {
   "cell_type": "markdown",
   "metadata": {},
   "source": [
    "As the f-1 score is designed to track both false positive and false negative rates, (and the macro average method tracks classes separately) it gives a more holistic view of the underlying understanding that neither of these classifiers is particularly good. The other consideration we should account for is other tpes of averaging schemes for the f-1 score."
   ]
  },
  {
   "cell_type": "code",
   "execution_count": 116,
   "metadata": {},
   "outputs": [
    {
     "name": "stdout",
     "output_type": "stream",
     "text": [
      "F-1 if we always predict 1 and 2 correctly is: 0.8522044295126434\n",
      "Baseline F1: 0.454648848528167\n"
     ]
    }
   ],
   "source": [
    "print('F-1 if we always predict 1 and 2 correctly is: {}'.format(f1_score(cov_target, high_accuracy, average='weighted')))\n",
    "print('Baseline F1: {}'.format(f1_score(cov_target, baseline, average='weighted')))"
   ]
  },
  {
   "cell_type": "code",
   "execution_count": 117,
   "metadata": {},
   "outputs": [
    {
     "name": "stdout",
     "output_type": "stream",
     "text": [
      "F-1 if we always predict 1 and 2 correctly is: 0.8522044295126434\n",
      "Baseline F1: 0.47120197173208134\n"
     ]
    }
   ],
   "source": [
    "print('F-1 if we always predict 1 and 2 correctly is: {}'.format(f1_score(cov_target, high_accuracy, average='micro')))\n",
    "print('Baseline F1: {}'.format(f1_score(cov_target, baseline, average='micro')))"
   ]
  },
  {
   "cell_type": "markdown",
   "metadata": {},
   "source": [
    "Unfortunately, in an attempt to account for unbalanced classes, each of these metrics loses the information we would like to pick up on regarding misclassification of less frequent classes.\n",
    "\n",
    "It is for this reason that we will decide on the macro $f_1$ score as our metric of choice."
   ]
  },
  {
   "cell_type": "markdown",
   "metadata": {},
   "source": [
    "### Picking a Cross-Validation Scheme"
   ]
  },
  {
   "cell_type": "markdown",
   "metadata": {},
   "source": [
    "Once again, we are haunted by the curse of unbalanced classes. This means that we will definitely need to use a more sophisticated method than simple k-fold validation. Since we have a larger dataset, it is likely impractical to do something along the lines of a shuffle-split, but we should certainly ensure that our method is stratified to ensure even class distributions. We will use all the default options for fold numbers, test sizes, etc. However, we will also break off $20\\%$ of the data as a separate test set for final model evaluation."
   ]
  },
  {
   "cell_type": "code",
   "execution_count": 118,
   "metadata": {
    "collapsed": true
   },
   "outputs": [],
   "source": [
    "from sklearn.model_selection import StratifiedKFold, train_test_split\n",
    "\n",
    "cv = StratifiedKFold\n",
    "\n",
    "X_train, y_train, X_test, y_test = train_test_split(cov_data, cov_target)"
   ]
  },
  {
   "cell_type": "markdown",
   "metadata": {},
   "source": [
    "## Multi-Layer Perceptron"
   ]
  },
  {
   "cell_type": "markdown",
   "metadata": {},
   "source": [
    "### Building the Perceptron"
   ]
  },
  {
   "cell_type": "code",
   "execution_count": 119,
   "metadata": {
    "collapsed": true
   },
   "outputs": [],
   "source": [
    "from scipy.special import expit\n",
    "\n",
    "# based on code from https://github.com/eclarson/MachineLearningNotebooks/blob/master/07.%20MLP%20Neural%20Networks.ipynb with heavy adaption\n",
    "\n",
    "class MultiLayerPerceptron:\n",
    "\n",
    "    \n",
    "    def __init__(self, n_hidden=1, size_hidden=30, C=0, epochs=200, \n",
    "                 alpha=0.001, phi='relu', cost='cross-entropy'):\n",
    "        self.n_layers = n_hidden + 1\n",
    "        self.size_hidden = size_hidden\n",
    "        self.C = C\n",
    "        self.epochs = epochs\n",
    "        self.alpha = alpha\n",
    "        \n",
    "        if phi in ['sigmoid', 'linear', 'relu', 'silu']:\n",
    "            self.phi = phi\n",
    "        else:\n",
    "            raise ValueError('Not a valid option for attribute \\'phi.\\'')\n",
    "        \n",
    "        if cost in ['cross-entropy', 'mse']:\n",
    "            self.cost = cost     \n",
    "        else:\n",
    "            raise ValueError('Not a valid option for attribute \\'cost.\\'')\n",
    "\n",
    "            \n",
    "            \n",
    "    def _activation(self, z):\n",
    "        if self.phi == 'sigmoid':\n",
    "            return expit(z)\n",
    "        elif self.phi == 'linear':\n",
    "            return z\n",
    "        elif self.phi == 'relu':\n",
    "            return z * (z > 0)\n",
    "        elif self.phi == 'silu':\n",
    "            return z * expit(z)\n",
    "        else:\n",
    "            raise ValueError('This phi function has not yet been implemented.')\n",
    "\n",
    "            \n",
    "            \n",
    "    @staticmethod\n",
    "    def _encode_labels(y):\n",
    "        return pd.get_dummies(y).values.T\n",
    "\n",
    "    \n",
    "    \n",
    "    @staticmethod\n",
    "    def _add_bias(X, how='column'):\n",
    "        if how == 'column':\n",
    "            return np.hstack([np.ones((X.shape[0], 1)), X])\n",
    "        elif how == 'row':\n",
    "            return np.vstack([np.ones((1, X.shape[1])), X])\n",
    "        else:\n",
    "            raise ValueError('Invalid value for parameter \\'how\\'')\n",
    "\n",
    "            \n",
    "            \n",
    "    def _forward_grad(self, A):\n",
    "        if self.phi == 'sigmoid':\n",
    "            return A * (1 - A)\n",
    "        elif self.phi == 'linear':\n",
    "            return np.ones(A.shape)\n",
    "        elif self.phi == 'relu':\n",
    "            return np.ones(A.shape) * (A > 0)\n",
    "        elif self.phi == 'silu':\n",
    "            return expit(A) + A * expit(A) * (1 - expit(A))\n",
    "        else:\n",
    "            raise ValueError('The value for the \\'phi\\' attribute has come to be something it should not be.')\n",
    "\n",
    "            \n",
    "            \n",
    "    def _cost_grad(self, A, Y):\n",
    "        if self.cost == 'mse':\n",
    "            return -2 * (Y - A) * self._forward_grad(A)\n",
    "        elif self.cost == 'cross-entropy':\n",
    "            return A - Y\n",
    "        else:\n",
    "            raise NotImplementedError('This cost gradient has not yet been implemented')\n",
    "\n",
    "            \n",
    "            \n",
    "    def _get_gradient(self, results, outputs, Y):\n",
    "        sensitivity = self.network_.copy()\n",
    "\n",
    "        sensitivity[-1] = self._cost_grad(results[-1], Y)\n",
    "        \n",
    "        self.grads_[-1] = sensitivity[-1] @ results[-2].T\n",
    "        self.grads_[-1] += self.network_[-1] * self.C\n",
    "        \n",
    "        for i in range(-2, -self.n_layers, -1):\n",
    "            if i == -2:\n",
    "                sensitivity[i] = (self._forward_grad(results[i]) * \n",
    "                                  (self.network_[i+1].T @ sensitivity[i+1]))\n",
    "            else:\n",
    "                sensitivity[i] = (self._forward_grad(results[i]) * \n",
    "                                  (self.network_[i+1].T @ sensitivity[i+1][1:,:]))\n",
    "            self.grads_[i] = sensitivity[i][1:,:] @ results[i-1].T\n",
    "            self.grads_[i][:,1:] += self.network_[i][:,1:] * self.C\n",
    "        for i in range(self.n_layers):\n",
    "            if np.any(np.isnan(self.network_[i])):\n",
    "                raise OverflowError('One or more of the training gradients blew up.')\n",
    "\n",
    "            \n",
    "            \n",
    "    def _feedforward(self, X):\n",
    "        result = []\n",
    "        outputs = []\n",
    "        \n",
    "        A = self._add_bias(X, how='column').T\n",
    "        result.append(A)\n",
    "        for i in range(self.n_layers - 1):\n",
    "            Z = self.network_[i] @ A\n",
    "            A = self._add_bias(self._activation(Z), how='row')\n",
    "            outputs.append(Z)\n",
    "            result.append(A)\n",
    "        Z = self.network_[self.n_layers - 1] @ A\n",
    "        \n",
    "        if self.phi == 'relu':\n",
    "            A = expit(Z)\n",
    "        else:\n",
    "            A = self._activation(Z)\n",
    "        \n",
    "        outputs.append(Z)\n",
    "        result.append(A)\n",
    "\n",
    "        return result, outputs\n",
    "\n",
    "    \n",
    "    \n",
    "    def _random_weights(self, phi, dim1, dim2):\n",
    "        if phi != 'glorot_final':\n",
    "            bound = np.sqrt(6 / (dim1 + dim2 + 1))\n",
    "            w_mat = np.random.uniform(-bound, bound, (dim1, dim2+1))\n",
    "        else:\n",
    "            bound = np.sqrt(2 / (dim1 + dim2 + 1))\n",
    "            w_mat = np.random.uniform(-bound, bound, (dim1, dim2+1))\n",
    "        return w_mat\n",
    "    \n",
    "    \n",
    "    \n",
    "    def _initialize_weights(self):\n",
    "        network = []        \n",
    "        if self.n_layers == 1:\n",
    "            network.append(self._random_weights(self.phi, self.classes, \n",
    "                                                self.features))            \n",
    "        else:\n",
    "            network.append(self._random_weights(self.phi, self.size_hidden,\n",
    "                                                self.features))            \n",
    "            for i in range(1, self.n_layers-1):\n",
    "                network.append(self._random_weights(self.phi, self.size_hidden,\n",
    "                                                   self.size_hidden))                \n",
    "            network.append(self._random_weights('glorot_final', self.classes,\n",
    "                                                self.size_hidden))\n",
    "            \n",
    "        self.network_ = network\n",
    "        self.grads_ = network.copy()\n",
    "    \n",
    "\n",
    "    \n",
    "    def _cost(self, result_final, y):\n",
    "        if self.cost == 'mse':\n",
    "            return np.mean((y-result_final)**2)\n",
    "        elif self.cost == 'cross-entropy':\n",
    "            return -np.mean(y * np.log(result_final) + (1-y) * np.log(1 - result_final))\n",
    "        else:\n",
    "            raise ValueError('Check which cost function you are using.')\n",
    "    \n",
    "    \n",
    "    \n",
    "    def fit(self, X, y, test_sets=None, show_cost=False, print_progress=False):\n",
    "        Xcopy = X.copy()\n",
    "        Ycopy = self._encode_labels(y.copy())\n",
    "\n",
    "        self.features = X.shape[1]\n",
    "        self.classes = Ycopy.shape[0]       \n",
    "        self._initialize_weights()\n",
    "\n",
    "        if show_cost is True:\n",
    "            cost_log = []\n",
    "        \n",
    "        for i in range(self.epochs):\n",
    "            result, outputs = self._feedforward(Xcopy)\n",
    "            self._get_gradient(result, outputs, Ycopy)\n",
    "\n",
    "            if show_cost is True:\n",
    "                if test_sets == None:\n",
    "                    cost_log.append(self._cost(result[-1], Ycopy))\n",
    "                else:\n",
    "                    cost_result, _ = self._feedforward(test_sets[0])\n",
    "                    cost_log.append(self._cost(cost_result[-1], test_sets[1]))\n",
    "                \n",
    "            if print_progress is True:\n",
    "                sys.stderr.write('\\rEpoch: {}/{}'.format(i+1, self.epochs))\n",
    "                sys.stderr.flush()\n",
    "                \n",
    "            for j in range(self.n_layers): \n",
    "                self.network_[j] -= self.alpha * self.grads_[j]\n",
    "                \n",
    "        if show_cost is True:\n",
    "            if test_sets == None:\n",
    "                which_score = 'Training'\n",
    "            else:\n",
    "                which_score = 'Validation'\n",
    "            plt.plot(np.arange(len(cost_log)), np.array(cost_log))\n",
    "            plt.title('{} {} Cost by Epoch on {} network'.format(which_score, self.cost.upper(), self.phi.upper()))\n",
    "            plt.xlim(0,self.epochs)\n",
    "            plt.ylim(0)\n",
    "            plt.xlabel('Epochs')\n",
    "            plt.ylabel('{} cost'.format(which_score))\n",
    "            plt.show()\n",
    "            \n",
    "            \n",
    "    \n",
    "    def predict(self, X):\n",
    "        result, _ = self._feedforward(X)\n",
    "        yhat = np.argmax(result[-1], axis=0)\n",
    "        return yhat"
   ]
  },
  {
   "cell_type": "markdown",
   "metadata": {},
   "source": [
    "### Testing the Perceptron"
   ]
  },
  {
   "cell_type": "markdown",
   "metadata": {},
   "source": [
    "Now that we have the code for the multi-layer perceptron, let's do a quick check to make sure it actually works. We'll test each cost function/activation function combination on the iris dataset to make sure they all at least learn, hopefully well."
   ]
  },
  {
   "cell_type": "code",
   "execution_count": 120,
   "metadata": {
    "collapsed": true
   },
   "outputs": [],
   "source": [
    "from sklearn.datasets import load_iris\n",
    "iris = load_iris()"
   ]
  },
  {
   "cell_type": "code",
   "execution_count": 121,
   "metadata": {},
   "outputs": [
    {
     "data": {
      "text/plain": [
       "array([[-1.29780509, -0.93515698, -1.48281978, ..., -0.15601398,\n",
       "        -0.12365355,  2.11136619],\n",
       "       [-1.31923485, -0.89047967, -1.61636259, ..., -0.15601398,\n",
       "        -0.12365355,  2.11136619],\n",
       "       [-0.5549068 , -0.14883628, -0.68156292, ..., -0.15601398,\n",
       "        -0.12365355, -0.03685673],\n",
       "       ..., \n",
       "       [-2.04784663,  0.02987297,  0.38677957, ..., -0.15601398,\n",
       "        -0.12365355,  0.67921758],\n",
       "       [-2.05498988,  0.12816306,  0.11969395, ..., -0.15601398,\n",
       "        -0.12365355,  0.67921758],\n",
       "       [-2.05856151,  0.08348575, -0.14739167, ..., -0.15601398,\n",
       "        -0.12365355,  0.67921758]])"
      ]
     },
     "metadata": {},
     "output_type": "display_data"
    },
    {
     "data": {
      "text/plain": [
       "array([5, 5, 2, ..., 3, 3, 3])"
      ]
     },
     "metadata": {},
     "output_type": "display_data"
    }
   ],
   "source": [
    "display(cov_scaled, cov_target)"
   ]
  },
  {
   "cell_type": "code",
   "execution_count": 122,
   "metadata": {
    "scrolled": false
   },
   "outputs": [
    {
     "name": "stderr",
     "output_type": "stream",
     "text": [
      "Epoch: 100/100"
     ]
    },
    {
     "data": {
      "image/png": "[encoded data removed]",
      "text/plain": [
       "<matplotlib.figure.Figure at 0x2aab7f648438>"
      ]
     },
     "metadata": {},
     "output_type": "display_data"
    },
    {
     "data": {
      "image/png": "[encoded data removed]",
      "text/plain": [
       "<matplotlib.figure.Figure at 0x2aab7f719780>"
      ]
     },
     "metadata": {},
     "output_type": "display_data"
    },
    {
     "name": "stderr",
     "output_type": "stream",
     "text": [
      "Epoch: 100/100"
     ]
    },
    {
     "name": "stdout",
     "output_type": "stream",
     "text": [
      "F1 score on iris training set is 0.7937777777777777\n"
     ]
    },
    {
     "data": {
      "image/png": "[encoded data removed]",
      "text/plain": [
       "<matplotlib.figure.Figure at 0x2aab7f7a0d68>"
      ]
     },
     "metadata": {},
     "output_type": "display_data"
    },
    {
     "name": "stderr",
     "output_type": "stream",
     "text": [
      "Epoch: 93/100"
     ]
    },
    {
     "name": "stdout",
     "output_type": "stream",
     "text": [
      "F1 score on iris training set is 0.8386750386750387\n"
     ]
    },
    {
     "name": "stderr",
     "output_type": "stream",
     "text": [
      "Epoch: 100/100"
     ]
    },
    {
     "data": {
      "image/png": "[encoded data removed]",
      "text/plain": [
       "<matplotlib.figure.Figure at 0x2aab8f0eb198>"
      ]
     },
     "metadata": {},
     "output_type": "display_data"
    },
    {
     "name": "stderr",
     "output_type": "stream",
     "text": [
      "Epoch: 66/100"
     ]
    },
    {
     "name": "stdout",
     "output_type": "stream",
     "text": [
      "F1 score on iris training set is 0.9198717948717948\n"
     ]
    },
    {
     "name": "stderr",
     "output_type": "stream",
     "text": [
      "Epoch: 100/100"
     ]
    },
    {
     "data": {
      "image/png": "[encoded data removed]",
      "text/plain": [
       "<matplotlib.figure.Figure at 0x2aab7f5e9eb8>"
      ]
     },
     "metadata": {},
     "output_type": "display_data"
    },
    {
     "name": "stderr",
     "output_type": "stream",
     "text": [
      "Epoch: 89/100"
     ]
    },
    {
     "name": "stdout",
     "output_type": "stream",
     "text": [
      "F1 score on iris training set is 0.9402633596693003\n"
     ]
    },
    {
     "name": "stderr",
     "output_type": "stream",
     "text": [
      "Epoch: 100/100"
     ]
    },
    {
     "data": {
      "image/png": "[encoded data removed]",
      "text/plain": [
       "<matplotlib.figure.Figure at 0x2aab8f0f7630>"
      ]
     },
     "metadata": {},
     "output_type": "display_data"
    },
    {
     "name": "stderr",
     "output_type": "stream",
     "text": [
      "Epoch: 99/100"
     ]
    },
    {
     "name": "stdout",
     "output_type": "stream",
     "text": [
      "F1 score on iris training set is 0.5503819650837681\n"
     ]
    },
    {
     "name": "stderr",
     "output_type": "stream",
     "text": [
      "\r",
      "Epoch: 100/100"
     ]
    },
    {
     "data": {
      "image/png": "[encoded data removed]",
      "text/plain": [
       "<matplotlib.figure.Figure at 0x2aab7f742ba8>"
      ]
     },
     "metadata": {},
     "output_type": "display_data"
    },
    {
     "name": "stderr",
     "output_type": "stream",
     "text": [
      "Epoch: 99/100"
     ]
    },
    {
     "name": "stdout",
     "output_type": "stream",
     "text": [
      "F1 score on iris training set is 0.8457172457172458\n"
     ]
    },
    {
     "name": "stderr",
     "output_type": "stream",
     "text": [
      "\r",
      "Epoch: 100/100"
     ]
    },
    {
     "data": {
      "image/png": "[encoded data removed]",
      "text/plain": [
       "<matplotlib.figure.Figure at 0x2aab7f25afd0>"
      ]
     },
     "metadata": {},
     "output_type": "display_data"
    },
    {
     "name": "stderr",
     "output_type": "stream",
     "text": [
      "Epoch: 68/100"
     ]
    },
    {
     "name": "stdout",
     "output_type": "stream",
     "text": [
      "F1 score on iris training set is 0.96\n"
     ]
    },
    {
     "name": "stderr",
     "output_type": "stream",
     "text": [
      "Epoch: 100/100"
     ]
    },
    {
     "data": {
      "image/png": "[encoded data removed]",
      "text/plain": [
       "<matplotlib.figure.Figure at 0x2aab8f01da90>"
      ]
     },
     "metadata": {},
     "output_type": "display_data"
    },
    {
     "name": "stdout",
     "output_type": "stream",
     "text": [
      "F1 score on iris training set is 0.8805214449544346\n"
     ]
    }
   ],
   "source": [
    "from sklearn.preprocessing import StandardScaler\n",
    "\n",
    "iris_dat = StandardScaler().fit_transform(iris.data)\n",
    "\n",
    "for cost in ['cross-entropy', 'mse']:\n",
    "    for activ in ['sigmoid', 'linear', 'relu', 'silu']:\n",
    "        mlp = MultiLayerPerceptron(n_hidden=2, size_hidden=20, epochs=100, phi=activ, alpha=0.001, cost=cost)\n",
    "\n",
    "        mlp.fit(iris_dat, iris.target, print_progress=True, show_cost=True)\n",
    "        print('F1 score on iris training set is {}'.format(f1_score(iris.target, mlp.predict(iris_dat), average='macro')))"
   ]
  },
  {
   "cell_type": "markdown",
   "metadata": {},
   "source": [
    "The whole thing appears to be at least passable. We will now proceed to  the analysis on our actual data."
   ]
  },
  {
   "cell_type": "code",
   "execution_count": 123,
   "metadata": {
    "collapsed": true
   },
   "outputs": [],
   "source": [
    "cov_scaled = StandardScaler().fit_transform(df_cov)"
   ]
  },
  {
   "cell_type": "markdown",
   "metadata": {},
   "source": [
    "First things first, let's just try running the MLP model on our data."
   ]
  },
  {
   "cell_type": "code",
   "execution_count": 124,
   "metadata": {},
   "outputs": [
    {
     "name": "stderr",
     "output_type": "stream",
     "text": [
      "Epoch: 10/10"
     ]
    },
    {
     "data": {
      "image/png": "[encoded data removed]",
      "text/plain": [
       "<matplotlib.figure.Figure at 0x2aab7f7a0a20>"
      ]
     },
     "metadata": {},
     "output_type": "display_data"
    },
    {
     "name": "stdout",
     "output_type": "stream",
     "text": [
      "F1 score on training set looks like 0.0763392339121479\n"
     ]
    }
   ],
   "source": [
    "mlp = MultiLayerPerceptron(alpha=0.001, \n",
    "                           n_hidden=2, size_hidden=10,\n",
    "                           phi='sigmoid', cost='mse',\n",
    "                          epochs=10)\n",
    "mlp.fit(cov_scaled, cov_target, show_cost=True, print_progress=True)\n",
    "\n",
    "\n",
    "\n",
    "print('F1 score on training set looks like {}'.format(\n",
    "    f1_score(cov_target, mlp.predict(cov_scaled), average='macro')))"
   ]
  },
  {
   "cell_type": "code",
   "execution_count": 125,
   "metadata": {},
   "outputs": [
    {
     "name": "stdout",
     "output_type": "stream",
     "text": [
      "[array([[  2.19257678e-01,  -5.09725424e-02,   5.31572841e-02,\n",
      "          2.30345902e-01,   7.78420319e-02,   3.29628205e-02,\n",
      "         -1.41738961e-01,   2.95898023e-01,   3.35509001e-03,\n",
      "         -1.02424513e-01,  -7.66766686e-02,  -4.04535317e-02,\n",
      "          2.13209324e-01,   2.63872869e-01,  -2.81393425e-01,\n",
      "          2.10664605e-02,  -1.65286921e-01,  -1.43809809e-01,\n",
      "         -2.49556813e-01,   2.97816090e-01,   2.58048410e-01,\n",
      "          2.40982170e-01,   1.75639629e-01,   8.82594035e-02,\n",
      "         -2.33605935e-01,   2.10299885e-01,   3.30227826e-02,\n",
      "         -2.99512922e-02,   1.97832045e-01,   1.39010819e-01,\n",
      "         -4.24179902e-02,   1.60400407e-01,   5.00113141e-02,\n",
      "         -2.17766270e-01,   2.58773403e-01,   1.47775021e-01,\n",
      "         -4.28760607e-02,   1.89303997e-01,   1.81457119e-01,\n",
      "         -1.42873166e-01,   3.44426650e-02,  -2.85825489e-01,\n",
      "          2.33545568e-01,   4.73126873e-02,   1.87470273e-01,\n",
      "         -1.87262124e-01,  -1.41962667e-02,   4.72237562e-02,\n",
      "          1.10180891e-01,  -1.76149659e-01,  -2.18127703e-01,\n",
      "          2.77519680e-01,  -2.57628501e-02,   1.01108899e-01,\n",
      "         -1.14876742e-01,   1.42541799e-02],\n",
      "       [ -3.50355210e-02,   2.81264483e-01,  -2.39936552e-01,\n",
      "          2.29381149e-01,  -2.91998061e-01,   1.74999070e-01,\n",
      "          1.62844073e-01,  -8.57447515e-02,   1.90695771e-01,\n",
      "         -2.37586835e-01,  -8.17499403e-02,  -1.99015623e-02,\n",
      "          7.23273195e-02,  -1.75930420e-01,  -2.90113395e-01,\n",
      "          1.87658398e-01,   2.59413946e-01,   2.76993199e-01,\n",
      "         -7.73954076e-02,   1.80738710e-01,  -2.17644213e-01,\n",
      "         -2.82357141e-01,  -3.53684740e-02,  -2.37672571e-01,\n",
      "          2.12496777e-01,   1.33901503e-01,  -2.12392278e-01,\n",
      "          2.37901173e-02,  -1.05706462e-02,   1.68289095e-01,\n",
      "          7.40694009e-02,   4.98597259e-02,   8.50163366e-02,\n",
      "          1.19741342e-01,   1.93651055e-01,   8.55462638e-02,\n",
      "         -3.74124831e-02,   2.06652291e-01,  -2.25837975e-01,\n",
      "         -2.75158508e-01,  -4.15242372e-02,   4.97984976e-02,\n",
      "          2.31507460e-01,  -2.84805581e-01,  -2.13017319e-01,\n",
      "         -2.37936713e-01,   2.26649337e-01,   1.18794804e-01,\n",
      "         -9.35598221e-02,   1.40780700e-01,   2.11854556e-01,\n",
      "          6.03674427e-02,   5.52844900e-02,  -2.23744072e-01,\n",
      "         -1.48574376e-01,   5.56480043e-02],\n",
      "       [ -4.07235911e-02,   5.18973133e-02,   2.91499013e-01,\n",
      "         -1.11805701e-01,   1.15713434e-01,  -2.07864681e-01,\n",
      "         -1.83479845e-01,  -4.10655545e-02,  -5.28852318e-02,\n",
      "         -1.97102024e-01,   1.60118104e-01,  -2.66401916e-02,\n",
      "         -1.06396420e-01,   1.77287542e-01,  -6.61930554e-02,\n",
      "         -1.88563192e-01,   1.44499775e-01,   2.35146753e-01,\n",
      "         -1.09693162e-01,  -1.82426573e-01,   2.39692900e-01,\n",
      "          2.54420749e-02,  -1.98173025e-01,  -1.05636347e-01,\n",
      "          1.95860360e-01,  -2.45814193e-01,   1.21902043e-01,\n",
      "         -1.40144075e-01,  -8.49584807e-02,  -2.88879769e-01,\n",
      "         -1.86353752e-01,  -7.42662835e-02,  -2.34136556e-01,\n",
      "          1.29746523e-01,   8.23319008e-03,  -2.92248295e-01,\n",
      "         -8.53279392e-02,  -1.59812005e-01,  -2.50063132e-01,\n",
      "         -1.24032690e-01,  -1.24505254e-01,   6.20233169e-02,\n",
      "          1.07791326e-01,   5.39041961e-02,  -9.47770860e-02,\n",
      "         -4.59843770e-02,   1.52039225e-01,   2.75376252e-01,\n",
      "          1.44903954e-01,  -1.45310230e-01,   2.75463517e-01,\n",
      "          2.53168968e-01,   1.17103217e-01,  -1.56865063e-01,\n",
      "         -2.28832189e-01,   1.12003330e-01],\n",
      "       [ -8.22231775e-02,  -1.42774311e-01,  -1.72882920e-01,\n",
      "         -2.90396405e-01,   8.87548044e-03,  -5.53753217e-02,\n",
      "          1.54819001e-01,   1.26979585e-01,  -7.71684957e-02,\n",
      "          3.83277828e-03,  -2.00320240e-01,   1.48350021e-01,\n",
      "         -2.92239161e-02,   2.57915316e-01,   1.88780025e-01,\n",
      "         -2.74048014e-01,   1.87649088e-01,  -1.85021110e-01,\n",
      "         -1.26434891e-01,  -2.58159932e-01,   1.81034473e-01,\n",
      "         -3.35674552e-02,  -1.64277197e-01,   5.50168565e-02,\n",
      "          1.77391970e-03,  -1.48921573e-01,  -1.70787065e-01,\n",
      "         -1.34740864e-01,  -2.79966712e-01,   1.27186586e-01,\n",
      "         -2.16700828e-01,  -2.31591556e-01,  -5.13606878e-02,\n",
      "          5.75490764e-02,   2.12704336e-01,  -2.37828747e-01,\n",
      "         -1.18675984e-01,  -1.39372798e-01,  -1.51451060e-01,\n",
      "          1.51853768e-01,  -1.51076568e-01,  -2.13678950e-01,\n",
      "          2.89806377e-02,  -1.63501325e-01,  -2.84002799e-01,\n",
      "         -1.09006733e-01,  -1.88435480e-04,  -1.79144321e-01,\n",
      "         -8.93006089e-02,  -6.13304438e-02,   1.27482659e-02,\n",
      "          2.51852048e-01,   1.50391379e-01,   1.03891520e-02,\n",
      "         -1.09153415e-01,  -5.94863171e-02],\n",
      "       [  2.29038091e-01,  -2.33068681e-01,   2.93510165e-01,\n",
      "          5.56641251e-02,  -1.35700114e-01,   1.86756555e-01,\n",
      "          1.08052592e-01,   2.32175296e-01,  -1.30788268e-01,\n",
      "          1.75864220e-01,  -9.89176056e-02,   1.39023319e-02,\n",
      "          2.63266492e-01,  -1.25099469e-01,   7.49253260e-03,\n",
      "          3.22546089e-02,  -4.00366161e-02,  -1.26602174e-01,\n",
      "         -6.55139770e-02,  -2.59938298e-01,  -1.67056526e-01,\n",
      "         -1.77035093e-01,   1.28740719e-01,  -3.66844273e-02,\n",
      "         -2.77251065e-02,   1.74638197e-01,  -2.77146605e-01,\n",
      "         -1.35980367e-01,  -3.73777347e-02,   1.48123985e-01,\n",
      "         -9.20516615e-02,   4.79040232e-02,   2.04028208e-01,\n",
      "         -2.95794468e-02,   7.07661922e-02,  -2.59131118e-01,\n",
      "         -1.31296015e-01,  -1.91017734e-01,  -2.84370168e-01,\n",
      "          1.68132679e-01,   6.50492485e-02,   1.45233828e-01,\n",
      "         -2.63160706e-01,   4.27496962e-02,  -1.64039577e-01,\n",
      "          2.88029363e-02,   2.10073230e-01,   7.59579916e-02,\n",
      "          2.81805654e-01,  -1.89645107e-01,   2.80421979e-01,\n",
      "         -1.37896509e-01,   1.03982074e-01,   4.89270166e-02,\n",
      "         -5.62852390e-02,   1.67778934e-01],\n",
      "       [  9.62963609e-02,  -1.06876721e-01,   2.96165796e-01,\n",
      "         -2.88459916e-01,  -2.13005174e-01,  -2.21788803e-01,\n",
      "         -1.08888901e-01,   1.76748322e-03,  -1.06041042e-01,\n",
      "          1.01219583e-01,  -1.37472268e-01,   9.06762584e-02,\n",
      "          1.83451595e-02,  -1.26185680e-01,   7.76980370e-02,\n",
      "         -1.91607658e-01,  -2.75035513e-02,  -1.48698255e-01,\n",
      "          1.00165404e-01,  -2.42779193e-01,  -8.96488786e-02,\n",
      "          2.47402248e-01,   1.66677034e-01,  -1.33675458e-01,\n",
      "         -1.91603812e-01,   1.96277339e-01,  -6.69561789e-02,\n",
      "         -6.99744245e-02,  -2.79485756e-01,   2.43009952e-01,\n",
      "         -2.19675000e-01,   1.19211933e-01,  -2.86432941e-01,\n",
      "          9.53948208e-02,   7.47265099e-02,  -2.91575889e-02,\n",
      "          3.72945058e-02,   1.69028187e-01,   5.88783077e-02,\n",
      "          1.13670331e-01,  -2.17069090e-01,  -1.88139950e-01,\n",
      "         -2.90090956e-02,  -1.81079346e-01,  -3.27747897e-02,\n",
      "         -1.61200556e-01,  -2.14354228e-01,  -2.15457425e-01,\n",
      "          2.82378461e-01,  -2.52606954e-01,   1.50441682e-01,\n",
      "          2.44253922e-01,  -1.67675447e-01,  -9.95166049e-02,\n",
      "         -1.67387778e-01,  -2.02841407e-01],\n",
      "       [  1.80677858e-01,  -2.26893191e-01,   8.21787890e-02,\n",
      "          1.55948500e-01,  -2.45120639e-01,  -3.58526037e-02,\n",
      "         -2.72985920e-01,   1.75580468e-01,   2.14150499e-01,\n",
      "         -6.57259449e-02,  -2.89416098e-02,  -3.52495910e-02,\n",
      "          1.76009275e-01,  -2.66599995e-01,  -2.81178441e-02,\n",
      "         -2.52867108e-01,   1.63782328e-01,  -1.17742392e-01,\n",
      "          3.99896188e-02,  -1.80724472e-01,  -1.41626331e-01,\n",
      "          9.52058447e-02,  -3.99536582e-02,   4.81246552e-02,\n",
      "         -2.68608323e-01,   1.36667861e-01,  -4.79943371e-02,\n",
      "          9.64871062e-02,   2.33392396e-01,  -2.93544156e-01,\n",
      "         -7.73676519e-02,  -1.81821293e-02,  -1.99589082e-01,\n",
      "         -2.12912692e-01,  -1.84523729e-01,   2.62060135e-01,\n",
      "         -2.68889495e-01,  -2.61825463e-01,  -2.79985321e-01,\n",
      "          2.12239631e-01,   8.65246285e-02,   2.87925560e-01,\n",
      "          1.55366391e-01,  -1.86338193e-01,   2.56548055e-01,\n",
      "         -5.66438696e-02,  -6.30712903e-02,  -4.29593213e-02,\n",
      "          2.73006192e-01,  -9.90086196e-02,  -2.54120271e-01,\n",
      "         -1.11028209e-02,  -3.29705739e-03,  -1.22635749e-01,\n",
      "         -9.67102980e-02,   3.98932742e-02],\n",
      "       [  4.80274682e-02,   1.65452489e-01,  -2.31314511e-01,\n",
      "         -2.93838375e-02,  -5.71126769e-02,  -1.86956256e-02,\n",
      "          1.73103373e-02,  -2.57659320e-01,   2.38788936e-01,\n",
      "          1.70806699e-01,  -2.74435644e-01,   2.40427161e-02,\n",
      "          2.09108310e-01,  -1.26810554e-01,  -1.75786987e-01,\n",
      "         -1.68169214e-01,  -3.16144031e-03,  -1.15839166e-02,\n",
      "          1.18381652e-01,   2.36826055e-01,  -1.52460461e-01,\n",
      "         -3.87923328e-03,   2.20403970e-01,  -2.09982936e-01,\n",
      "         -2.85484656e-01,  -2.78702033e-02,   1.25183688e-01,\n",
      "         -2.12003191e-01,  -1.67186762e-02,  -1.79544732e-01,\n",
      "         -1.06465533e-01,  -1.49305628e-01,   2.75464610e-01,\n",
      "          1.87912662e-01,  -2.09933958e-01,  -6.89212778e-02,\n",
      "          1.76601545e-02,   2.65549351e-01,  -7.44507228e-02,\n",
      "          2.31377806e-01,  -9.88371297e-02,   5.66225494e-02,\n",
      "          6.45744109e-02,   1.21799992e-01,  -1.22735739e-01,\n",
      "          1.06240811e-01,  -2.97591779e-01,  -1.38061794e-01,\n",
      "          1.07979739e-01,   1.54453889e-02,   5.90645923e-02,\n",
      "         -6.90477170e-02,   1.25434405e-01,   2.80572155e-01,\n",
      "          2.94395050e-01,   2.27161674e-02],\n",
      "       [ -2.04577382e-01,  -9.62972481e-02,   2.70436681e-01,\n",
      "         -2.63078855e-01,   2.34818493e-01,   1.90644757e-01,\n",
      "         -2.25074233e-01,   2.06723663e-02,   6.86589663e-02,\n",
      "          2.20391249e-01,   1.45592841e-01,  -8.83654280e-02,\n",
      "         -6.21155496e-02,  -1.25436468e-01,   1.18608174e-01,\n",
      "          1.45089970e-01,   1.86170025e-01,   2.16016559e-01,\n",
      "          2.54757416e-01,   1.77024959e-01,  -2.01254798e-01,\n",
      "         -2.87353781e-01,  -1.27325330e-01,  -2.09637174e-01,\n",
      "         -1.94252657e-01,   1.97434905e-01,   7.63531073e-02,\n",
      "          1.10558750e-01,   1.53918053e-01,   1.58800629e-01,\n",
      "         -2.14226499e-02,  -1.40006769e-01,  -1.94379129e-01,\n",
      "          2.17695472e-02,  -2.45072967e-01,  -2.36053081e-01,\n",
      "          2.19702053e-01,  -1.47983642e-01,   1.82159138e-01,\n",
      "          1.99204586e-01,   1.55835813e-01,   2.59173877e-01,\n",
      "         -1.66297312e-01,   1.02101601e-03,   9.23361233e-02,\n",
      "         -5.38220340e-02,   1.61901684e-01,  -1.98361127e-01,\n",
      "         -2.80833375e-02,  -1.74729375e-01,  -1.92610384e-01,\n",
      "          2.44914923e-02,   1.96169411e-01,   2.34001838e-01,\n",
      "         -1.45727321e-01,  -2.84852768e-01],\n",
      "       [  2.35808072e-01,  -6.47213913e-02,  -1.92339114e-01,\n",
      "         -1.99113018e-01,   2.88635282e-01,   1.57256126e-01,\n",
      "         -5.08788104e-02,  -2.03815116e-01,  -2.26510045e-01,\n",
      "         -2.14995975e-02,  -1.04736892e-01,   2.88482550e-01,\n",
      "         -7.87015617e-02,   2.60555551e-01,   2.02516514e-01,\n",
      "         -3.14411713e-02,   2.96777778e-01,  -3.57931750e-02,\n",
      "         -9.84056440e-02,  -6.13277116e-02,   2.23431659e-01,\n",
      "          1.98116532e-02,  -1.95408273e-01,   1.25143102e-01,\n",
      "          2.26482167e-02,  -1.86218280e-01,   2.00282987e-01,\n",
      "          2.91171715e-01,  -1.87859536e-01,  -1.59378762e-01,\n",
      "         -2.36485446e-01,   1.73218413e-01,   1.82700988e-01,\n",
      "          2.59978231e-01,  -2.59292319e-01,   2.40625299e-01,\n",
      "          2.20189670e-01,   2.82051229e-01,  -1.38512664e-01,\n",
      "          2.94955035e-01,   3.11239301e-02,   2.94678568e-01,\n",
      "         -1.23780457e-01,   1.87766274e-01,   1.42269848e-01,\n",
      "          2.93243714e-01,   4.28572261e-02,  -2.50885776e-01,\n",
      "         -7.80656417e-02,  -2.98100036e-01,   1.60859657e-01,\n",
      "          2.49130262e-01,   1.58299993e-01,   1.14252526e-01,\n",
      "          3.16913558e-02,   4.69697732e-02]]), array([[-21.97362238, -12.29412628, -10.47313076, -10.95705097,\n",
      "        -10.92120582, -11.72971996, -12.28349456, -11.07843927,\n",
      "        -11.80996347, -10.2576014 , -11.93465942],\n",
      "       [ -0.58789274,   0.06435811,  -0.53996359,  -0.62278918,\n",
      "         -0.91513504,   0.10551064,  -1.07856545,  -0.47310998,\n",
      "          0.1308218 ,  -0.91553324,   0.03744676],\n",
      "       [-16.3912253 ,  -8.77755003,  -7.54792043,  -7.9145536 ,\n",
      "         -8.0527066 ,  -9.19510888,  -8.37567516,  -8.72548375,\n",
      "         -7.92051846,  -6.98625136,  -9.07034075],\n",
      "       [  9.05226289,   4.69513875,   4.76994997,   4.08238784,\n",
      "          4.18019764,   5.26141978,   5.22355567,   4.3219516 ,\n",
      "          4.48216622,   3.64019864,   4.65760916],\n",
      "       [  1.96863228,   1.16332923,   1.40952599,   0.85789549,\n",
      "          1.68648299,   1.10111011,   1.99308171,   0.5829085 ,\n",
      "          1.66912309,   1.16091548,   1.19215872],\n",
      "       [  6.74505151,   3.74791247,   3.4221526 ,   4.13074381,\n",
      "          3.65457206,   3.62987834,   3.70267714,   3.73858161,\n",
      "          2.86689619,   3.10000649,   3.65259823],\n",
      "       [-14.5662181 ,  -8.32498151,  -6.80953582,  -6.93521936,\n",
      "         -6.83006061,  -8.304227  ,  -7.83510265,  -7.57628056,\n",
      "         -7.19164381,  -6.59464693,  -8.24068772],\n",
      "       [-10.9770607 ,  -5.99347562,  -4.37485906,  -5.74830078,\n",
      "         -5.01903533,  -5.94334368,  -5.4875001 ,  -6.01928852,\n",
      "         -4.21836919,  -4.74724744,  -5.86499246],\n",
      "       [  0.34211255,  -0.4940816 ,   0.3433195 ,  -0.14146655,\n",
      "          0.50400617,  -0.40803789,   0.53342579,  -0.49389882,\n",
      "          0.11382833,   0.42076972,   0.44508059],\n",
      "       [-12.36395904,  -6.64350823,  -6.11010152,  -6.28746769,\n",
      "         -5.71540385,  -6.1847746 ,  -6.30238466,  -6.24669169,\n",
      "         -6.04832255,  -6.07727039,  -6.53203139]]), array([[ -44.1102087 ,  -26.33201346,  -24.48075935,  -17.91022206,\n",
      "         -19.55482391,  -19.59304673,  -10.1603919 ,  -21.07920306,\n",
      "         -16.18042533,  -32.61855863,  -17.09439719],\n",
      "       [  33.03542272,   18.89753942,   17.89275988,   13.19771622,\n",
      "          14.0872887 ,   14.2730568 ,    7.582716  ,   15.60013075,\n",
      "          11.69853744,   24.23597629,   12.78276151],\n",
      "       [-134.02280504,  -76.91291858,  -72.74550223,  -51.49428861,\n",
      "         -58.93285173,  -57.97229631,  -29.90886294,  -64.42641934,\n",
      "         -51.56288821,  -99.92271665,  -49.14859881],\n",
      "       [-119.31492925,  -69.03099916,  -64.52871219,  -46.07422622,\n",
      "         -52.97698514,  -52.03282982,  -26.8453177 ,  -57.58666695,\n",
      "         -46.16150791,  -89.75322941,  -43.60938185],\n",
      "       [-164.18730084,  -94.347371  ,  -88.01874809,  -63.47246683,\n",
      "         -72.20275824,  -71.58682469,  -37.09273672,  -78.96628117,\n",
      "         -62.95790794, -123.33973709,  -60.21579896],\n",
      "       [ -54.71864833,  -31.57222683,  -29.35522727,  -21.14095296,\n",
      "         -23.83543362,  -23.80470833,  -12.1393008 ,  -26.48671941,\n",
      "         -21.19068855,  -40.87579096,  -19.76908879],\n",
      "       [-155.97778344,  -89.77218775,  -83.03507978,  -60.35428313,\n",
      "         -69.10899594,  -68.48294114,  -35.25325879,  -75.00780043,\n",
      "         -59.69795623, -117.46198554,  -57.14808128]])]\n"
     ]
    }
   ],
   "source": [
    "print(mlp.network_)"
   ]
  },
  {
   "cell_type": "markdown",
   "metadata": {},
   "source": [
    "### Hyperparameter Tuning"
   ]
  },
  {
   "cell_type": "code",
   "execution_count": 126,
   "metadata": {},
   "outputs": [],
   "source": [
    "from sklearn.metrics import make_scorer\n",
    "\n",
    "scorer = make_scorer(f1_score, average='macro')\n",
    "\n",
    "param_grid = {\n",
    "    'phi': ['sigmoid', 'linear', 'relu', 'silu'],\n",
    "    'cost': ['mse', 'cross-entropy'],\n",
    "    'n_hidden': [1,2,3]\n",
    "             }"
   ]
  },
  {
   "cell_type": "markdown",
   "metadata": {},
   "source": [
    "### Visualization of Gradients"
   ]
  },
  {
   "cell_type": "markdown",
   "metadata": {},
   "source": [
    "### Evaluating the Final Model"
   ]
  }
 ],
 "metadata": {
  "kernelspec": {
   "display_name": "Python 3",
   "language": "python",
   "name": "python3"
  },
  "language_info": {
   "codemirror_mode": {
    "name": "ipython",
    "version": 3
   },
   "file_extension": ".py",
   "mimetype": "text/x-python",
   "name": "python",
   "nbconvert_exporter": "python",
   "pygments_lexer": "ipython3",
   "version": "3.6.2"
  }
 },
 "nbformat": 4,
 "nbformat_minor": 2
}
