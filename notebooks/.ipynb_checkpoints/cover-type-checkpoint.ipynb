{
 "cells": [
  {
   "cell_type": "markdown",
   "metadata": {},
   "source": [
    "# Predicting Forest Coverage Type to Predict Ecological Shifts\n",
    "\n",
    "by: Carter Koehler"
   ]
  },
  {
   "cell_type": "markdown",
   "metadata": {},
   "source": [
    "## Data Description and Prediction Task"
   ]
  },
  {
   "cell_type": "markdown",
   "metadata": {},
   "source": [
    "This dataset contains information on the forest coverage types from the Roosevelt National Forest in Colorado. The data consists of $12$ explanatory variables related to cartographic measurements of a particular area and a categorical encoding of what type of tree cover that area has. In particular, it has features on:\n",
    "\n",
    "- elevation\n",
    "- grade of slope (slope)\n",
    "- direction of slope (aspect)\n",
    "- distance to water\n",
    "- distance to roads\n",
    "- distance to fire points\n",
    "- shade coverage at various times in the day\n",
    "- wilderness area\n",
    "- soil type\n",
    "\n",
    "All of the categorical data (with the exception of the target variable) has already been one-hot encoded, meaning the the data we are dealing with already has quite a few more than $12$ columns.\n",
    "\n",
    "All of this is well and good, but it begs the question why we would want to be able to predict the forest coverage of a particular block of forest. One possible application is as follows: If it happens that we are able to predict how a particular area of forest is covered, this gives us a good qualitative description of what flora is present in that area. However, if the cartographic features of that area were to change due to human or other influence, such that we would predict a different coverage type than is there currently, we should predict that that area is about to go through a severe ecological change. This will give administrators and rangers a chance to prepare for major changes in the forest's wildlife. Unfortunately, this application is difficult to test for directly, so we will settle for predicting the classes as is. Additionally, since we will be using this to test for changes in the environment, we will care as much about false negatives as false positives, since the precise classification will inform whether or nota change is correctly detected.\n",
    "\n",
    "This of course brings into question what we might use as a suitable baseline. We will see in the exploratory stages of the analysis that the distribution of cover type changes significantly between wilderness areas. We will use this to derive our baseline, which will predict the most frequent cover type for each wilderness area. For our algorithm to be considered as successfully fulfilling our task, it should be able to beat this baseline to within a statistically significant margin."
   ]
  },
  {
   "cell_type": "markdown",
   "metadata": {},
   "source": [
    "## Data Preparation"
   ]
  },
  {
   "cell_type": "code",
   "execution_count": 6,
   "metadata": {
    "collapsed": true
   },
   "outputs": [],
   "source": [
    "import numpy as np\n",
    "import pandas as pd\n",
    "import matplotlib.pyplot as plt\n",
    "import seaborn as sns\n",
    "\n",
    "from matplotlib import rcParams\n",
    "rcParams['figure.figsize'] = 10, 8\n",
    "rcParams['axes.grid'] = True\n",
    "\n",
    "import os\n",
    "import sys\n",
    "from pprint import pprint"
   ]
  },
  {
   "cell_type": "code",
   "execution_count": 7,
   "metadata": {},
   "outputs": [
    {
     "data": {
      "text/html": [
       "<div>\n",
       "<style>\n",
       "    .dataframe thead tr:only-child th {\n",
       "        text-align: right;\n",
       "    }\n",
       "\n",
       "    .dataframe thead th {\n",
       "        text-align: left;\n",
       "    }\n",
       "\n",
       "    .dataframe tbody tr th {\n",
       "        vertical-align: top;\n",
       "    }\n",
       "</style>\n",
       "<table border=\"1\" class=\"dataframe\">\n",
       "  <thead>\n",
       "    <tr style=\"text-align: right;\">\n",
       "      <th></th>\n",
       "      <th>Elevation</th>\n",
       "      <th>Aspect</th>\n",
       "      <th>Slope</th>\n",
       "      <th>Horizontal_Distance_To_Hydrology</th>\n",
       "      <th>Vertical_Distance_To_Hydrology</th>\n",
       "      <th>Horizontal_Distance_To_Roadways</th>\n",
       "      <th>Hillshade_9am</th>\n",
       "      <th>Hillshade_Noon</th>\n",
       "      <th>Hillshade_3pm</th>\n",
       "      <th>Horizontal_Distance_To_Fire_Points</th>\n",
       "      <th>...</th>\n",
       "      <th>Soil_Type32</th>\n",
       "      <th>Soil_Type33</th>\n",
       "      <th>Soil_Type34</th>\n",
       "      <th>Soil_Type35</th>\n",
       "      <th>Soil_Type36</th>\n",
       "      <th>Soil_Type37</th>\n",
       "      <th>Soil_Type38</th>\n",
       "      <th>Soil_Type39</th>\n",
       "      <th>Soil_Type40</th>\n",
       "      <th>Cover_Type</th>\n",
       "    </tr>\n",
       "  </thead>\n",
       "  <tbody>\n",
       "    <tr>\n",
       "      <th>count</th>\n",
       "      <td>581012.000000</td>\n",
       "      <td>581012.000000</td>\n",
       "      <td>581012.000000</td>\n",
       "      <td>581012.000000</td>\n",
       "      <td>581012.000000</td>\n",
       "      <td>581012.000000</td>\n",
       "      <td>581012.000000</td>\n",
       "      <td>581012.000000</td>\n",
       "      <td>581012.000000</td>\n",
       "      <td>581012.000000</td>\n",
       "      <td>...</td>\n",
       "      <td>581012.000000</td>\n",
       "      <td>581012.000000</td>\n",
       "      <td>581012.000000</td>\n",
       "      <td>581012.000000</td>\n",
       "      <td>581012.000000</td>\n",
       "      <td>581012.000000</td>\n",
       "      <td>581012.000000</td>\n",
       "      <td>581012.000000</td>\n",
       "      <td>581012.000000</td>\n",
       "      <td>581012.000000</td>\n",
       "    </tr>\n",
       "    <tr>\n",
       "      <th>mean</th>\n",
       "      <td>2959.365301</td>\n",
       "      <td>155.656807</td>\n",
       "      <td>14.103704</td>\n",
       "      <td>269.428217</td>\n",
       "      <td>46.418855</td>\n",
       "      <td>2350.146611</td>\n",
       "      <td>212.146049</td>\n",
       "      <td>223.318716</td>\n",
       "      <td>142.528263</td>\n",
       "      <td>1980.291226</td>\n",
       "      <td>...</td>\n",
       "      <td>0.090392</td>\n",
       "      <td>0.077716</td>\n",
       "      <td>0.002773</td>\n",
       "      <td>0.003255</td>\n",
       "      <td>0.000205</td>\n",
       "      <td>0.000513</td>\n",
       "      <td>0.026803</td>\n",
       "      <td>0.023762</td>\n",
       "      <td>0.015060</td>\n",
       "      <td>2.051471</td>\n",
       "    </tr>\n",
       "    <tr>\n",
       "      <th>std</th>\n",
       "      <td>279.984734</td>\n",
       "      <td>111.913721</td>\n",
       "      <td>7.488242</td>\n",
       "      <td>212.549356</td>\n",
       "      <td>58.295232</td>\n",
       "      <td>1559.254870</td>\n",
       "      <td>26.769889</td>\n",
       "      <td>19.768697</td>\n",
       "      <td>38.274529</td>\n",
       "      <td>1324.195210</td>\n",
       "      <td>...</td>\n",
       "      <td>0.286743</td>\n",
       "      <td>0.267725</td>\n",
       "      <td>0.052584</td>\n",
       "      <td>0.056957</td>\n",
       "      <td>0.014310</td>\n",
       "      <td>0.022641</td>\n",
       "      <td>0.161508</td>\n",
       "      <td>0.152307</td>\n",
       "      <td>0.121791</td>\n",
       "      <td>1.396504</td>\n",
       "    </tr>\n",
       "    <tr>\n",
       "      <th>min</th>\n",
       "      <td>1859.000000</td>\n",
       "      <td>0.000000</td>\n",
       "      <td>0.000000</td>\n",
       "      <td>0.000000</td>\n",
       "      <td>-173.000000</td>\n",
       "      <td>0.000000</td>\n",
       "      <td>0.000000</td>\n",
       "      <td>0.000000</td>\n",
       "      <td>0.000000</td>\n",
       "      <td>0.000000</td>\n",
       "      <td>...</td>\n",
       "      <td>0.000000</td>\n",
       "      <td>0.000000</td>\n",
       "      <td>0.000000</td>\n",
       "      <td>0.000000</td>\n",
       "      <td>0.000000</td>\n",
       "      <td>0.000000</td>\n",
       "      <td>0.000000</td>\n",
       "      <td>0.000000</td>\n",
       "      <td>0.000000</td>\n",
       "      <td>1.000000</td>\n",
       "    </tr>\n",
       "    <tr>\n",
       "      <th>25%</th>\n",
       "      <td>2809.000000</td>\n",
       "      <td>58.000000</td>\n",
       "      <td>9.000000</td>\n",
       "      <td>108.000000</td>\n",
       "      <td>7.000000</td>\n",
       "      <td>1106.000000</td>\n",
       "      <td>198.000000</td>\n",
       "      <td>213.000000</td>\n",
       "      <td>119.000000</td>\n",
       "      <td>1024.000000</td>\n",
       "      <td>...</td>\n",
       "      <td>0.000000</td>\n",
       "      <td>0.000000</td>\n",
       "      <td>0.000000</td>\n",
       "      <td>0.000000</td>\n",
       "      <td>0.000000</td>\n",
       "      <td>0.000000</td>\n",
       "      <td>0.000000</td>\n",
       "      <td>0.000000</td>\n",
       "      <td>0.000000</td>\n",
       "      <td>1.000000</td>\n",
       "    </tr>\n",
       "    <tr>\n",
       "      <th>50%</th>\n",
       "      <td>2996.000000</td>\n",
       "      <td>127.000000</td>\n",
       "      <td>13.000000</td>\n",
       "      <td>218.000000</td>\n",
       "      <td>30.000000</td>\n",
       "      <td>1997.000000</td>\n",
       "      <td>218.000000</td>\n",
       "      <td>226.000000</td>\n",
       "      <td>143.000000</td>\n",
       "      <td>1710.000000</td>\n",
       "      <td>...</td>\n",
       "      <td>0.000000</td>\n",
       "      <td>0.000000</td>\n",
       "      <td>0.000000</td>\n",
       "      <td>0.000000</td>\n",
       "      <td>0.000000</td>\n",
       "      <td>0.000000</td>\n",
       "      <td>0.000000</td>\n",
       "      <td>0.000000</td>\n",
       "      <td>0.000000</td>\n",
       "      <td>2.000000</td>\n",
       "    </tr>\n",
       "    <tr>\n",
       "      <th>75%</th>\n",
       "      <td>3163.000000</td>\n",
       "      <td>260.000000</td>\n",
       "      <td>18.000000</td>\n",
       "      <td>384.000000</td>\n",
       "      <td>69.000000</td>\n",
       "      <td>3328.000000</td>\n",
       "      <td>231.000000</td>\n",
       "      <td>237.000000</td>\n",
       "      <td>168.000000</td>\n",
       "      <td>2550.000000</td>\n",
       "      <td>...</td>\n",
       "      <td>0.000000</td>\n",
       "      <td>0.000000</td>\n",
       "      <td>0.000000</td>\n",
       "      <td>0.000000</td>\n",
       "      <td>0.000000</td>\n",
       "      <td>0.000000</td>\n",
       "      <td>0.000000</td>\n",
       "      <td>0.000000</td>\n",
       "      <td>0.000000</td>\n",
       "      <td>2.000000</td>\n",
       "    </tr>\n",
       "    <tr>\n",
       "      <th>max</th>\n",
       "      <td>3858.000000</td>\n",
       "      <td>360.000000</td>\n",
       "      <td>66.000000</td>\n",
       "      <td>1397.000000</td>\n",
       "      <td>601.000000</td>\n",
       "      <td>7117.000000</td>\n",
       "      <td>254.000000</td>\n",
       "      <td>254.000000</td>\n",
       "      <td>254.000000</td>\n",
       "      <td>7173.000000</td>\n",
       "      <td>...</td>\n",
       "      <td>1.000000</td>\n",
       "      <td>1.000000</td>\n",
       "      <td>1.000000</td>\n",
       "      <td>1.000000</td>\n",
       "      <td>1.000000</td>\n",
       "      <td>1.000000</td>\n",
       "      <td>1.000000</td>\n",
       "      <td>1.000000</td>\n",
       "      <td>1.000000</td>\n",
       "      <td>7.000000</td>\n",
       "    </tr>\n",
       "  </tbody>\n",
       "</table>\n",
       "<p>8 rows × 55 columns</p>\n",
       "</div>"
      ],
      "text/plain": [
       "           Elevation         Aspect          Slope  \\\n",
       "count  581012.000000  581012.000000  581012.000000   \n",
       "mean     2959.365301     155.656807      14.103704   \n",
       "std       279.984734     111.913721       7.488242   \n",
       "min      1859.000000       0.000000       0.000000   \n",
       "25%      2809.000000      58.000000       9.000000   \n",
       "50%      2996.000000     127.000000      13.000000   \n",
       "75%      3163.000000     260.000000      18.000000   \n",
       "max      3858.000000     360.000000      66.000000   \n",
       "\n",
       "       Horizontal_Distance_To_Hydrology  Vertical_Distance_To_Hydrology  \\\n",
       "count                     581012.000000                   581012.000000   \n",
       "mean                         269.428217                       46.418855   \n",
       "std                          212.549356                       58.295232   \n",
       "min                            0.000000                     -173.000000   \n",
       "25%                          108.000000                        7.000000   \n",
       "50%                          218.000000                       30.000000   \n",
       "75%                          384.000000                       69.000000   \n",
       "max                         1397.000000                      601.000000   \n",
       "\n",
       "       Horizontal_Distance_To_Roadways  Hillshade_9am  Hillshade_Noon  \\\n",
       "count                    581012.000000  581012.000000   581012.000000   \n",
       "mean                       2350.146611     212.146049      223.318716   \n",
       "std                        1559.254870      26.769889       19.768697   \n",
       "min                           0.000000       0.000000        0.000000   \n",
       "25%                        1106.000000     198.000000      213.000000   \n",
       "50%                        1997.000000     218.000000      226.000000   \n",
       "75%                        3328.000000     231.000000      237.000000   \n",
       "max                        7117.000000     254.000000      254.000000   \n",
       "\n",
       "       Hillshade_3pm  Horizontal_Distance_To_Fire_Points      ...        \\\n",
       "count  581012.000000                       581012.000000      ...         \n",
       "mean      142.528263                         1980.291226      ...         \n",
       "std        38.274529                         1324.195210      ...         \n",
       "min         0.000000                            0.000000      ...         \n",
       "25%       119.000000                         1024.000000      ...         \n",
       "50%       143.000000                         1710.000000      ...         \n",
       "75%       168.000000                         2550.000000      ...         \n",
       "max       254.000000                         7173.000000      ...         \n",
       "\n",
       "         Soil_Type32    Soil_Type33    Soil_Type34    Soil_Type35  \\\n",
       "count  581012.000000  581012.000000  581012.000000  581012.000000   \n",
       "mean        0.090392       0.077716       0.002773       0.003255   \n",
       "std         0.286743       0.267725       0.052584       0.056957   \n",
       "min         0.000000       0.000000       0.000000       0.000000   \n",
       "25%         0.000000       0.000000       0.000000       0.000000   \n",
       "50%         0.000000       0.000000       0.000000       0.000000   \n",
       "75%         0.000000       0.000000       0.000000       0.000000   \n",
       "max         1.000000       1.000000       1.000000       1.000000   \n",
       "\n",
       "         Soil_Type36    Soil_Type37    Soil_Type38    Soil_Type39  \\\n",
       "count  581012.000000  581012.000000  581012.000000  581012.000000   \n",
       "mean        0.000205       0.000513       0.026803       0.023762   \n",
       "std         0.014310       0.022641       0.161508       0.152307   \n",
       "min         0.000000       0.000000       0.000000       0.000000   \n",
       "25%         0.000000       0.000000       0.000000       0.000000   \n",
       "50%         0.000000       0.000000       0.000000       0.000000   \n",
       "75%         0.000000       0.000000       0.000000       0.000000   \n",
       "max         1.000000       1.000000       1.000000       1.000000   \n",
       "\n",
       "         Soil_Type40     Cover_Type  \n",
       "count  581012.000000  581012.000000  \n",
       "mean        0.015060       2.051471  \n",
       "std         0.121791       1.396504  \n",
       "min         0.000000       1.000000  \n",
       "25%         0.000000       1.000000  \n",
       "50%         0.000000       2.000000  \n",
       "75%         0.000000       2.000000  \n",
       "max         1.000000       7.000000  \n",
       "\n",
       "[8 rows x 55 columns]"
      ]
     },
     "metadata": {},
     "output_type": "display_data"
    },
    {
     "name": "stdout",
     "output_type": "stream",
     "text": [
      "<class 'pandas.core.frame.DataFrame'>\n",
      "RangeIndex: 581012 entries, 0 to 581011\n",
      "Data columns (total 55 columns):\n",
      "Elevation                             581012 non-null int64\n",
      "Aspect                                581012 non-null int64\n",
      "Slope                                 581012 non-null int64\n",
      "Horizontal_Distance_To_Hydrology      581012 non-null int64\n",
      "Vertical_Distance_To_Hydrology        581012 non-null int64\n",
      "Horizontal_Distance_To_Roadways       581012 non-null int64\n",
      "Hillshade_9am                         581012 non-null int64\n",
      "Hillshade_Noon                        581012 non-null int64\n",
      "Hillshade_3pm                         581012 non-null int64\n",
      "Horizontal_Distance_To_Fire_Points    581012 non-null int64\n",
      "Wilderness_Area1                      581012 non-null int64\n",
      "Wilderness_Area2                      581012 non-null int64\n",
      "Wilderness_Area3                      581012 non-null int64\n",
      "Wilderness_Area4                      581012 non-null int64\n",
      "Soil_Type1                            581012 non-null int64\n",
      "Soil_Type2                            581012 non-null int64\n",
      "Soil_Type3                            581012 non-null int64\n",
      "Soil_Type4                            581012 non-null int64\n",
      "Soil_Type5                            581012 non-null int64\n",
      "Soil_Type6                            581012 non-null int64\n",
      "Soil_Type7                            581012 non-null int64\n",
      "Soil_Type8                            581012 non-null int64\n",
      "Soil_Type9                            581012 non-null int64\n",
      "Soil_Type10                           581012 non-null int64\n",
      "Soil_Type11                           581012 non-null int64\n",
      "Soil_Type12                           581012 non-null int64\n",
      "Soil_Type13                           581012 non-null int64\n",
      "Soil_Type14                           581012 non-null int64\n",
      "Soil_Type15                           581012 non-null int64\n",
      "Soil_Type16                           581012 non-null int64\n",
      "Soil_Type17                           581012 non-null int64\n",
      "Soil_Type18                           581012 non-null int64\n",
      "Soil_Type19                           581012 non-null int64\n",
      "Soil_Type20                           581012 non-null int64\n",
      "Soil_Type21                           581012 non-null int64\n",
      "Soil_Type22                           581012 non-null int64\n",
      "Soil_Type23                           581012 non-null int64\n",
      "Soil_Type24                           581012 non-null int64\n",
      "Soil_Type25                           581012 non-null int64\n",
      "Soil_Type26                           581012 non-null int64\n",
      "Soil_Type27                           581012 non-null int64\n",
      "Soil_Type28                           581012 non-null int64\n",
      "Soil_Type29                           581012 non-null int64\n",
      "Soil_Type30                           581012 non-null int64\n",
      "Soil_Type31                           581012 non-null int64\n",
      "Soil_Type32                           581012 non-null int64\n",
      "Soil_Type33                           581012 non-null int64\n",
      "Soil_Type34                           581012 non-null int64\n",
      "Soil_Type35                           581012 non-null int64\n",
      "Soil_Type36                           581012 non-null int64\n",
      "Soil_Type37                           581012 non-null int64\n",
      "Soil_Type38                           581012 non-null int64\n",
      "Soil_Type39                           581012 non-null int64\n",
      "Soil_Type40                           581012 non-null int64\n",
      "Cover_Type                            581012 non-null int64\n",
      "dtypes: int64(55)\n",
      "memory usage: 243.8 MB\n"
     ]
    },
    {
     "data": {
      "text/plain": [
       "None"
      ]
     },
     "metadata": {},
     "output_type": "display_data"
    }
   ],
   "source": [
    "filename = os.path.join(os.pardir, 'data', 'covtype.csv')\n",
    "df_cov = pd.read_csv(filename)\n",
    "\n",
    "# get an idea of what data looks like\n",
    "display(df_cov.describe())\n",
    "display(df_cov.info())"
   ]
  },
  {
   "cell_type": "code",
   "execution_count": 8,
   "metadata": {},
   "outputs": [
    {
     "data": {
      "text/plain": [
       "Index                                      80\n",
       "Elevation                             4648096\n",
       "Aspect                                4648096\n",
       "Slope                                 4648096\n",
       "Horizontal_Distance_To_Hydrology      4648096\n",
       "Vertical_Distance_To_Hydrology        4648096\n",
       "Horizontal_Distance_To_Roadways       4648096\n",
       "Hillshade_9am                         4648096\n",
       "Hillshade_Noon                        4648096\n",
       "Hillshade_3pm                         4648096\n",
       "Horizontal_Distance_To_Fire_Points    4648096\n",
       "Wilderness_Area1                      4648096\n",
       "Wilderness_Area2                      4648096\n",
       "Wilderness_Area3                      4648096\n",
       "Wilderness_Area4                      4648096\n",
       "Soil_Type1                            4648096\n",
       "Soil_Type2                            4648096\n",
       "Soil_Type3                            4648096\n",
       "Soil_Type4                            4648096\n",
       "Soil_Type5                            4648096\n",
       "Soil_Type6                            4648096\n",
       "Soil_Type7                            4648096\n",
       "Soil_Type8                            4648096\n",
       "Soil_Type9                            4648096\n",
       "Soil_Type10                           4648096\n",
       "Soil_Type11                           4648096\n",
       "Soil_Type12                           4648096\n",
       "Soil_Type13                           4648096\n",
       "Soil_Type14                           4648096\n",
       "Soil_Type15                           4648096\n",
       "Soil_Type16                           4648096\n",
       "Soil_Type17                           4648096\n",
       "Soil_Type18                           4648096\n",
       "Soil_Type19                           4648096\n",
       "Soil_Type20                           4648096\n",
       "Soil_Type21                           4648096\n",
       "Soil_Type22                           4648096\n",
       "Soil_Type23                           4648096\n",
       "Soil_Type24                           4648096\n",
       "Soil_Type25                           4648096\n",
       "Soil_Type26                           4648096\n",
       "Soil_Type27                           4648096\n",
       "Soil_Type28                           4648096\n",
       "Soil_Type29                           4648096\n",
       "Soil_Type30                           4648096\n",
       "Soil_Type31                           4648096\n",
       "Soil_Type32                           4648096\n",
       "Soil_Type33                           4648096\n",
       "Soil_Type34                           4648096\n",
       "Soil_Type35                           4648096\n",
       "Soil_Type36                           4648096\n",
       "Soil_Type37                           4648096\n",
       "Soil_Type38                           4648096\n",
       "Soil_Type39                           4648096\n",
       "Soil_Type40                           4648096\n",
       "Cover_Type                            4648096\n",
       "dtype: int64"
      ]
     },
     "execution_count": 8,
     "metadata": {},
     "output_type": "execute_result"
    }
   ],
   "source": [
    "df_cov.memory_usage(deep=True)"
   ]
  },
  {
   "cell_type": "code",
   "execution_count": 9,
   "metadata": {},
   "outputs": [
    {
     "data": {
      "text/plain": [
       "255645280"
      ]
     },
     "execution_count": 9,
     "metadata": {},
     "output_type": "execute_result"
    }
   ],
   "source": [
    "df_cov.as_matrix().nbytes"
   ]
  },
  {
   "cell_type": "markdown",
   "metadata": {},
   "source": [
    "This data is actually very nice. All of the features are well-behaved, it doesn't include anything that isn't necessary, and there is nothing missing.\n",
    "\n",
    "Clearly, much of the data has already been one-hot encoded. This would be convenient if we didn't have ambitions to visualize the data. Anyways, let's press onward regardless of the state of our data. At least there isn't anything missing."
   ]
  },
  {
   "cell_type": "code",
   "execution_count": 10,
   "metadata": {},
   "outputs": [
    {
     "data": {
      "image/png": "[encoded data removed]",
      "text/plain": [
       "<matplotlib.figure.Figure at 0x2aab751d1eb8>"
      ]
     },
     "metadata": {},
     "output_type": "display_data"
    }
   ],
   "source": [
    "sns.heatmap(df_cov.corr(), cmap=plt.cm.BrBG)\n",
    "plt.show()"
   ]
  },
  {
   "cell_type": "markdown",
   "metadata": {},
   "source": [
    "This heatmap is enormous, and some of the labels are getting cut off. We'll try removing the one-hot encoded data and looking at the heatmap again."
   ]
  },
  {
   "cell_type": "code",
   "execution_count": 11,
   "metadata": {},
   "outputs": [
    {
     "data": {
      "image/png": "[encoded data removed]",
      "text/plain": [
       "<matplotlib.figure.Figure at 0x2aab755fd630>"
      ]
     },
     "metadata": {},
     "output_type": "display_data"
    }
   ],
   "source": [
    "non_one_hot = ['Elevation', 'Slope', 'Aspect', 'Hillshade_9am', 'Hillshade_Noon', 'Hillshade_3pm', 'Vertical_Distance_To_Hydrology', 'Horizontal_Distance_To_Hydrology', 'Horizontal_Distance_To_Roadways', 'Horizontal_Distance_To_Fire_Points', 'Cover_Type']\n",
    "\n",
    "sns.heatmap(df_cov.filter(non_one_hot).corr(), vmin=-1, cmap=plt.cm.BrBG)\n",
    "plt.show()"
   ]
  },
  {
   "cell_type": "markdown",
   "metadata": {},
   "source": [
    "Most of the variables are only weakly correlated. However, it bears recalling that the variable we hope to predict, cover_type, is categorical, so we shouldn't expect it to have  any meaningful correlations anyways. And the purpose behind using a neural network is to be able to detect highly nonlinear relationships, which a simple correlation coefficient would never be able to detect.\n",
    "\n",
    "Let's look at a few more variables, then get started classifying."
   ]
  },
  {
   "cell_type": "code",
   "execution_count": 12,
   "metadata": {},
   "outputs": [
    {
     "data": {
      "image/png": "[encoded data removed]",
      "text/plain": [
       "<matplotlib.figure.Figure at 0x2aab75187e48>"
      ]
     },
     "metadata": {},
     "output_type": "display_data"
    }
   ],
   "source": [
    "sns.violinplot(data=df_cov, x='Cover_Type', y='Horizontal_Distance_To_Hydrology')\n",
    "plt.show()"
   ]
  },
  {
   "cell_type": "code",
   "execution_count": 13,
   "metadata": {},
   "outputs": [
    {
     "data": {
      "image/png": "[encoded data removed]",
      "text/plain": [
       "<matplotlib.figure.Figure at 0x2aab751a1780>"
      ]
     },
     "metadata": {},
     "output_type": "display_data"
    }
   ],
   "source": [
    "sns.violinplot(data=df_cov, x='Cover_Type', y='Vertical_Distance_To_Hydrology')\n",
    "plt.show()"
   ]
  },
  {
   "cell_type": "markdown",
   "metadata": {},
   "source": [
    "These plots aren't overly interesting, except that we may note that cover type 4 has base-heavy distributions, and cover types 2 and 7 have heavy-tailed distributions.\n",
    "\n",
    "One thing that likely will be interesting, and possibly important for balancing purposes, is to visualize the proportions of some of our categorical variables."
   ]
  },
  {
   "cell_type": "code",
   "execution_count": 14,
   "metadata": {},
   "outputs": [
    {
     "data": {
      "image/png": "[encoded data removed]",
      "text/plain": [
       "<matplotlib.figure.Figure at 0x2aab751a09b0>"
      ]
     },
     "metadata": {},
     "output_type": "display_data"
    }
   ],
   "source": [
    "soil_types = ['Soil_Type' + str(i) for i in range(1,41)]\n",
    "\n",
    "soil_counts = pd.DataFrame(np.zeros((len(soil_types), 2)), index=soil_types, columns=['type_soil', 'count'])\n",
    "soil_counts['type_soil'] = range(1,41)\n",
    "for soil in soil_types:\n",
    "    soil_counts.loc[soil, 'count'] = df_cov[soil].sum() / df_cov[soil].count()\n",
    "    \n",
    "sns.barplot(data=soil_counts, x='type_soil', y='count')\n",
    "plt.show()"
   ]
  },
  {
   "cell_type": "code",
   "execution_count": 15,
   "metadata": {},
   "outputs": [
    {
     "data": {
      "image/png": "[encoded data removed]",
      "text/plain": [
       "<matplotlib.figure.Figure at 0x2aab7d59f0f0>"
      ]
     },
     "metadata": {},
     "output_type": "display_data"
    }
   ],
   "source": [
    "area_types = ['Wilderness_Area' + str(i) for i in range(1,5)]\n",
    "\n",
    "area_counts = pd.DataFrame(np.zeros((len(area_types), 2)), index=area_types, columns=['type_area', 'count'])\n",
    "area_counts['type_area'] = range(1,5)\n",
    "for area in area_types:\n",
    "    area_counts.loc[area, 'count'] = df_cov[area].sum() / df_cov[area].count()\n",
    "    \n",
    "sns.barplot(data=area_counts, x='type_area', y='count')\n",
    "plt.show()"
   ]
  },
  {
   "cell_type": "code",
   "execution_count": 16,
   "metadata": {},
   "outputs": [
    {
     "data": {
      "image/png": "[encoded data removed]",
      "text/plain": [
       "<matplotlib.figure.Figure at 0x2aab7d455cf8>"
      ]
     },
     "metadata": {},
     "output_type": "display_data"
    }
   ],
   "source": [
    "sns.countplot(data=df_cov, x='Cover_Type')\n",
    "plt.show()"
   ]
  },
  {
   "cell_type": "markdown",
   "metadata": {},
   "source": [
    "It appears as though our prediction classes are horribly unbalanced. This will need to be corrected for at some point, and may require the use of a different evaluation metric than just accuracy. \n",
    "\n",
    "One other thing that is apparent from the larger heatmap (though perhaps difficult to see) is that wilderness area and cover type are somewhat related. Let's pull up this relationship so we can visualize it."
   ]
  },
  {
   "cell_type": "code",
   "execution_count": 17,
   "metadata": {},
   "outputs": [
    {
     "data": {
      "image/png": "[encoded data removed]",
      "text/plain": [
       "<matplotlib.figure.Figure at 0x2aab7d6c7668>"
      ]
     },
     "metadata": {},
     "output_type": "display_data"
    }
   ],
   "source": [
    "import re\n",
    "\n",
    "# based on code from https://github.com/eclarson/MachineLearningNotebooks/blob/master/03.%20DataVisualization.ipynb\n",
    "\n",
    "areas = df_cov.filter(['Wilderness_Area1', 'Wilderness_Area2', \n",
    "                       'Wilderness_Area3', 'Wilderness_Area4'])\n",
    "areas['Area'] = areas.idxmax(1).apply(lambda phrase : re.search(r'\\d', phrase).group())\n",
    "\n",
    "areas_by_type = pd.crosstab([areas['Area']], df_cov['Cover_Type'])\n",
    "\n",
    "cover_rate = areas_by_type.div(areas_by_type.sum(axis=1).astype(float),\n",
    "                               axis=0) # normalize the value\n",
    "\n",
    "# print survival_rate\n",
    "cover_rate.plot(kind='barh', stacked=True)\n",
    "plt.show()"
   ]
  },
  {
   "cell_type": "markdown",
   "metadata": {},
   "source": [
    "Here, we see that, indeed, the distributions of cover type are very different among the wilderness areas. In particular, the modes for most of the wilderness areas (which we will use as our baseline are very different, with 1 being most prevalent in area 2, type 2 being most frequent in areas 1 and 3, and type 3 in area 4. As mentioned in the introduction, this is what our baseline will be based on."
   ]
  },
  {
   "cell_type": "code",
   "execution_count": 18,
   "metadata": {},
   "outputs": [
    {
     "data": {
      "image/png": "[encoded data removed]",
      "text/plain": [
       "<matplotlib.figure.Figure at 0x2aab7d6ae6a0>"
      ]
     },
     "metadata": {},
     "output_type": "display_data"
    }
   ],
   "source": [
    "sns.distplot(df_cov.Elevation)\n",
    "plt.show()"
   ]
  },
  {
   "cell_type": "code",
   "execution_count": 19,
   "metadata": {},
   "outputs": [
    {
     "data": {
      "image/png": "[encoded data removed]",
      "text/plain": [
       "<matplotlib.figure.Figure at 0x2aab7d7ccd68>"
      ]
     },
     "metadata": {},
     "output_type": "display_data"
    }
   ],
   "source": [
    "sns.distplot(df_cov.Aspect)\n",
    "plt.show()"
   ]
  },
  {
   "cell_type": "code",
   "execution_count": 20,
   "metadata": {},
   "outputs": [
    {
     "data": {
      "image/png": "[encoded data removed]",
      "text/plain": [
       "<matplotlib.figure.Figure at 0x2aab7d949208>"
      ]
     },
     "metadata": {},
     "output_type": "display_data"
    }
   ],
   "source": [
    "sns.distplot(df_cov.Slope)\n",
    "plt.show()"
   ]
  },
  {
   "cell_type": "markdown",
   "metadata": {},
   "source": [
    "These distributions don't tell us much. Everything is pretty nicely distributed, with no egregious spikes or extreme values.\n",
    "\n",
    "This is probably enough that we can get started on our actual analysis. Let's divide up the set in data and target, then get on with it."
   ]
  },
  {
   "cell_type": "code",
   "execution_count": 21,
   "metadata": {
    "collapsed": true
   },
   "outputs": [],
   "source": [
    "cov_data = np.array(df_cov.drop('Cover_Type', axis=1))\n",
    "cov_target = np.array(df_cov.Cover_Type)"
   ]
  },
  {
   "cell_type": "markdown",
   "metadata": {},
   "source": [
    "## Model Evaluation"
   ]
  },
  {
   "cell_type": "markdown",
   "metadata": {},
   "source": [
    "Before we do anything else, we should decide how we will evaluate our model once it is actually built. First, let's construct our baseline."
   ]
  },
  {
   "cell_type": "code",
   "execution_count": 22,
   "metadata": {
    "collapsed": true
   },
   "outputs": [],
   "source": [
    "area_cov = {'1':2, '2':1, '3':1, '4':3}\n",
    "area_to_cov = lambda area : area_cov[area]\n",
    "\n",
    "baseline = areas.Area.apply(area_to_cov)"
   ]
  },
  {
   "cell_type": "markdown",
   "metadata": {},
   "source": [
    "### Picking a Metric"
   ]
  },
  {
   "cell_type": "code",
   "execution_count": 23,
   "metadata": {
    "collapsed": true
   },
   "outputs": [],
   "source": [
    "from sklearn.metrics import accuracy_score, f1_score"
   ]
  },
  {
   "cell_type": "code",
   "execution_count": 24,
   "metadata": {},
   "outputs": [
    {
     "data": {
      "image/png": "[encoded data removed]",
      "text/plain": [
       "<matplotlib.figure.Figure at 0x2aab7d4618d0>"
      ]
     },
     "metadata": {},
     "output_type": "display_data"
    }
   ],
   "source": [
    "# a plot from earlier\n",
    "\n",
    "sns.countplot(data=df_cov, x='Cover_Type')\n",
    "plt.show()"
   ]
  },
  {
   "cell_type": "markdown",
   "metadata": {},
   "source": [
    "We saw this plot earlier, in the exploratory stages of the analysis, but it bears recreating it here. Because our classes are so imbalanced, an evaluation metric like accuracy is not going to be appropriate for this analysis.\n",
    "\n",
    "To demonstrate this, let's hypothesize a classifier that always predicts classes $1$ and $2$ correctly."
   ]
  },
  {
   "cell_type": "code",
   "execution_count": 25,
   "metadata": {
    "collapsed": true
   },
   "outputs": [],
   "source": [
    "import warnings\n",
    "warnings.filterwarnings('ignore')"
   ]
  },
  {
   "cell_type": "code",
   "execution_count": 26,
   "metadata": {},
   "outputs": [
    {
     "name": "stdout",
     "output_type": "stream",
     "text": [
      "Accuracy if we always predict 1 and 2 correctly is: 0.8522044295126434\n"
     ]
    }
   ],
   "source": [
    "high_accuracy = np.array(cov_target)\n",
    "high_accuracy[high_accuracy > 2] = 0\n",
    "\n",
    "print('Accuracy if we always predict 1 and 2 correctly is: {}'.format(accuracy_score(cov_target, high_accuracy)))"
   ]
  },
  {
   "cell_type": "code",
   "execution_count": 27,
   "metadata": {},
   "outputs": [
    {
     "name": "stdout",
     "output_type": "stream",
     "text": [
      "Baseline accuracy: 0.4712019717320813\n"
     ]
    }
   ],
   "source": [
    "print('Baseline accuracy: {}'.format(accuracy_score(cov_target, baseline)))"
   ]
  },
  {
   "cell_type": "markdown",
   "metadata": {},
   "source": [
    "Accuracy would tell us that this actually a pretty good classifier. It certainly beats the baseline by a wide margin. But let's try another popular metric, the $f_1$ score with a macro average."
   ]
  },
  {
   "cell_type": "code",
   "execution_count": 28,
   "metadata": {},
   "outputs": [
    {
     "name": "stdout",
     "output_type": "stream",
     "text": [
      "F-1 if we always predict 1 and 2 correctly is: 0.25\n",
      "Baseline F1: 0.2223035013816097\n"
     ]
    }
   ],
   "source": [
    "print('F-1 if we always predict 1 and 2 correctly is: {}'.format(f1_score(cov_target, high_accuracy, average='macro')))\n",
    "print('Baseline F1: {}'.format(f1_score(cov_target, baseline, average='macro')))"
   ]
  },
  {
   "cell_type": "markdown",
   "metadata": {},
   "source": [
    "As the f-1 score is designed to track both false positive and false negative rates, (and the macro average method tracks classes separately) it gives a more holistic view of the underlying understanding that neither of these classifiers is particularly good. The other consideration we should account for is other tpes of averaging schemes for the f-1 score."
   ]
  },
  {
   "cell_type": "code",
   "execution_count": 29,
   "metadata": {},
   "outputs": [
    {
     "name": "stdout",
     "output_type": "stream",
     "text": [
      "F-1 if we always predict 1 and 2 correctly is: 0.8522044295126434\n",
      "Baseline F1: 0.454648848528167\n"
     ]
    }
   ],
   "source": [
    "print('F-1 if we always predict 1 and 2 correctly is: {}'.format(f1_score(cov_target, high_accuracy, average='weighted')))\n",
    "print('Baseline F1: {}'.format(f1_score(cov_target, baseline, average='weighted')))"
   ]
  },
  {
   "cell_type": "code",
   "execution_count": 30,
   "metadata": {},
   "outputs": [
    {
     "name": "stdout",
     "output_type": "stream",
     "text": [
      "F-1 if we always predict 1 and 2 correctly is: 0.8522044295126434\n",
      "Baseline F1: 0.47120197173208134\n"
     ]
    }
   ],
   "source": [
    "print('F-1 if we always predict 1 and 2 correctly is: {}'.format(f1_score(cov_target, high_accuracy, average='micro')))\n",
    "print('Baseline F1: {}'.format(f1_score(cov_target, baseline, average='micro')))"
   ]
  },
  {
   "cell_type": "markdown",
   "metadata": {},
   "source": [
    "Unfortunately, in an attempt to account for unbalanced classes, each of these metrics loses the information we would like to pick up on regarding misclassification of less frequent classes.\n",
    "\n",
    "It is for this reason that we will decide on the macro $f_1$ score as our metric of choice."
   ]
  },
  {
   "cell_type": "markdown",
   "metadata": {},
   "source": [
    "### Picking a Cross-Validation Scheme"
   ]
  },
  {
   "cell_type": "markdown",
   "metadata": {},
   "source": [
    "Once again, we are haunted by the curse of unbalanced classes. This means that we will definitely need to use a more sophisticated method than simple k-fold validation. Since we have a larger dataset, it is likely impractical to do something along the lines of a shuffle-split, but we should certainly ensure that our method is stratified to ensure even class distributions. We will use all the default options for fold numbers, test sizes, etc. However, we will also break off $20\\%$ of the data as a separate test set for final model evaluation.\n",
    "\n",
    "To get good data on the cross-validation sets, we should have several of them. 10 ought to be a good balance between being easily computable and gathering enough information on the model effectiveness."
   ]
  },
  {
   "cell_type": "code",
   "execution_count": 74,
   "metadata": {
    "collapsed": true
   },
   "outputs": [],
   "source": [
    "from sklearn.model_selection import StratifiedKFold, train_test_split\n",
    "from sklearn.preprocessing import StandardScaler\n",
    "\n",
    "cv = StratifiedKFold\n",
    "\n",
    "#scale features so they train well\n",
    "scaled_coverage = StandardScaler().fit_transform(cov_data)\n",
    "\n",
    "X_train, X_test, y_train, y_test = train_test_split(scaled_coverage, cov_target)"
   ]
  },
  {
   "cell_type": "markdown",
   "metadata": {},
   "source": [
    "## Multi-Layer Perceptron"
   ]
  },
  {
   "cell_type": "markdown",
   "metadata": {},
   "source": [
    "### Building the Perceptron"
   ]
  },
  {
   "cell_type": "code",
   "execution_count": 32,
   "metadata": {
    "collapsed": true
   },
   "outputs": [],
   "source": [
    "from scipy.special import expit\n",
    "\n",
    "# based on code from https://github.com/eclarson/MachineLearningNotebooks/blob/master/07.%20MLP%20Neural%20Networks.ipynb with heavy adaption\n",
    "\n",
    "class MultiLayerPerceptron:\n",
    "\n",
    "    \n",
    "    def __init__(self, n_hidden=1, size_hidden=30, C=0, epochs=200, \n",
    "                 alpha=0.001, phi='relu', cost='cross-entropy'):\n",
    "        self.n_hidden = n_hidden\n",
    "        self.n_layers = self.n_hidden + 1 \n",
    "        # making two redundant parameters is annoying but makes bookkeeping way easier\n",
    "        \n",
    "        self.size_hidden = size_hidden\n",
    "        self.C = C\n",
    "        self.epochs = epochs\n",
    "        self.alpha = alpha\n",
    "        \n",
    "        if phi in ['sigmoid', 'linear', 'relu', 'silu']:\n",
    "            self.phi = phi\n",
    "        else:\n",
    "            raise ValueError('Not a valid option for attribute \\'phi.\\'')\n",
    "        \n",
    "        if cost in ['cross-entropy', 'mse']:\n",
    "            self.cost = cost     \n",
    "        else:\n",
    "            raise ValueError('Not a valid option for attribute \\'cost.\\'')\n",
    "\n",
    "            \n",
    "            \n",
    "    def _activation(self, z):\n",
    "        if self.phi == 'sigmoid':\n",
    "            return expit(z)\n",
    "        elif self.phi == 'linear':\n",
    "            return z\n",
    "        elif self.phi == 'relu':\n",
    "            return z * (z > 0)\n",
    "        elif self.phi == 'silu':\n",
    "            return z * expit(z)\n",
    "        else:\n",
    "            raise ValueError('This phi function has not yet been implemented.')\n",
    "\n",
    "            \n",
    "            \n",
    "    @staticmethod\n",
    "    def _encode_labels(y):\n",
    "        return pd.get_dummies(y).values.T\n",
    "\n",
    "    \n",
    "    \n",
    "    @staticmethod\n",
    "    def _add_bias(X, how='column'):\n",
    "        if how == 'column':\n",
    "            return np.hstack([np.ones((X.shape[0], 1)), X])\n",
    "        elif how == 'row':\n",
    "            return np.vstack([np.ones((1, X.shape[1])), X])\n",
    "        else:\n",
    "            raise ValueError('Invalid value for parameter \\'how\\'')\n",
    "\n",
    "            \n",
    "            \n",
    "    def _forward_grad(self, A):\n",
    "        if self.phi == 'sigmoid':\n",
    "            return A * (1 - A)\n",
    "        elif self.phi == 'linear':\n",
    "            return np.ones(A.shape)\n",
    "        elif self.phi == 'relu':\n",
    "            return np.ones(A.shape) * (A > 0)\n",
    "        elif self.phi == 'silu':\n",
    "            return expit(A) + A * expit(A) * (1 - expit(A))\n",
    "        else:\n",
    "            raise ValueError('The value for the \\'phi\\' attribute has come to be something it should not be.')\n",
    "\n",
    "            \n",
    "            \n",
    "    def _cost_grad(self, A, Y):\n",
    "        if self.cost == 'mse':\n",
    "            return -2 * (Y - A) * (1 - A)\n",
    "        elif self.cost == 'cross-entropy':\n",
    "            return (A - Y)\n",
    "        else:\n",
    "            raise NotImplementedError('This cost gradient has not yet been implemented')\n",
    "\n",
    "            \n",
    "            \n",
    "    def _get_gradient(self, results, outputs, Y):\n",
    "        sensitivity = self.network_.copy()\n",
    "\n",
    "        sensitivity[-1] = self._cost_grad(results[-1], Y)\n",
    "        \n",
    "        self.grads_[-1] = sensitivity[-1] @ results[-2].T\n",
    "        self.grads_[-1] += self.network_[-1] * self.C\n",
    "        \n",
    "        for i in range(-2, -self.n_layers, -1):\n",
    "            if i == -2:\n",
    "                sensitivity[i] = (self._forward_grad(results[i]) * \n",
    "                                  (self.network_[i+1].T @ sensitivity[i+1]))\n",
    "            else:\n",
    "                sensitivity[i] = (self._forward_grad(results[i]) * \n",
    "                                  (self.network_[i+1].T @ sensitivity[i+1][1:,:]))\n",
    "                \n",
    "            self.grads_[i] = sensitivity[i][1:,:] @ results[i-1].T\n",
    "            self.grads_[i][:,1:] += self.network_[i][:,1:] * self.C\n",
    "            \n",
    "        for i in range(self.n_layers):\n",
    "            if np.any(np.isnan(self.network_[i])):\n",
    "                raise OverflowError('One or more of the training gradients blew up.')\n",
    "\n",
    "            \n",
    "            \n",
    "    def _feedforward(self, X):\n",
    "        result = []\n",
    "        outputs = []\n",
    "        \n",
    "        A = self._add_bias(X, how='column').T\n",
    "        result.append(A)\n",
    "        for i in range(self.n_layers - 1):\n",
    "            Z = self.network_[i] @ A\n",
    "            A = self._add_bias(self._activation(Z), how='row')\n",
    "            outputs.append(Z)\n",
    "            result.append(A)\n",
    "        Z = self.network_[self.n_layers - 1] @ A\n",
    "        A = expit(Z)\n",
    "        \n",
    "        outputs.append(Z)\n",
    "        result.append(A)\n",
    "\n",
    "        return result, outputs\n",
    "\n",
    "    \n",
    "    \n",
    "    def _random_weights(self, phi, dim1, dim2):\n",
    "        if phi != 'glorot_final':\n",
    "            bound = np.sqrt(6 / (dim1 + dim2 + 1))\n",
    "            w_mat = np.random.uniform(-bound, bound, (dim1, dim2+1))\n",
    "        else:\n",
    "            bound = np.sqrt(0.5 / (dim1 + dim2 + 1))\n",
    "            w_mat = np.random.uniform(-bound, bound, (dim1, dim2+1))\n",
    "        return w_mat\n",
    "    \n",
    "    \n",
    "    \n",
    "    def _initialize_weights(self):\n",
    "        network = []        \n",
    "        if self.n_layers == 1:\n",
    "            network.append(self._random_weights(self.phi, self.classes, \n",
    "                                                self.features))            \n",
    "        else:\n",
    "            network.append(self._random_weights(self.phi, self.size_hidden,\n",
    "                                                self.features))            \n",
    "            for i in range(1, self.n_layers-1):\n",
    "                network.append(self._random_weights(self.phi, self.size_hidden,\n",
    "                                                   self.size_hidden))                \n",
    "            network.append(self._random_weights('glorot_final', self.classes,\n",
    "                                                self.size_hidden))\n",
    "            \n",
    "        self.network_ = network\n",
    "        self.grads_ = network.copy()\n",
    "    \n",
    "\n",
    "    \n",
    "    def _cost(self, result_final, y):\n",
    "        if self.cost == 'mse':\n",
    "            return np.mean((y-result_final)**2)\n",
    "        elif self.cost == 'cross-entropy':\n",
    "            return -np.mean(y * np.log(result_final) + (1-y) * np.log(1 - result_final))\n",
    "        else:\n",
    "            raise ValueError('Check which cost function you are using.')\n",
    "    \n",
    "    \n",
    "    \n",
    "    def fit(self, X, y, test_sets=None, show_cost=False, print_progress=True, track_gradient=False):\n",
    "        Xcopy = X.copy()\n",
    "        Ycopy = self._encode_labels(y.copy())\n",
    "\n",
    "        self.features = X.shape[1]\n",
    "        self.classes = Ycopy.shape[0]       \n",
    "        self._initialize_weights()\n",
    "\n",
    "        if show_cost is True:\n",
    "            cost_log = []\n",
    "            \n",
    "        if track_gradient is True:\n",
    "            grad_log = []\n",
    "            for i in range(self.n_layers):\n",
    "                grad_log.append([])\n",
    "        \n",
    "        for i in range(self.epochs):\n",
    "            result, outputs = self._feedforward(Xcopy)\n",
    "            self._get_gradient(result, outputs, Ycopy)\n",
    "            \n",
    "            if track_gradient is True:\n",
    "                for i in range(self.n_layers):\n",
    "                    grad_log[i].append(abs(np.mean(self.grads_[i])))\n",
    "\n",
    "            if show_cost is True:\n",
    "                if test_sets is None:\n",
    "                    cost_log.append(self._cost(result[-1], Ycopy))\n",
    "                else:\n",
    "                    cost_result, _ = self._feedforward(test_sets[0])\n",
    "                    cost_log.append(self._cost(cost_result[-1], test_sets[1]))\n",
    "                \n",
    "            if print_progress is True:\n",
    "                sys.stderr.write('\\rEpoch: {}/{}'.format(i+1, self.epochs))\n",
    "                sys.stderr.flush()\n",
    "                \n",
    "            for j in range(self.n_layers): \n",
    "                self.network_[j] -= self.alpha * self.grads_[j]\n",
    "                \n",
    "        if show_cost is True:\n",
    "            if test_sets == None:\n",
    "                which_score = 'Training'\n",
    "            else:\n",
    "                which_score = 'Validation'\n",
    "            plt.plot(np.arange(len(cost_log)), np.array(cost_log))\n",
    "            plt.title('{} {} Cost by Epoch on {} network'.format(which_score, self.cost.upper(), self.phi.upper()))\n",
    "            plt.xlim(0,self.epochs)\n",
    "            plt.ylim(0)\n",
    "            plt.xlabel('Epochs')\n",
    "            plt.ylabel('{} cost'.format(which_score))\n",
    "            plt.legend(loc='best')\n",
    "            plt.show()\n",
    "            \n",
    "        if track_gradient is True:\n",
    "            return grad_log\n",
    "        \n",
    "            \n",
    "    \n",
    "    def predict(self, X):\n",
    "        result, _ = self._feedforward(X)\n",
    "        yhat = np.argmax(result[-1], axis=0)\n",
    "        return yhat\n",
    "    \n",
    "    \n",
    "    \n",
    "    # these are just here to make the estimator compliant with sklearn's API\n",
    "    def get_params(self, deep=True):\n",
    "        return {\n",
    "            'alpha': self.alpha, 'C': self.C, 'phi': self.phi,\n",
    "            'cost': self.cost, 'n_hidden': self.n_hidden,\n",
    "            'size_hidden': self.size_hidden, 'epochs': self.epochs\n",
    "        }\n",
    "    \n",
    "    def set_params(self, **parameters):\n",
    "        for parameter, value in parameters.items():\n",
    "            setattr(self, parameter, value)\n",
    "        return self"
   ]
  },
  {
   "cell_type": "markdown",
   "metadata": {},
   "source": [
    "### Testing the Perceptron"
   ]
  },
  {
   "cell_type": "markdown",
   "metadata": {},
   "source": [
    "Now that we have the code for the multi-layer perceptron, let's do a quick check to make sure it actually works. We'll test each cost function/activation function combination on the iris dataset to make sure they all at least learn, hopefully well."
   ]
  },
  {
   "cell_type": "code",
   "execution_count": 33,
   "metadata": {
    "collapsed": true
   },
   "outputs": [],
   "source": [
    "from sklearn.datasets import load_iris\n",
    "iris = load_iris()"
   ]
  },
  {
   "cell_type": "code",
   "execution_count": 170,
   "metadata": {
    "scrolled": false
   },
   "outputs": [
    {
     "name": "stderr",
     "output_type": "stream",
     "text": [
      "Epoch: 500/500"
     ]
    },
    {
     "data": {
      "image/png": "[encoded data removed]",
      "text/plain": [
       "<matplotlib.figure.Figure at 0x2aab8e71afd0>"
      ]
     },
     "metadata": {},
     "output_type": "display_data"
    },
    {
     "name": "stderr",
     "output_type": "stream",
     "text": [
      "Epoch: 151/500"
     ]
    },
    {
     "name": "stdout",
     "output_type": "stream",
     "text": [
      "F1 score on iris training set is 0.8529132450701077\n"
     ]
    },
    {
     "name": "stderr",
     "output_type": "stream",
     "text": [
      "Epoch: 500/500"
     ]
    },
    {
     "data": {
      "image/png": "[encoded data removed]",
      "text/plain": [
       "<matplotlib.figure.Figure at 0x2aab8081b198>"
      ]
     },
     "metadata": {},
     "output_type": "display_data"
    },
    {
     "name": "stderr",
     "output_type": "stream",
     "text": [
      "Epoch: 140/500"
     ]
    },
    {
     "name": "stdout",
     "output_type": "stream",
     "text": [
      "F1 score on iris training set is 0.96\n"
     ]
    },
    {
     "name": "stderr",
     "output_type": "stream",
     "text": [
      "Epoch: 500/500"
     ]
    },
    {
     "data": {
      "image/png": "[encoded data removed]",
      "text/plain": [
       "<matplotlib.figure.Figure at 0x2aab7fee24a8>"
      ]
     },
     "metadata": {},
     "output_type": "display_data"
    },
    {
     "name": "stderr",
     "output_type": "stream",
     "text": [
      "Epoch: 110/500"
     ]
    },
    {
     "name": "stdout",
     "output_type": "stream",
     "text": [
      "F1 score on iris training set is 0.9733333333333333\n"
     ]
    },
    {
     "name": "stderr",
     "output_type": "stream",
     "text": [
      "Epoch: 500/500"
     ]
    },
    {
     "data": {
      "image/png": "[encoded data removed]",
      "text/plain": [
       "<matplotlib.figure.Figure at 0x2aab7f9df978>"
      ]
     },
     "metadata": {},
     "output_type": "display_data"
    },
    {
     "name": "stderr",
     "output_type": "stream",
     "text": [
      "Epoch: 140/500"
     ]
    },
    {
     "name": "stdout",
     "output_type": "stream",
     "text": [
      "F1 score on iris training set is 0.9466666666666667\n"
     ]
    },
    {
     "name": "stderr",
     "output_type": "stream",
     "text": [
      "Epoch: 500/500"
     ]
    },
    {
     "data": {
      "image/png": "[encoded data removed]",
      "text/plain": [
       "<matplotlib.figure.Figure at 0x2aab7f9db550>"
      ]
     },
     "metadata": {},
     "output_type": "display_data"
    },
    {
     "name": "stderr",
     "output_type": "stream",
     "text": [
      "Epoch: 164/500"
     ]
    },
    {
     "name": "stdout",
     "output_type": "stream",
     "text": [
      "F1 score on iris training set is 0.8931623931623932\n"
     ]
    },
    {
     "name": "stderr",
     "output_type": "stream",
     "text": [
      "Epoch: 500/500"
     ]
    },
    {
     "data": {
      "image/png": "[encoded data removed]",
      "text/plain": [
       "<matplotlib.figure.Figure at 0x2aab7f9780b8>"
      ]
     },
     "metadata": {},
     "output_type": "display_data"
    },
    {
     "name": "stderr",
     "output_type": "stream",
     "text": [
      "Epoch: 150/500"
     ]
    },
    {
     "name": "stdout",
     "output_type": "stream",
     "text": [
      "F1 score on iris training set is 0.9733226623982927\n"
     ]
    },
    {
     "name": "stderr",
     "output_type": "stream",
     "text": [
      "Epoch: 500/500"
     ]
    },
    {
     "data": {
      "image/png": "[encoded data removed]",
      "text/plain": [
       "<matplotlib.figure.Figure at 0x2aab7fee2d68>"
      ]
     },
     "metadata": {},
     "output_type": "display_data"
    },
    {
     "name": "stderr",
     "output_type": "stream",
     "text": [
      "Epoch: 115/500"
     ]
    },
    {
     "name": "stdout",
     "output_type": "stream",
     "text": [
      "F1 score on iris training set is 0.9666633329999667\n"
     ]
    },
    {
     "name": "stderr",
     "output_type": "stream",
     "text": [
      "Epoch: 500/500"
     ]
    },
    {
     "data": {
      "image/png": "[encoded data removed]",
      "text/plain": [
       "<matplotlib.figure.Figure at 0x2aab801f5cc0>"
      ]
     },
     "metadata": {},
     "output_type": "display_data"
    },
    {
     "name": "stdout",
     "output_type": "stream",
     "text": [
      "F1 score on iris training set is 0.9733226623982927\n"
     ]
    }
   ],
   "source": [
    "from sklearn.preprocessing import StandardScaler\n",
    "\n",
    "iris_dat = StandardScaler().fit_transform(iris.data)\n",
    "\n",
    "for cost in ['cross-entropy', 'mse']:\n",
    "    for activ in ['sigmoid', 'linear', 'relu', 'silu']:\n",
    "        mlp = MultiLayerPerceptron(n_hidden=2, size_hidden=15, epochs=500, phi=activ, alpha=0.001, cost=cost)\n",
    "\n",
    "        mlp.fit(iris_dat, iris.target, print_progress=True, show_cost=True)\n",
    "        print('F1 score on iris training set is {}'.format(f1_score(iris.target, mlp.predict(iris_dat), average='macro')))"
   ]
  },
  {
   "cell_type": "markdown",
   "metadata": {},
   "source": [
    "The whole thing appears to be at least passable. We will now proceed to  the analysis on our actual data."
   ]
  },
  {
   "cell_type": "code",
   "execution_count": 35,
   "metadata": {
    "collapsed": true
   },
   "outputs": [],
   "source": [
    "cov_scaled = StandardScaler().fit_transform(df_cov)\n",
    "cov_target -= 1 #zero-based"
   ]
  },
  {
   "cell_type": "markdown",
   "metadata": {},
   "source": [
    "First things first, let's just try running the MLP model on the coverage data."
   ]
  },
  {
   "cell_type": "code",
   "execution_count": 78,
   "metadata": {},
   "outputs": [
    {
     "name": "stderr",
     "output_type": "stream",
     "text": [
      "Epoch: 3/100"
     ]
    },
    {
     "data": {
      "image/png": "[encoded data removed]",
      "text/plain": [
       "<matplotlib.figure.Figure at 0x2aab8e71af60>"
      ]
     },
     "metadata": {},
     "output_type": "display_data"
    },
    {
     "name": "stdout",
     "output_type": "stream",
     "text": [
      "F1 score on training set looks like 0.2167357928888173\n"
     ]
    },
    {
     "data": {
      "image/png": "[encoded data removed]",
      "text/plain": [
       "<matplotlib.figure.Figure at 0x2aab8aa47c50>"
      ]
     },
     "metadata": {},
     "output_type": "display_data"
    }
   ],
   "source": [
    "mlp = MultiLayerPerceptron(alpha=0.000001, C=0.001,\n",
    "                           n_hidden=2, size_hidden=15,\n",
    "                           phi='relu', cost='cross-entropy',\n",
    "                          epochs=100)\n",
    "\n",
    "size_batch = int(X_train.shape[0]/3)\n",
    "batch_idx = np.random.choice(np.arange(X_train.shape[0]), size_batch, replace=False)\n",
    "data_batch = X_train[batch_idx]\n",
    "target_batch = y_train[batch_idx]\n",
    "\n",
    "grads = mlp.fit(data_batch, target_batch, show_cost=True, print_progress=True, track_gradient=True)\n",
    "\n",
    "print('F1 score on training set looks like {}'.format(\n",
    "    f1_scorer(mlp, data_batch, target_batch)))\n",
    "\n",
    "for i in range(mlp.n_layers):\n",
    "    plt.plot(np.arange(len(grads[0])), grads[i], label='layer {}'.format(i+1))\n",
    "plt.title('Visualization of gradients for {} network'.format(mlp.phi.upper()))\n",
    "plt.legend(loc='best')\n",
    "plt.show()"
   ]
  },
  {
   "cell_type": "markdown",
   "metadata": {},
   "source": [
    "The model certainly appears to train on the dataset in question. There might be a few problems, but it should be ready to move on to hyperparameter optimization."
   ]
  },
  {
   "cell_type": "markdown",
   "metadata": {},
   "source": [
    "### Hyperparameter Tuning"
   ]
  },
  {
   "cell_type": "markdown",
   "metadata": {},
   "source": [
    "We will now search for the hyperparameters (in particular, activation function, cost function, and number of hidden layers) that give us optimal performance on the forest coverage dataset. Here we will use onl 3-fold stratified cross-validation for this grid search in order to save time."
   ]
  },
  {
   "cell_type": "code",
   "execution_count": 37,
   "metadata": {},
   "outputs": [
    {
     "name": "stdout",
     "output_type": "stream",
     "text": [
      "Fitting 3 folds for each of 24 candidates, totalling 72 fits\n",
      "[CV] C=0.01, alpha=5e-05, cost=mse, epochs=50, n_hidden=1, phi=sigmoid, size_hidden=20 \n"
     ]
    },
    {
     "name": "stderr",
     "output_type": "stream",
     "text": [
      "Epoch: 50/50"
     ]
    },
    {
     "name": "stdout",
     "output_type": "stream",
     "text": [
      "[CV]  C=0.01, alpha=5e-05, cost=mse, epochs=50, n_hidden=1, phi=sigmoid, size_hidden=20, total=  17.3s\n",
      "[CV] C=0.01, alpha=5e-05, cost=mse, epochs=50, n_hidden=1, phi=sigmoid, size_hidden=20 \n"
     ]
    },
    {
     "name": "stderr",
     "output_type": "stream",
     "text": [
      "[Parallel(n_jobs=1)]: Done   1 out of   1 | elapsed:   17.6s remaining:    0.0s\n",
      "Epoch: 50/50"
     ]
    },
    {
     "name": "stdout",
     "output_type": "stream",
     "text": [
      "[CV]  C=0.01, alpha=5e-05, cost=mse, epochs=50, n_hidden=1, phi=sigmoid, size_hidden=20, total=  17.0s\n",
      "[CV] C=0.01, alpha=5e-05, cost=mse, epochs=50, n_hidden=1, phi=sigmoid, size_hidden=20 \n"
     ]
    },
    {
     "name": "stderr",
     "output_type": "stream",
     "text": [
      "Epoch: 50/50"
     ]
    },
    {
     "name": "stdout",
     "output_type": "stream",
     "text": [
      "[CV]  C=0.01, alpha=5e-05, cost=mse, epochs=50, n_hidden=1, phi=sigmoid, size_hidden=20, total=  17.1s\n",
      "[CV] C=0.01, alpha=5e-05, cost=mse, epochs=50, n_hidden=1, phi=linear, size_hidden=20 \n"
     ]
    },
    {
     "name": "stderr",
     "output_type": "stream",
     "text": [
      "Epoch: 50/50"
     ]
    },
    {
     "name": "stdout",
     "output_type": "stream",
     "text": [
      "[CV]  C=0.01, alpha=5e-05, cost=mse, epochs=50, n_hidden=1, phi=linear, size_hidden=20, total=  10.6s\n",
      "[CV] C=0.01, alpha=5e-05, cost=mse, epochs=50, n_hidden=1, phi=linear, size_hidden=20 \n"
     ]
    },
    {
     "name": "stderr",
     "output_type": "stream",
     "text": [
      "Epoch: 50/50"
     ]
    },
    {
     "name": "stdout",
     "output_type": "stream",
     "text": [
      "[CV]  C=0.01, alpha=5e-05, cost=mse, epochs=50, n_hidden=1, phi=linear, size_hidden=20, total=  10.5s\n",
      "[CV] C=0.01, alpha=5e-05, cost=mse, epochs=50, n_hidden=1, phi=linear, size_hidden=20 \n"
     ]
    },
    {
     "name": "stderr",
     "output_type": "stream",
     "text": [
      "Epoch: 50/50"
     ]
    },
    {
     "name": "stdout",
     "output_type": "stream",
     "text": [
      "[CV]  C=0.01, alpha=5e-05, cost=mse, epochs=50, n_hidden=1, phi=linear, size_hidden=20, total=  10.6s\n",
      "[CV] C=0.01, alpha=5e-05, cost=mse, epochs=50, n_hidden=1, phi=relu, size_hidden=20 \n"
     ]
    },
    {
     "name": "stderr",
     "output_type": "stream",
     "text": [
      "Epoch: 50/50"
     ]
    },
    {
     "name": "stdout",
     "output_type": "stream",
     "text": [
      "[CV]  C=0.01, alpha=5e-05, cost=mse, epochs=50, n_hidden=1, phi=relu, size_hidden=20, total=  12.2s\n",
      "[CV] C=0.01, alpha=5e-05, cost=mse, epochs=50, n_hidden=1, phi=relu, size_hidden=20 \n"
     ]
    },
    {
     "name": "stderr",
     "output_type": "stream",
     "text": [
      "Epoch: 50/50"
     ]
    },
    {
     "name": "stdout",
     "output_type": "stream",
     "text": [
      "[CV]  C=0.01, alpha=5e-05, cost=mse, epochs=50, n_hidden=1, phi=relu, size_hidden=20, total=  12.1s\n",
      "[CV] C=0.01, alpha=5e-05, cost=mse, epochs=50, n_hidden=1, phi=relu, size_hidden=20 \n"
     ]
    },
    {
     "name": "stderr",
     "output_type": "stream",
     "text": [
      "Epoch: 50/50"
     ]
    },
    {
     "name": "stdout",
     "output_type": "stream",
     "text": [
      "[CV]  C=0.01, alpha=5e-05, cost=mse, epochs=50, n_hidden=1, phi=relu, size_hidden=20, total=  12.3s\n",
      "[CV] C=0.01, alpha=5e-05, cost=mse, epochs=50, n_hidden=1, phi=silu, size_hidden=20 \n"
     ]
    },
    {
     "name": "stderr",
     "output_type": "stream",
     "text": [
      "Epoch: 50/50"
     ]
    },
    {
     "name": "stdout",
     "output_type": "stream",
     "text": [
      "[CV]  C=0.01, alpha=5e-05, cost=mse, epochs=50, n_hidden=1, phi=silu, size_hidden=20, total=  17.2s\n",
      "[CV] C=0.01, alpha=5e-05, cost=mse, epochs=50, n_hidden=1, phi=silu, size_hidden=20 \n"
     ]
    },
    {
     "name": "stderr",
     "output_type": "stream",
     "text": [
      "Epoch: 50/50"
     ]
    },
    {
     "name": "stdout",
     "output_type": "stream",
     "text": [
      "[CV]  C=0.01, alpha=5e-05, cost=mse, epochs=50, n_hidden=1, phi=silu, size_hidden=20, total=  17.5s\n",
      "[CV] C=0.01, alpha=5e-05, cost=mse, epochs=50, n_hidden=1, phi=silu, size_hidden=20 \n"
     ]
    },
    {
     "name": "stderr",
     "output_type": "stream",
     "text": [
      "Epoch: 50/50"
     ]
    },
    {
     "name": "stdout",
     "output_type": "stream",
     "text": [
      "[CV]  C=0.01, alpha=5e-05, cost=mse, epochs=50, n_hidden=1, phi=silu, size_hidden=20, total=  17.2s\n",
      "[CV] C=0.01, alpha=5e-05, cost=mse, epochs=50, n_hidden=2, phi=sigmoid, size_hidden=20 \n"
     ]
    },
    {
     "name": "stderr",
     "output_type": "stream",
     "text": [
      "Epoch: 50/50"
     ]
    },
    {
     "name": "stdout",
     "output_type": "stream",
     "text": [
      "[CV]  C=0.01, alpha=5e-05, cost=mse, epochs=50, n_hidden=2, phi=sigmoid, size_hidden=20, total=  17.4s\n",
      "[CV] C=0.01, alpha=5e-05, cost=mse, epochs=50, n_hidden=2, phi=sigmoid, size_hidden=20 \n"
     ]
    },
    {
     "name": "stderr",
     "output_type": "stream",
     "text": [
      "Epoch: 50/50"
     ]
    },
    {
     "name": "stdout",
     "output_type": "stream",
     "text": [
      "[CV]  C=0.01, alpha=5e-05, cost=mse, epochs=50, n_hidden=2, phi=sigmoid, size_hidden=20, total=  17.7s\n",
      "[CV] C=0.01, alpha=5e-05, cost=mse, epochs=50, n_hidden=2, phi=sigmoid, size_hidden=20 \n"
     ]
    },
    {
     "name": "stderr",
     "output_type": "stream",
     "text": [
      "Epoch: 50/50"
     ]
    },
    {
     "name": "stdout",
     "output_type": "stream",
     "text": [
      "[CV]  C=0.01, alpha=5e-05, cost=mse, epochs=50, n_hidden=2, phi=sigmoid, size_hidden=20, total=  17.1s\n",
      "[CV] C=0.01, alpha=5e-05, cost=mse, epochs=50, n_hidden=2, phi=linear, size_hidden=20 \n"
     ]
    },
    {
     "name": "stderr",
     "output_type": "stream",
     "text": [
      "Epoch: 50/50"
     ]
    },
    {
     "name": "stdout",
     "output_type": "stream",
     "text": [
      "[CV]  C=0.01, alpha=5e-05, cost=mse, epochs=50, n_hidden=2, phi=linear, size_hidden=20, total=  10.9s\n",
      "[CV] C=0.01, alpha=5e-05, cost=mse, epochs=50, n_hidden=2, phi=linear, size_hidden=20 \n"
     ]
    },
    {
     "name": "stderr",
     "output_type": "stream",
     "text": [
      "Epoch: 50/50"
     ]
    },
    {
     "name": "stdout",
     "output_type": "stream",
     "text": [
      "[CV]  C=0.01, alpha=5e-05, cost=mse, epochs=50, n_hidden=2, phi=linear, size_hidden=20, total=  10.8s\n",
      "[CV] C=0.01, alpha=5e-05, cost=mse, epochs=50, n_hidden=2, phi=linear, size_hidden=20 \n"
     ]
    },
    {
     "name": "stderr",
     "output_type": "stream",
     "text": [
      "Epoch: 50/50"
     ]
    },
    {
     "name": "stdout",
     "output_type": "stream",
     "text": [
      "[CV]  C=0.01, alpha=5e-05, cost=mse, epochs=50, n_hidden=2, phi=linear, size_hidden=20, total=  10.6s\n",
      "[CV] C=0.01, alpha=5e-05, cost=mse, epochs=50, n_hidden=2, phi=relu, size_hidden=20 \n"
     ]
    },
    {
     "name": "stderr",
     "output_type": "stream",
     "text": [
      "Epoch: 50/50"
     ]
    },
    {
     "name": "stdout",
     "output_type": "stream",
     "text": [
      "[CV]  C=0.01, alpha=5e-05, cost=mse, epochs=50, n_hidden=2, phi=relu, size_hidden=20, total=  12.2s\n",
      "[CV] C=0.01, alpha=5e-05, cost=mse, epochs=50, n_hidden=2, phi=relu, size_hidden=20 \n"
     ]
    },
    {
     "name": "stderr",
     "output_type": "stream",
     "text": [
      "Epoch: 50/50"
     ]
    },
    {
     "name": "stdout",
     "output_type": "stream",
     "text": [
      "[CV]  C=0.01, alpha=5e-05, cost=mse, epochs=50, n_hidden=2, phi=relu, size_hidden=20, total=  12.2s\n",
      "[CV] C=0.01, alpha=5e-05, cost=mse, epochs=50, n_hidden=2, phi=relu, size_hidden=20 \n"
     ]
    },
    {
     "name": "stderr",
     "output_type": "stream",
     "text": [
      "Epoch: 50/50"
     ]
    },
    {
     "name": "stdout",
     "output_type": "stream",
     "text": [
      "[CV]  C=0.01, alpha=5e-05, cost=mse, epochs=50, n_hidden=2, phi=relu, size_hidden=20, total=  12.2s\n",
      "[CV] C=0.01, alpha=5e-05, cost=mse, epochs=50, n_hidden=2, phi=silu, size_hidden=20 \n"
     ]
    },
    {
     "name": "stderr",
     "output_type": "stream",
     "text": [
      "Epoch: 50/50"
     ]
    },
    {
     "name": "stdout",
     "output_type": "stream",
     "text": [
      "[CV]  C=0.01, alpha=5e-05, cost=mse, epochs=50, n_hidden=2, phi=silu, size_hidden=20, total=  17.1s\n",
      "[CV] C=0.01, alpha=5e-05, cost=mse, epochs=50, n_hidden=2, phi=silu, size_hidden=20 \n"
     ]
    },
    {
     "name": "stderr",
     "output_type": "stream",
     "text": [
      "Epoch: 50/50"
     ]
    },
    {
     "name": "stdout",
     "output_type": "stream",
     "text": [
      "[CV]  C=0.01, alpha=5e-05, cost=mse, epochs=50, n_hidden=2, phi=silu, size_hidden=20, total=  17.5s\n",
      "[CV] C=0.01, alpha=5e-05, cost=mse, epochs=50, n_hidden=2, phi=silu, size_hidden=20 \n"
     ]
    },
    {
     "name": "stderr",
     "output_type": "stream",
     "text": [
      "Epoch: 50/50"
     ]
    },
    {
     "name": "stdout",
     "output_type": "stream",
     "text": [
      "[CV]  C=0.01, alpha=5e-05, cost=mse, epochs=50, n_hidden=2, phi=silu, size_hidden=20, total=  17.3s\n",
      "[CV] C=0.01, alpha=5e-05, cost=mse, epochs=50, n_hidden=3, phi=sigmoid, size_hidden=20 \n"
     ]
    },
    {
     "name": "stderr",
     "output_type": "stream",
     "text": [
      "Epoch: 50/50"
     ]
    },
    {
     "name": "stdout",
     "output_type": "stream",
     "text": [
      "[CV]  C=0.01, alpha=5e-05, cost=mse, epochs=50, n_hidden=3, phi=sigmoid, size_hidden=20, total=  17.1s\n",
      "[CV] C=0.01, alpha=5e-05, cost=mse, epochs=50, n_hidden=3, phi=sigmoid, size_hidden=20 \n"
     ]
    },
    {
     "name": "stderr",
     "output_type": "stream",
     "text": [
      "Epoch: 50/50"
     ]
    },
    {
     "name": "stdout",
     "output_type": "stream",
     "text": [
      "[CV]  C=0.01, alpha=5e-05, cost=mse, epochs=50, n_hidden=3, phi=sigmoid, size_hidden=20, total=  17.3s\n",
      "[CV] C=0.01, alpha=5e-05, cost=mse, epochs=50, n_hidden=3, phi=sigmoid, size_hidden=20 \n"
     ]
    },
    {
     "name": "stderr",
     "output_type": "stream",
     "text": [
      "Epoch: 50/50"
     ]
    },
    {
     "name": "stdout",
     "output_type": "stream",
     "text": [
      "[CV]  C=0.01, alpha=5e-05, cost=mse, epochs=50, n_hidden=3, phi=sigmoid, size_hidden=20, total=  17.4s\n",
      "[CV] C=0.01, alpha=5e-05, cost=mse, epochs=50, n_hidden=3, phi=linear, size_hidden=20 \n"
     ]
    },
    {
     "name": "stderr",
     "output_type": "stream",
     "text": [
      "Epoch: 50/50"
     ]
    },
    {
     "name": "stdout",
     "output_type": "stream",
     "text": [
      "[CV]  C=0.01, alpha=5e-05, cost=mse, epochs=50, n_hidden=3, phi=linear, size_hidden=20, total=  10.7s\n",
      "[CV] C=0.01, alpha=5e-05, cost=mse, epochs=50, n_hidden=3, phi=linear, size_hidden=20 \n"
     ]
    },
    {
     "name": "stderr",
     "output_type": "stream",
     "text": [
      "Epoch: 50/50"
     ]
    },
    {
     "name": "stdout",
     "output_type": "stream",
     "text": [
      "[CV]  C=0.01, alpha=5e-05, cost=mse, epochs=50, n_hidden=3, phi=linear, size_hidden=20, total=  10.7s\n",
      "[CV] C=0.01, alpha=5e-05, cost=mse, epochs=50, n_hidden=3, phi=linear, size_hidden=20 \n"
     ]
    },
    {
     "name": "stderr",
     "output_type": "stream",
     "text": [
      "Epoch: 50/50"
     ]
    },
    {
     "name": "stdout",
     "output_type": "stream",
     "text": [
      "[CV]  C=0.01, alpha=5e-05, cost=mse, epochs=50, n_hidden=3, phi=linear, size_hidden=20, total=  10.6s\n",
      "[CV] C=0.01, alpha=5e-05, cost=mse, epochs=50, n_hidden=3, phi=relu, size_hidden=20 \n"
     ]
    },
    {
     "name": "stderr",
     "output_type": "stream",
     "text": [
      "Epoch: 50/50"
     ]
    },
    {
     "name": "stdout",
     "output_type": "stream",
     "text": [
      "[CV]  C=0.01, alpha=5e-05, cost=mse, epochs=50, n_hidden=3, phi=relu, size_hidden=20, total=  12.2s\n",
      "[CV] C=0.01, alpha=5e-05, cost=mse, epochs=50, n_hidden=3, phi=relu, size_hidden=20 \n"
     ]
    },
    {
     "name": "stderr",
     "output_type": "stream",
     "text": [
      "Epoch: 50/50"
     ]
    },
    {
     "name": "stdout",
     "output_type": "stream",
     "text": [
      "[CV]  C=0.01, alpha=5e-05, cost=mse, epochs=50, n_hidden=3, phi=relu, size_hidden=20, total=  12.2s\n",
      "[CV] C=0.01, alpha=5e-05, cost=mse, epochs=50, n_hidden=3, phi=relu, size_hidden=20 \n"
     ]
    },
    {
     "name": "stderr",
     "output_type": "stream",
     "text": [
      "Epoch: 50/50"
     ]
    },
    {
     "name": "stdout",
     "output_type": "stream",
     "text": [
      "[CV]  C=0.01, alpha=5e-05, cost=mse, epochs=50, n_hidden=3, phi=relu, size_hidden=20, total=  12.1s\n",
      "[CV] C=0.01, alpha=5e-05, cost=mse, epochs=50, n_hidden=3, phi=silu, size_hidden=20 \n"
     ]
    },
    {
     "name": "stderr",
     "output_type": "stream",
     "text": [
      "Epoch: 50/50"
     ]
    },
    {
     "name": "stdout",
     "output_type": "stream",
     "text": [
      "[CV]  C=0.01, alpha=5e-05, cost=mse, epochs=50, n_hidden=3, phi=silu, size_hidden=20, total=  18.0s\n",
      "[CV] C=0.01, alpha=5e-05, cost=mse, epochs=50, n_hidden=3, phi=silu, size_hidden=20 \n"
     ]
    },
    {
     "name": "stderr",
     "output_type": "stream",
     "text": [
      "Epoch: 50/50"
     ]
    },
    {
     "name": "stdout",
     "output_type": "stream",
     "text": [
      "[CV]  C=0.01, alpha=5e-05, cost=mse, epochs=50, n_hidden=3, phi=silu, size_hidden=20, total=  17.3s\n",
      "[CV] C=0.01, alpha=5e-05, cost=mse, epochs=50, n_hidden=3, phi=silu, size_hidden=20 \n"
     ]
    },
    {
     "name": "stderr",
     "output_type": "stream",
     "text": [
      "Epoch: 50/50"
     ]
    },
    {
     "name": "stdout",
     "output_type": "stream",
     "text": [
      "[CV]  C=0.01, alpha=5e-05, cost=mse, epochs=50, n_hidden=3, phi=silu, size_hidden=20, total=  17.2s\n",
      "[CV] C=0.01, alpha=5e-05, cost=cross-entropy, epochs=50, n_hidden=1, phi=sigmoid, size_hidden=20 \n"
     ]
    },
    {
     "name": "stderr",
     "output_type": "stream",
     "text": [
      "Epoch: 50/50"
     ]
    },
    {
     "name": "stdout",
     "output_type": "stream",
     "text": [
      "[CV]  C=0.01, alpha=5e-05, cost=cross-entropy, epochs=50, n_hidden=1, phi=sigmoid, size_hidden=20, total=  17.7s\n",
      "[CV] C=0.01, alpha=5e-05, cost=cross-entropy, epochs=50, n_hidden=1, phi=sigmoid, size_hidden=20 \n"
     ]
    },
    {
     "name": "stderr",
     "output_type": "stream",
     "text": [
      "Epoch: 50/50"
     ]
    },
    {
     "name": "stdout",
     "output_type": "stream",
     "text": [
      "[CV]  C=0.01, alpha=5e-05, cost=cross-entropy, epochs=50, n_hidden=1, phi=sigmoid, size_hidden=20, total=  17.1s\n",
      "[CV] C=0.01, alpha=5e-05, cost=cross-entropy, epochs=50, n_hidden=1, phi=sigmoid, size_hidden=20 \n"
     ]
    },
    {
     "name": "stderr",
     "output_type": "stream",
     "text": [
      "Epoch: 50/50"
     ]
    },
    {
     "name": "stdout",
     "output_type": "stream",
     "text": [
      "[CV]  C=0.01, alpha=5e-05, cost=cross-entropy, epochs=50, n_hidden=1, phi=sigmoid, size_hidden=20, total=  17.4s\n",
      "[CV] C=0.01, alpha=5e-05, cost=cross-entropy, epochs=50, n_hidden=1, phi=linear, size_hidden=20 \n"
     ]
    },
    {
     "name": "stderr",
     "output_type": "stream",
     "text": [
      "Epoch: 50/50"
     ]
    },
    {
     "name": "stdout",
     "output_type": "stream",
     "text": [
      "[CV]  C=0.01, alpha=5e-05, cost=cross-entropy, epochs=50, n_hidden=1, phi=linear, size_hidden=20, total=  10.3s\n",
      "[CV] C=0.01, alpha=5e-05, cost=cross-entropy, epochs=50, n_hidden=1, phi=linear, size_hidden=20 \n"
     ]
    },
    {
     "name": "stderr",
     "output_type": "stream",
     "text": [
      "Epoch: 50/50"
     ]
    },
    {
     "name": "stdout",
     "output_type": "stream",
     "text": [
      "[CV]  C=0.01, alpha=5e-05, cost=cross-entropy, epochs=50, n_hidden=1, phi=linear, size_hidden=20, total=  10.6s\n",
      "[CV] C=0.01, alpha=5e-05, cost=cross-entropy, epochs=50, n_hidden=1, phi=linear, size_hidden=20 \n"
     ]
    },
    {
     "name": "stderr",
     "output_type": "stream",
     "text": [
      "Epoch: 50/50"
     ]
    },
    {
     "name": "stdout",
     "output_type": "stream",
     "text": [
      "[CV]  C=0.01, alpha=5e-05, cost=cross-entropy, epochs=50, n_hidden=1, phi=linear, size_hidden=20, total=  10.4s\n",
      "[CV] C=0.01, alpha=5e-05, cost=cross-entropy, epochs=50, n_hidden=1, phi=relu, size_hidden=20 \n"
     ]
    },
    {
     "name": "stderr",
     "output_type": "stream",
     "text": [
      "Epoch: 50/50"
     ]
    },
    {
     "name": "stdout",
     "output_type": "stream",
     "text": [
      "[CV]  C=0.01, alpha=5e-05, cost=cross-entropy, epochs=50, n_hidden=1, phi=relu, size_hidden=20, total=  11.7s\n",
      "[CV] C=0.01, alpha=5e-05, cost=cross-entropy, epochs=50, n_hidden=1, phi=relu, size_hidden=20 \n"
     ]
    },
    {
     "name": "stderr",
     "output_type": "stream",
     "text": [
      "Epoch: 50/50"
     ]
    },
    {
     "name": "stdout",
     "output_type": "stream",
     "text": [
      "[CV]  C=0.01, alpha=5e-05, cost=cross-entropy, epochs=50, n_hidden=1, phi=relu, size_hidden=20, total=  11.9s\n",
      "[CV] C=0.01, alpha=5e-05, cost=cross-entropy, epochs=50, n_hidden=1, phi=relu, size_hidden=20 \n"
     ]
    },
    {
     "name": "stderr",
     "output_type": "stream",
     "text": [
      "Epoch: 50/50"
     ]
    },
    {
     "name": "stdout",
     "output_type": "stream",
     "text": [
      "[CV]  C=0.01, alpha=5e-05, cost=cross-entropy, epochs=50, n_hidden=1, phi=relu, size_hidden=20, total=  11.7s\n",
      "[CV] C=0.01, alpha=5e-05, cost=cross-entropy, epochs=50, n_hidden=1, phi=silu, size_hidden=20 \n"
     ]
    },
    {
     "name": "stderr",
     "output_type": "stream",
     "text": [
      "Epoch: 50/50"
     ]
    },
    {
     "name": "stdout",
     "output_type": "stream",
     "text": [
      "[CV]  C=0.01, alpha=5e-05, cost=cross-entropy, epochs=50, n_hidden=1, phi=silu, size_hidden=20, total=  16.9s\n",
      "[CV] C=0.01, alpha=5e-05, cost=cross-entropy, epochs=50, n_hidden=1, phi=silu, size_hidden=20 \n"
     ]
    },
    {
     "name": "stderr",
     "output_type": "stream",
     "text": [
      "Epoch: 50/50"
     ]
    },
    {
     "name": "stdout",
     "output_type": "stream",
     "text": [
      "[CV]  C=0.01, alpha=5e-05, cost=cross-entropy, epochs=50, n_hidden=1, phi=silu, size_hidden=20, total=  16.8s\n",
      "[CV] C=0.01, alpha=5e-05, cost=cross-entropy, epochs=50, n_hidden=1, phi=silu, size_hidden=20 \n"
     ]
    },
    {
     "name": "stderr",
     "output_type": "stream",
     "text": [
      "Epoch: 50/50"
     ]
    },
    {
     "name": "stdout",
     "output_type": "stream",
     "text": [
      "[CV]  C=0.01, alpha=5e-05, cost=cross-entropy, epochs=50, n_hidden=1, phi=silu, size_hidden=20, total=  17.0s\n",
      "[CV] C=0.01, alpha=5e-05, cost=cross-entropy, epochs=50, n_hidden=2, phi=sigmoid, size_hidden=20 \n"
     ]
    },
    {
     "name": "stderr",
     "output_type": "stream",
     "text": [
      "Epoch: 50/50"
     ]
    },
    {
     "name": "stdout",
     "output_type": "stream",
     "text": [
      "[CV]  C=0.01, alpha=5e-05, cost=cross-entropy, epochs=50, n_hidden=2, phi=sigmoid, size_hidden=20, total=  17.8s\n",
      "[CV] C=0.01, alpha=5e-05, cost=cross-entropy, epochs=50, n_hidden=2, phi=sigmoid, size_hidden=20 \n"
     ]
    },
    {
     "name": "stderr",
     "output_type": "stream",
     "text": [
      "Epoch: 50/50"
     ]
    },
    {
     "name": "stdout",
     "output_type": "stream",
     "text": [
      "[CV]  C=0.01, alpha=5e-05, cost=cross-entropy, epochs=50, n_hidden=2, phi=sigmoid, size_hidden=20, total=  17.3s\n",
      "[CV] C=0.01, alpha=5e-05, cost=cross-entropy, epochs=50, n_hidden=2, phi=sigmoid, size_hidden=20 \n"
     ]
    },
    {
     "name": "stderr",
     "output_type": "stream",
     "text": [
      "Epoch: 50/50"
     ]
    },
    {
     "name": "stdout",
     "output_type": "stream",
     "text": [
      "[CV]  C=0.01, alpha=5e-05, cost=cross-entropy, epochs=50, n_hidden=2, phi=sigmoid, size_hidden=20, total=  17.3s\n",
      "[CV] C=0.01, alpha=5e-05, cost=cross-entropy, epochs=50, n_hidden=2, phi=linear, size_hidden=20 \n"
     ]
    },
    {
     "name": "stderr",
     "output_type": "stream",
     "text": [
      "Epoch: 50/50"
     ]
    },
    {
     "name": "stdout",
     "output_type": "stream",
     "text": [
      "[CV]  C=0.01, alpha=5e-05, cost=cross-entropy, epochs=50, n_hidden=2, phi=linear, size_hidden=20, total=  10.4s\n",
      "[CV] C=0.01, alpha=5e-05, cost=cross-entropy, epochs=50, n_hidden=2, phi=linear, size_hidden=20 \n"
     ]
    },
    {
     "name": "stderr",
     "output_type": "stream",
     "text": [
      "Epoch: 50/50"
     ]
    },
    {
     "name": "stdout",
     "output_type": "stream",
     "text": [
      "[CV]  C=0.01, alpha=5e-05, cost=cross-entropy, epochs=50, n_hidden=2, phi=linear, size_hidden=20, total=  10.3s\n",
      "[CV] C=0.01, alpha=5e-05, cost=cross-entropy, epochs=50, n_hidden=2, phi=linear, size_hidden=20 \n"
     ]
    },
    {
     "name": "stderr",
     "output_type": "stream",
     "text": [
      "Epoch: 50/50"
     ]
    },
    {
     "name": "stdout",
     "output_type": "stream",
     "text": [
      "[CV]  C=0.01, alpha=5e-05, cost=cross-entropy, epochs=50, n_hidden=2, phi=linear, size_hidden=20, total=  10.4s\n",
      "[CV] C=0.01, alpha=5e-05, cost=cross-entropy, epochs=50, n_hidden=2, phi=relu, size_hidden=20 \n"
     ]
    },
    {
     "name": "stderr",
     "output_type": "stream",
     "text": [
      "Epoch: 50/50"
     ]
    },
    {
     "name": "stdout",
     "output_type": "stream",
     "text": [
      "[CV]  C=0.01, alpha=5e-05, cost=cross-entropy, epochs=50, n_hidden=2, phi=relu, size_hidden=20, total=  11.7s\n",
      "[CV] C=0.01, alpha=5e-05, cost=cross-entropy, epochs=50, n_hidden=2, phi=relu, size_hidden=20 \n"
     ]
    },
    {
     "name": "stderr",
     "output_type": "stream",
     "text": [
      "Epoch: 50/50"
     ]
    },
    {
     "name": "stdout",
     "output_type": "stream",
     "text": [
      "[CV]  C=0.01, alpha=5e-05, cost=cross-entropy, epochs=50, n_hidden=2, phi=relu, size_hidden=20, total=  11.9s\n",
      "[CV] C=0.01, alpha=5e-05, cost=cross-entropy, epochs=50, n_hidden=2, phi=relu, size_hidden=20 \n"
     ]
    },
    {
     "name": "stderr",
     "output_type": "stream",
     "text": [
      "Epoch: 50/50"
     ]
    },
    {
     "name": "stdout",
     "output_type": "stream",
     "text": [
      "[CV]  C=0.01, alpha=5e-05, cost=cross-entropy, epochs=50, n_hidden=2, phi=relu, size_hidden=20, total=  11.9s\n",
      "[CV] C=0.01, alpha=5e-05, cost=cross-entropy, epochs=50, n_hidden=2, phi=silu, size_hidden=20 \n"
     ]
    },
    {
     "name": "stderr",
     "output_type": "stream",
     "text": [
      "Epoch: 50/50"
     ]
    },
    {
     "name": "stdout",
     "output_type": "stream",
     "text": [
      "[CV]  C=0.01, alpha=5e-05, cost=cross-entropy, epochs=50, n_hidden=2, phi=silu, size_hidden=20, total=  17.0s\n",
      "[CV] C=0.01, alpha=5e-05, cost=cross-entropy, epochs=50, n_hidden=2, phi=silu, size_hidden=20 \n"
     ]
    },
    {
     "name": "stderr",
     "output_type": "stream",
     "text": [
      "Epoch: 50/50"
     ]
    },
    {
     "name": "stdout",
     "output_type": "stream",
     "text": [
      "[CV]  C=0.01, alpha=5e-05, cost=cross-entropy, epochs=50, n_hidden=2, phi=silu, size_hidden=20, total=  17.1s\n",
      "[CV] C=0.01, alpha=5e-05, cost=cross-entropy, epochs=50, n_hidden=2, phi=silu, size_hidden=20 \n"
     ]
    },
    {
     "name": "stderr",
     "output_type": "stream",
     "text": [
      "Epoch: 50/50"
     ]
    },
    {
     "name": "stdout",
     "output_type": "stream",
     "text": [
      "[CV]  C=0.01, alpha=5e-05, cost=cross-entropy, epochs=50, n_hidden=2, phi=silu, size_hidden=20, total=  17.5s\n",
      "[CV] C=0.01, alpha=5e-05, cost=cross-entropy, epochs=50, n_hidden=3, phi=sigmoid, size_hidden=20 \n"
     ]
    },
    {
     "name": "stderr",
     "output_type": "stream",
     "text": [
      "Epoch: 50/50"
     ]
    },
    {
     "name": "stdout",
     "output_type": "stream",
     "text": [
      "[CV]  C=0.01, alpha=5e-05, cost=cross-entropy, epochs=50, n_hidden=3, phi=sigmoid, size_hidden=20, total=  16.9s\n",
      "[CV] C=0.01, alpha=5e-05, cost=cross-entropy, epochs=50, n_hidden=3, phi=sigmoid, size_hidden=20 \n"
     ]
    },
    {
     "name": "stderr",
     "output_type": "stream",
     "text": [
      "Epoch: 50/50"
     ]
    },
    {
     "name": "stdout",
     "output_type": "stream",
     "text": [
      "[CV]  C=0.01, alpha=5e-05, cost=cross-entropy, epochs=50, n_hidden=3, phi=sigmoid, size_hidden=20, total=  17.5s\n",
      "[CV] C=0.01, alpha=5e-05, cost=cross-entropy, epochs=50, n_hidden=3, phi=sigmoid, size_hidden=20 \n"
     ]
    },
    {
     "name": "stderr",
     "output_type": "stream",
     "text": [
      "Epoch: 50/50"
     ]
    },
    {
     "name": "stdout",
     "output_type": "stream",
     "text": [
      "[CV]  C=0.01, alpha=5e-05, cost=cross-entropy, epochs=50, n_hidden=3, phi=sigmoid, size_hidden=20, total=  17.0s\n",
      "[CV] C=0.01, alpha=5e-05, cost=cross-entropy, epochs=50, n_hidden=3, phi=linear, size_hidden=20 \n"
     ]
    },
    {
     "name": "stderr",
     "output_type": "stream",
     "text": [
      "Epoch: 50/50"
     ]
    },
    {
     "name": "stdout",
     "output_type": "stream",
     "text": [
      "[CV]  C=0.01, alpha=5e-05, cost=cross-entropy, epochs=50, n_hidden=3, phi=linear, size_hidden=20, total=  10.4s\n",
      "[CV] C=0.01, alpha=5e-05, cost=cross-entropy, epochs=50, n_hidden=3, phi=linear, size_hidden=20 \n"
     ]
    },
    {
     "name": "stderr",
     "output_type": "stream",
     "text": [
      "Epoch: 50/50"
     ]
    },
    {
     "name": "stdout",
     "output_type": "stream",
     "text": [
      "[CV]  C=0.01, alpha=5e-05, cost=cross-entropy, epochs=50, n_hidden=3, phi=linear, size_hidden=20, total=  10.4s\n",
      "[CV] C=0.01, alpha=5e-05, cost=cross-entropy, epochs=50, n_hidden=3, phi=linear, size_hidden=20 \n"
     ]
    },
    {
     "name": "stderr",
     "output_type": "stream",
     "text": [
      "Epoch: 50/50"
     ]
    },
    {
     "name": "stdout",
     "output_type": "stream",
     "text": [
      "[CV]  C=0.01, alpha=5e-05, cost=cross-entropy, epochs=50, n_hidden=3, phi=linear, size_hidden=20, total=  10.6s\n",
      "[CV] C=0.01, alpha=5e-05, cost=cross-entropy, epochs=50, n_hidden=3, phi=relu, size_hidden=20 \n"
     ]
    },
    {
     "name": "stderr",
     "output_type": "stream",
     "text": [
      "Epoch: 50/50"
     ]
    },
    {
     "name": "stdout",
     "output_type": "stream",
     "text": [
      "[CV]  C=0.01, alpha=5e-05, cost=cross-entropy, epochs=50, n_hidden=3, phi=relu, size_hidden=20, total=  11.8s\n",
      "[CV] C=0.01, alpha=5e-05, cost=cross-entropy, epochs=50, n_hidden=3, phi=relu, size_hidden=20 \n"
     ]
    },
    {
     "name": "stderr",
     "output_type": "stream",
     "text": [
      "Epoch: 50/50"
     ]
    },
    {
     "name": "stdout",
     "output_type": "stream",
     "text": [
      "[CV]  C=0.01, alpha=5e-05, cost=cross-entropy, epochs=50, n_hidden=3, phi=relu, size_hidden=20, total=  11.8s\n",
      "[CV] C=0.01, alpha=5e-05, cost=cross-entropy, epochs=50, n_hidden=3, phi=relu, size_hidden=20 \n"
     ]
    },
    {
     "name": "stderr",
     "output_type": "stream",
     "text": [
      "Epoch: 50/50"
     ]
    },
    {
     "name": "stdout",
     "output_type": "stream",
     "text": [
      "[CV]  C=0.01, alpha=5e-05, cost=cross-entropy, epochs=50, n_hidden=3, phi=relu, size_hidden=20, total=  11.8s\n",
      "[CV] C=0.01, alpha=5e-05, cost=cross-entropy, epochs=50, n_hidden=3, phi=silu, size_hidden=20 \n"
     ]
    },
    {
     "name": "stderr",
     "output_type": "stream",
     "text": [
      "Epoch: 50/50"
     ]
    },
    {
     "name": "stdout",
     "output_type": "stream",
     "text": [
      "[CV]  C=0.01, alpha=5e-05, cost=cross-entropy, epochs=50, n_hidden=3, phi=silu, size_hidden=20, total=  17.4s\n",
      "[CV] C=0.01, alpha=5e-05, cost=cross-entropy, epochs=50, n_hidden=3, phi=silu, size_hidden=20 \n"
     ]
    },
    {
     "name": "stderr",
     "output_type": "stream",
     "text": [
      "Epoch: 50/50"
     ]
    },
    {
     "name": "stdout",
     "output_type": "stream",
     "text": [
      "[CV]  C=0.01, alpha=5e-05, cost=cross-entropy, epochs=50, n_hidden=3, phi=silu, size_hidden=20, total=  16.9s\n",
      "[CV] C=0.01, alpha=5e-05, cost=cross-entropy, epochs=50, n_hidden=3, phi=silu, size_hidden=20 \n"
     ]
    },
    {
     "name": "stderr",
     "output_type": "stream",
     "text": [
      "Epoch: 50/50"
     ]
    },
    {
     "name": "stdout",
     "output_type": "stream",
     "text": [
      "[CV]  C=0.01, alpha=5e-05, cost=cross-entropy, epochs=50, n_hidden=3, phi=silu, size_hidden=20, total=  17.2s\n"
     ]
    },
    {
     "name": "stderr",
     "output_type": "stream",
     "text": [
      "[Parallel(n_jobs=1)]: Done  72 out of  72 | elapsed: 17.5min finished\n",
      "Epoch: 50/50"
     ]
    },
    {
     "data": {
      "text/plain": [
       "GridSearchCV(cv=3, error_score='raise',\n",
       "       estimator=<__main__.MultiLayerPerceptron object at 0x2aab751c7ba8>,\n",
       "       fit_params={}, iid=True, n_jobs=1,\n",
       "       param_grid={'phi': ['sigmoid', 'linear', 'relu', 'silu'], 'cost': ['mse', 'cross-entropy'], 'n_hidden': [1, 2, 3], 'alpha': [5e-05], 'epochs': [50], 'C': [0.01], 'size_hidden': [20]},\n",
       "       pre_dispatch='2*n_jobs', refit=True, return_train_score=True,\n",
       "       scoring=make_scorer(f1_score, average=macro), verbose=2)"
      ]
     },
     "execution_count": 37,
     "metadata": {},
     "output_type": "execute_result"
    }
   ],
   "source": [
    "from sklearn.metrics import make_scorer\n",
    "from sklearn.model_selection import GridSearchCV\n",
    "\n",
    "f1_scorer = make_scorer(f1_score, average='macro')\n",
    "\n",
    "param_grid = {\n",
    "    'phi': ['sigmoid', 'linear', 'relu', 'silu'],\n",
    "    'cost': ['mse', 'cross-entropy'],\n",
    "    'n_hidden': [1,2,3],\n",
    "    'alpha': [0.00005],\n",
    "    'epochs': [50], #unfortunately, it takes a while to get nice convergence\n",
    "    'C': [0.01],\n",
    "    'size_hidden': [20]\n",
    "}\n",
    "\n",
    "gs = GridSearchCV(estimator=MultiLayerPerceptron(),\n",
    "                  param_grid=param_grid,\n",
    "                  cv=3, #default is to use SKF, so no need to supply our own\n",
    "                  scoring=f1_scorer,\n",
    "                  verbose=2\n",
    "                 )\n",
    "\n",
    "# gs.fit(X_train, y_train)"
   ]
  },
  {
   "cell_type": "code",
   "execution_count": 42,
   "metadata": {
    "collapsed": true
   },
   "outputs": [],
   "source": [
    "import pickle\n",
    "\n",
    "# pickle.dump(gs, open('grid-search.p', 'wb'))"
   ]
  },
  {
   "cell_type": "code",
   "execution_count": null,
   "metadata": {
    "collapsed": true
   },
   "outputs": [],
   "source": [
    "gs = pickle.load(open('grid-search.p', 'rb'))"
   ]
  },
  {
   "cell_type": "code",
   "execution_count": 41,
   "metadata": {},
   "outputs": [
    {
     "name": "stdout",
     "output_type": "stream",
     "text": [
      "According to the grid search, the best performer was a sigmoid network with cross-entropy cost function and 1 hidden layers, which achieved an f1 score of 0.07449511332190019.\n"
     ]
    }
   ],
   "source": [
    "bp = gs.best_params_\n",
    "\n",
    "print('According to the grid search, the best performer was a {} network with {} cost function and {} hidden layer(s), which achieved an f1 score of {}.'.format(bp['phi'], bp['cost'], bp['n_hidden'], gs.best_score_))"
   ]
  },
  {
   "cell_type": "markdown",
   "metadata": {},
   "source": [
    "Well, clearly this is wrong. We've already seen the classifier blow that score out of the water just in preliminary testing. Let's try using parameters that appear to have done better so far."
   ]
  },
  {
   "cell_type": "code",
   "execution_count": 81,
   "metadata": {},
   "outputs": [
    {
     "name": "stdout",
     "output_type": "stream",
     "text": [
      "Fitting 3 folds for each of 24 candidates, totalling 72 fits\n",
      "[CV] C=0.001, alpha=1e-06, cost=mse, epochs=50, n_hidden=1, phi=sigmoid, size_hidden=15 \n"
     ]
    },
    {
     "name": "stderr",
     "output_type": "stream",
     "text": [
      "Epoch: 50/50"
     ]
    },
    {
     "name": "stdout",
     "output_type": "stream",
     "text": [
      "[CV]  C=0.001, alpha=1e-06, cost=mse, epochs=50, n_hidden=1, phi=sigmoid, size_hidden=15, score=0.116407, total=  14.4s\n",
      "[CV] C=0.001, alpha=1e-06, cost=mse, epochs=50, n_hidden=1, phi=sigmoid, size_hidden=15 \n"
     ]
    },
    {
     "name": "stderr",
     "output_type": "stream",
     "text": [
      "[Parallel(n_jobs=1)]: Done   1 out of   1 | elapsed:   14.7s remaining:    0.0s\n",
      "Epoch: 50/50"
     ]
    },
    {
     "name": "stdout",
     "output_type": "stream",
     "text": [
      "[CV]  C=0.001, alpha=1e-06, cost=mse, epochs=50, n_hidden=1, phi=sigmoid, size_hidden=15, score=0.121919, total=  14.4s\n",
      "[CV] C=0.001, alpha=1e-06, cost=mse, epochs=50, n_hidden=1, phi=sigmoid, size_hidden=15 \n"
     ]
    },
    {
     "name": "stderr",
     "output_type": "stream",
     "text": [
      "[Parallel(n_jobs=1)]: Done   2 out of   2 | elapsed:   29.3s remaining:    0.0s\n",
      "Epoch: 50/50"
     ]
    },
    {
     "name": "stdout",
     "output_type": "stream",
     "text": [
      "[CV]  C=0.001, alpha=1e-06, cost=mse, epochs=50, n_hidden=1, phi=sigmoid, size_hidden=15, score=0.093945, total=  14.3s\n",
      "[CV] C=0.001, alpha=1e-06, cost=mse, epochs=50, n_hidden=1, phi=linear, size_hidden=15 \n"
     ]
    },
    {
     "name": "stderr",
     "output_type": "stream",
     "text": [
      "[Parallel(n_jobs=1)]: Done   3 out of   3 | elapsed:   44.0s remaining:    0.0s\n",
      "Epoch: 50/50"
     ]
    },
    {
     "name": "stdout",
     "output_type": "stream",
     "text": [
      "[CV]  C=0.001, alpha=1e-06, cost=mse, epochs=50, n_hidden=1, phi=linear, size_hidden=15, score=0.238293, total=  10.2s\n",
      "[CV] C=0.001, alpha=1e-06, cost=mse, epochs=50, n_hidden=1, phi=linear, size_hidden=15 \n"
     ]
    },
    {
     "name": "stderr",
     "output_type": "stream",
     "text": [
      "[Parallel(n_jobs=1)]: Done   4 out of   4 | elapsed:   54.4s remaining:    0.0s\n",
      "Epoch: 50/50"
     ]
    },
    {
     "name": "stdout",
     "output_type": "stream",
     "text": [
      "[CV]  C=0.001, alpha=1e-06, cost=mse, epochs=50, n_hidden=1, phi=linear, size_hidden=15, score=0.255735, total=  10.2s\n",
      "[CV] C=0.001, alpha=1e-06, cost=mse, epochs=50, n_hidden=1, phi=linear, size_hidden=15 \n"
     ]
    },
    {
     "name": "stderr",
     "output_type": "stream",
     "text": [
      "Epoch: 50/50"
     ]
    },
    {
     "name": "stdout",
     "output_type": "stream",
     "text": [
      "[CV]  C=0.001, alpha=1e-06, cost=mse, epochs=50, n_hidden=1, phi=linear, size_hidden=15, score=0.278549, total=  10.2s\n",
      "[CV] C=0.001, alpha=1e-06, cost=mse, epochs=50, n_hidden=1, phi=relu, size_hidden=15 \n"
     ]
    },
    {
     "name": "stderr",
     "output_type": "stream",
     "text": [
      "Epoch: 50/50"
     ]
    },
    {
     "name": "stdout",
     "output_type": "stream",
     "text": [
      "[CV]  C=0.001, alpha=1e-06, cost=mse, epochs=50, n_hidden=1, phi=relu, size_hidden=15, score=0.222342, total=  11.8s\n",
      "[CV] C=0.001, alpha=1e-06, cost=mse, epochs=50, n_hidden=1, phi=relu, size_hidden=15 \n"
     ]
    },
    {
     "name": "stderr",
     "output_type": "stream",
     "text": [
      "Epoch: 50/50"
     ]
    },
    {
     "name": "stdout",
     "output_type": "stream",
     "text": [
      "[CV]  C=0.001, alpha=1e-06, cost=mse, epochs=50, n_hidden=1, phi=relu, size_hidden=15, score=0.204964, total=  12.0s\n",
      "[CV] C=0.001, alpha=1e-06, cost=mse, epochs=50, n_hidden=1, phi=relu, size_hidden=15 \n"
     ]
    },
    {
     "name": "stderr",
     "output_type": "stream",
     "text": [
      "Epoch: 50/50"
     ]
    },
    {
     "name": "stdout",
     "output_type": "stream",
     "text": [
      "[CV]  C=0.001, alpha=1e-06, cost=mse, epochs=50, n_hidden=1, phi=relu, size_hidden=15, score=0.228178, total=  11.9s\n",
      "[CV] C=0.001, alpha=1e-06, cost=mse, epochs=50, n_hidden=1, phi=silu, size_hidden=15 \n"
     ]
    },
    {
     "name": "stderr",
     "output_type": "stream",
     "text": [
      "Epoch: 50/50"
     ]
    },
    {
     "name": "stdout",
     "output_type": "stream",
     "text": [
      "[CV]  C=0.001, alpha=1e-06, cost=mse, epochs=50, n_hidden=1, phi=silu, size_hidden=15, score=0.228442, total=  14.7s\n",
      "[CV] C=0.001, alpha=1e-06, cost=mse, epochs=50, n_hidden=1, phi=silu, size_hidden=15 \n"
     ]
    },
    {
     "name": "stderr",
     "output_type": "stream",
     "text": [
      "Epoch: 50/50"
     ]
    },
    {
     "name": "stdout",
     "output_type": "stream",
     "text": [
      "[CV]  C=0.001, alpha=1e-06, cost=mse, epochs=50, n_hidden=1, phi=silu, size_hidden=15, score=0.239264, total=  14.7s\n",
      "[CV] C=0.001, alpha=1e-06, cost=mse, epochs=50, n_hidden=1, phi=silu, size_hidden=15 \n"
     ]
    },
    {
     "name": "stderr",
     "output_type": "stream",
     "text": [
      "Epoch: 50/50"
     ]
    },
    {
     "name": "stdout",
     "output_type": "stream",
     "text": [
      "[CV]  C=0.001, alpha=1e-06, cost=mse, epochs=50, n_hidden=1, phi=silu, size_hidden=15, score=0.200573, total=  14.6s\n",
      "[CV] C=0.001, alpha=1e-06, cost=mse, epochs=50, n_hidden=2, phi=sigmoid, size_hidden=15 \n"
     ]
    },
    {
     "name": "stderr",
     "output_type": "stream",
     "text": [
      "Epoch: 50/50"
     ]
    },
    {
     "name": "stdout",
     "output_type": "stream",
     "text": [
      "[CV]  C=0.001, alpha=1e-06, cost=mse, epochs=50, n_hidden=2, phi=sigmoid, size_hidden=15, score=0.131298, total=  14.4s\n",
      "[CV] C=0.001, alpha=1e-06, cost=mse, epochs=50, n_hidden=2, phi=sigmoid, size_hidden=15 \n"
     ]
    },
    {
     "name": "stderr",
     "output_type": "stream",
     "text": [
      "Epoch: 50/50"
     ]
    },
    {
     "name": "stdout",
     "output_type": "stream",
     "text": [
      "[CV]  C=0.001, alpha=1e-06, cost=mse, epochs=50, n_hidden=2, phi=sigmoid, size_hidden=15, score=0.098571, total=  14.4s\n",
      "[CV] C=0.001, alpha=1e-06, cost=mse, epochs=50, n_hidden=2, phi=sigmoid, size_hidden=15 \n"
     ]
    },
    {
     "name": "stderr",
     "output_type": "stream",
     "text": [
      "Epoch: 50/50"
     ]
    },
    {
     "name": "stdout",
     "output_type": "stream",
     "text": [
      "[CV]  C=0.001, alpha=1e-06, cost=mse, epochs=50, n_hidden=2, phi=sigmoid, size_hidden=15, score=0.093795, total=  14.3s\n",
      "[CV] C=0.001, alpha=1e-06, cost=mse, epochs=50, n_hidden=2, phi=linear, size_hidden=15 \n"
     ]
    },
    {
     "name": "stderr",
     "output_type": "stream",
     "text": [
      "Epoch: 50/50"
     ]
    },
    {
     "name": "stdout",
     "output_type": "stream",
     "text": [
      "[CV]  C=0.001, alpha=1e-06, cost=mse, epochs=50, n_hidden=2, phi=linear, size_hidden=15, score=0.257867, total=  10.1s\n",
      "[CV] C=0.001, alpha=1e-06, cost=mse, epochs=50, n_hidden=2, phi=linear, size_hidden=15 \n"
     ]
    },
    {
     "name": "stderr",
     "output_type": "stream",
     "text": [
      "Epoch: 50/50"
     ]
    },
    {
     "name": "stdout",
     "output_type": "stream",
     "text": [
      "[CV]  C=0.001, alpha=1e-06, cost=mse, epochs=50, n_hidden=2, phi=linear, size_hidden=15, score=0.259152, total=  10.4s\n",
      "[CV] C=0.001, alpha=1e-06, cost=mse, epochs=50, n_hidden=2, phi=linear, size_hidden=15 \n"
     ]
    },
    {
     "name": "stderr",
     "output_type": "stream",
     "text": [
      "Epoch: 50/50"
     ]
    },
    {
     "name": "stdout",
     "output_type": "stream",
     "text": [
      "[CV]  C=0.001, alpha=1e-06, cost=mse, epochs=50, n_hidden=2, phi=linear, size_hidden=15, score=0.260918, total=  10.2s\n",
      "[CV] C=0.001, alpha=1e-06, cost=mse, epochs=50, n_hidden=2, phi=relu, size_hidden=15 \n"
     ]
    },
    {
     "name": "stderr",
     "output_type": "stream",
     "text": [
      "Epoch: 50/50"
     ]
    },
    {
     "name": "stdout",
     "output_type": "stream",
     "text": [
      "[CV]  C=0.001, alpha=1e-06, cost=mse, epochs=50, n_hidden=2, phi=relu, size_hidden=15, score=0.163510, total=  11.8s\n",
      "[CV] C=0.001, alpha=1e-06, cost=mse, epochs=50, n_hidden=2, phi=relu, size_hidden=15 \n"
     ]
    },
    {
     "name": "stderr",
     "output_type": "stream",
     "text": [
      "Epoch: 50/50"
     ]
    },
    {
     "name": "stdout",
     "output_type": "stream",
     "text": [
      "[CV]  C=0.001, alpha=1e-06, cost=mse, epochs=50, n_hidden=2, phi=relu, size_hidden=15, score=0.233144, total=  11.8s\n",
      "[CV] C=0.001, alpha=1e-06, cost=mse, epochs=50, n_hidden=2, phi=relu, size_hidden=15 \n"
     ]
    },
    {
     "name": "stderr",
     "output_type": "stream",
     "text": [
      "Epoch: 50/50"
     ]
    },
    {
     "name": "stdout",
     "output_type": "stream",
     "text": [
      "[CV]  C=0.001, alpha=1e-06, cost=mse, epochs=50, n_hidden=2, phi=relu, size_hidden=15, score=0.214143, total=  11.9s\n",
      "[CV] C=0.001, alpha=1e-06, cost=mse, epochs=50, n_hidden=2, phi=silu, size_hidden=15 \n"
     ]
    },
    {
     "name": "stderr",
     "output_type": "stream",
     "text": [
      "Epoch: 50/50"
     ]
    },
    {
     "name": "stdout",
     "output_type": "stream",
     "text": [
      "[CV]  C=0.001, alpha=1e-06, cost=mse, epochs=50, n_hidden=2, phi=silu, size_hidden=15, score=0.239726, total=  14.7s\n",
      "[CV] C=0.001, alpha=1e-06, cost=mse, epochs=50, n_hidden=2, phi=silu, size_hidden=15 \n"
     ]
    },
    {
     "name": "stderr",
     "output_type": "stream",
     "text": [
      "Epoch: 50/50"
     ]
    },
    {
     "name": "stdout",
     "output_type": "stream",
     "text": [
      "[CV]  C=0.001, alpha=1e-06, cost=mse, epochs=50, n_hidden=2, phi=silu, size_hidden=15, score=0.233825, total=  14.7s\n",
      "[CV] C=0.001, alpha=1e-06, cost=mse, epochs=50, n_hidden=2, phi=silu, size_hidden=15 \n"
     ]
    },
    {
     "name": "stderr",
     "output_type": "stream",
     "text": [
      "Epoch: 50/50"
     ]
    },
    {
     "name": "stdout",
     "output_type": "stream",
     "text": [
      "[CV]  C=0.001, alpha=1e-06, cost=mse, epochs=50, n_hidden=2, phi=silu, size_hidden=15, score=0.238350, total=  14.7s\n",
      "[CV] C=0.001, alpha=1e-06, cost=mse, epochs=50, n_hidden=3, phi=sigmoid, size_hidden=15 \n"
     ]
    },
    {
     "name": "stderr",
     "output_type": "stream",
     "text": [
      "Epoch: 50/50"
     ]
    },
    {
     "name": "stdout",
     "output_type": "stream",
     "text": [
      "[CV]  C=0.001, alpha=1e-06, cost=mse, epochs=50, n_hidden=3, phi=sigmoid, size_hidden=15, score=0.131621, total=  14.3s\n",
      "[CV] C=0.001, alpha=1e-06, cost=mse, epochs=50, n_hidden=3, phi=sigmoid, size_hidden=15 \n"
     ]
    },
    {
     "name": "stderr",
     "output_type": "stream",
     "text": [
      "Epoch: 50/50"
     ]
    },
    {
     "name": "stdout",
     "output_type": "stream",
     "text": [
      "[CV]  C=0.001, alpha=1e-06, cost=mse, epochs=50, n_hidden=3, phi=sigmoid, size_hidden=15, score=0.100568, total=  14.6s\n",
      "[CV] C=0.001, alpha=1e-06, cost=mse, epochs=50, n_hidden=3, phi=sigmoid, size_hidden=15 \n"
     ]
    },
    {
     "name": "stderr",
     "output_type": "stream",
     "text": [
      "Epoch: 50/50"
     ]
    },
    {
     "name": "stdout",
     "output_type": "stream",
     "text": [
      "[CV]  C=0.001, alpha=1e-06, cost=mse, epochs=50, n_hidden=3, phi=sigmoid, size_hidden=15, score=0.100034, total=  14.4s\n",
      "[CV] C=0.001, alpha=1e-06, cost=mse, epochs=50, n_hidden=3, phi=linear, size_hidden=15 \n"
     ]
    },
    {
     "name": "stderr",
     "output_type": "stream",
     "text": [
      "Epoch: 50/50"
     ]
    },
    {
     "name": "stdout",
     "output_type": "stream",
     "text": [
      "[CV]  C=0.001, alpha=1e-06, cost=mse, epochs=50, n_hidden=3, phi=linear, size_hidden=15, score=0.250561, total=  10.2s\n",
      "[CV] C=0.001, alpha=1e-06, cost=mse, epochs=50, n_hidden=3, phi=linear, size_hidden=15 \n"
     ]
    },
    {
     "name": "stderr",
     "output_type": "stream",
     "text": [
      "Epoch: 50/50"
     ]
    },
    {
     "name": "stdout",
     "output_type": "stream",
     "text": [
      "[CV]  C=0.001, alpha=1e-06, cost=mse, epochs=50, n_hidden=3, phi=linear, size_hidden=15, score=0.234578, total=  10.2s\n",
      "[CV] C=0.001, alpha=1e-06, cost=mse, epochs=50, n_hidden=3, phi=linear, size_hidden=15 \n"
     ]
    },
    {
     "name": "stderr",
     "output_type": "stream",
     "text": [
      "Epoch: 50/50"
     ]
    },
    {
     "name": "stdout",
     "output_type": "stream",
     "text": [
      "[CV]  C=0.001, alpha=1e-06, cost=mse, epochs=50, n_hidden=3, phi=linear, size_hidden=15, score=0.313286, total=  10.2s\n",
      "[CV] C=0.001, alpha=1e-06, cost=mse, epochs=50, n_hidden=3, phi=relu, size_hidden=15 \n"
     ]
    },
    {
     "name": "stderr",
     "output_type": "stream",
     "text": [
      "Epoch: 50/50"
     ]
    },
    {
     "name": "stdout",
     "output_type": "stream",
     "text": [
      "[CV]  C=0.001, alpha=1e-06, cost=mse, epochs=50, n_hidden=3, phi=relu, size_hidden=15, score=0.242730, total=  11.8s\n",
      "[CV] C=0.001, alpha=1e-06, cost=mse, epochs=50, n_hidden=3, phi=relu, size_hidden=15 \n"
     ]
    },
    {
     "name": "stderr",
     "output_type": "stream",
     "text": [
      "Epoch: 50/50"
     ]
    },
    {
     "name": "stdout",
     "output_type": "stream",
     "text": [
      "[CV]  C=0.001, alpha=1e-06, cost=mse, epochs=50, n_hidden=3, phi=relu, size_hidden=15, score=0.169026, total=  11.8s\n",
      "[CV] C=0.001, alpha=1e-06, cost=mse, epochs=50, n_hidden=3, phi=relu, size_hidden=15 \n"
     ]
    },
    {
     "name": "stderr",
     "output_type": "stream",
     "text": [
      "Epoch: 50/50"
     ]
    },
    {
     "name": "stdout",
     "output_type": "stream",
     "text": [
      "[CV]  C=0.001, alpha=1e-06, cost=mse, epochs=50, n_hidden=3, phi=relu, size_hidden=15, score=0.230429, total=  11.8s\n",
      "[CV] C=0.001, alpha=1e-06, cost=mse, epochs=50, n_hidden=3, phi=silu, size_hidden=15 \n"
     ]
    },
    {
     "name": "stderr",
     "output_type": "stream",
     "text": [
      "Epoch: 50/50"
     ]
    },
    {
     "name": "stdout",
     "output_type": "stream",
     "text": [
      "[CV]  C=0.001, alpha=1e-06, cost=mse, epochs=50, n_hidden=3, phi=silu, size_hidden=15, score=0.204668, total=  14.7s\n",
      "[CV] C=0.001, alpha=1e-06, cost=mse, epochs=50, n_hidden=3, phi=silu, size_hidden=15 \n"
     ]
    },
    {
     "name": "stderr",
     "output_type": "stream",
     "text": [
      "Epoch: 50/50"
     ]
    },
    {
     "name": "stdout",
     "output_type": "stream",
     "text": [
      "[CV]  C=0.001, alpha=1e-06, cost=mse, epochs=50, n_hidden=3, phi=silu, size_hidden=15, score=0.178204, total=  14.7s\n",
      "[CV] C=0.001, alpha=1e-06, cost=mse, epochs=50, n_hidden=3, phi=silu, size_hidden=15 \n"
     ]
    },
    {
     "name": "stderr",
     "output_type": "stream",
     "text": [
      "Epoch: 50/50"
     ]
    },
    {
     "name": "stdout",
     "output_type": "stream",
     "text": [
      "[CV]  C=0.001, alpha=1e-06, cost=mse, epochs=50, n_hidden=3, phi=silu, size_hidden=15, score=0.214251, total=  15.1s\n",
      "[CV] C=0.001, alpha=1e-06, cost=cross-entropy, epochs=50, n_hidden=1, phi=sigmoid, size_hidden=15 \n"
     ]
    },
    {
     "name": "stderr",
     "output_type": "stream",
     "text": [
      "Epoch: 50/50"
     ]
    },
    {
     "name": "stdout",
     "output_type": "stream",
     "text": [
      "[CV]  C=0.001, alpha=1e-06, cost=cross-entropy, epochs=50, n_hidden=1, phi=sigmoid, size_hidden=15, score=0.093750, total=  14.1s\n",
      "[CV] C=0.001, alpha=1e-06, cost=cross-entropy, epochs=50, n_hidden=1, phi=sigmoid, size_hidden=15 \n"
     ]
    },
    {
     "name": "stderr",
     "output_type": "stream",
     "text": [
      "Epoch: 50/50"
     ]
    },
    {
     "name": "stdout",
     "output_type": "stream",
     "text": [
      "[CV]  C=0.001, alpha=1e-06, cost=cross-entropy, epochs=50, n_hidden=1, phi=sigmoid, size_hidden=15, score=0.102944, total=  14.0s\n",
      "[CV] C=0.001, alpha=1e-06, cost=cross-entropy, epochs=50, n_hidden=1, phi=sigmoid, size_hidden=15 \n"
     ]
    },
    {
     "name": "stderr",
     "output_type": "stream",
     "text": [
      "Epoch: 50/50"
     ]
    },
    {
     "name": "stdout",
     "output_type": "stream",
     "text": [
      "[CV]  C=0.001, alpha=1e-06, cost=cross-entropy, epochs=50, n_hidden=1, phi=sigmoid, size_hidden=15, score=0.110616, total=  14.1s\n",
      "[CV] C=0.001, alpha=1e-06, cost=cross-entropy, epochs=50, n_hidden=1, phi=linear, size_hidden=15 \n"
     ]
    },
    {
     "name": "stderr",
     "output_type": "stream",
     "text": [
      "Epoch: 50/50"
     ]
    },
    {
     "name": "stdout",
     "output_type": "stream",
     "text": [
      "[CV]  C=0.001, alpha=1e-06, cost=cross-entropy, epochs=50, n_hidden=1, phi=linear, size_hidden=15, score=0.244342, total=   9.8s\n",
      "[CV] C=0.001, alpha=1e-06, cost=cross-entropy, epochs=50, n_hidden=1, phi=linear, size_hidden=15 \n"
     ]
    },
    {
     "name": "stderr",
     "output_type": "stream",
     "text": [
      "Epoch: 50/50"
     ]
    },
    {
     "name": "stdout",
     "output_type": "stream",
     "text": [
      "[CV]  C=0.001, alpha=1e-06, cost=cross-entropy, epochs=50, n_hidden=1, phi=linear, size_hidden=15, score=0.261451, total=   9.9s\n",
      "[CV] C=0.001, alpha=1e-06, cost=cross-entropy, epochs=50, n_hidden=1, phi=linear, size_hidden=15 \n"
     ]
    },
    {
     "name": "stderr",
     "output_type": "stream",
     "text": [
      "Epoch: 50/50"
     ]
    },
    {
     "name": "stdout",
     "output_type": "stream",
     "text": [
      "[CV]  C=0.001, alpha=1e-06, cost=cross-entropy, epochs=50, n_hidden=1, phi=linear, size_hidden=15, score=0.243142, total=   9.9s\n",
      "[CV] C=0.001, alpha=1e-06, cost=cross-entropy, epochs=50, n_hidden=1, phi=relu, size_hidden=15 \n"
     ]
    },
    {
     "name": "stderr",
     "output_type": "stream",
     "text": [
      "Epoch: 50/50"
     ]
    },
    {
     "name": "stdout",
     "output_type": "stream",
     "text": [
      "[CV]  C=0.001, alpha=1e-06, cost=cross-entropy, epochs=50, n_hidden=1, phi=relu, size_hidden=15, score=0.228584, total=  11.5s\n",
      "[CV] C=0.001, alpha=1e-06, cost=cross-entropy, epochs=50, n_hidden=1, phi=relu, size_hidden=15 \n"
     ]
    },
    {
     "name": "stderr",
     "output_type": "stream",
     "text": [
      "Epoch: 50/50"
     ]
    },
    {
     "name": "stdout",
     "output_type": "stream",
     "text": [
      "[CV]  C=0.001, alpha=1e-06, cost=cross-entropy, epochs=50, n_hidden=1, phi=relu, size_hidden=15, score=0.155527, total=  11.6s\n",
      "[CV] C=0.001, alpha=1e-06, cost=cross-entropy, epochs=50, n_hidden=1, phi=relu, size_hidden=15 \n"
     ]
    },
    {
     "name": "stderr",
     "output_type": "stream",
     "text": [
      "Epoch: 50/50"
     ]
    },
    {
     "name": "stdout",
     "output_type": "stream",
     "text": [
      "[CV]  C=0.001, alpha=1e-06, cost=cross-entropy, epochs=50, n_hidden=1, phi=relu, size_hidden=15, score=0.175485, total=  11.8s\n",
      "[CV] C=0.001, alpha=1e-06, cost=cross-entropy, epochs=50, n_hidden=1, phi=silu, size_hidden=15 \n"
     ]
    },
    {
     "name": "stderr",
     "output_type": "stream",
     "text": [
      "Epoch: 50/50"
     ]
    },
    {
     "name": "stdout",
     "output_type": "stream",
     "text": [
      "[CV]  C=0.001, alpha=1e-06, cost=cross-entropy, epochs=50, n_hidden=1, phi=silu, size_hidden=15, score=0.150383, total=  14.3s\n",
      "[CV] C=0.001, alpha=1e-06, cost=cross-entropy, epochs=50, n_hidden=1, phi=silu, size_hidden=15 \n"
     ]
    },
    {
     "name": "stderr",
     "output_type": "stream",
     "text": [
      "Epoch: 50/50"
     ]
    },
    {
     "name": "stdout",
     "output_type": "stream",
     "text": [
      "[CV]  C=0.001, alpha=1e-06, cost=cross-entropy, epochs=50, n_hidden=1, phi=silu, size_hidden=15, score=0.201686, total=  14.3s\n",
      "[CV] C=0.001, alpha=1e-06, cost=cross-entropy, epochs=50, n_hidden=1, phi=silu, size_hidden=15 \n"
     ]
    },
    {
     "name": "stderr",
     "output_type": "stream",
     "text": [
      "Epoch: 50/50"
     ]
    },
    {
     "name": "stdout",
     "output_type": "stream",
     "text": [
      "[CV]  C=0.001, alpha=1e-06, cost=cross-entropy, epochs=50, n_hidden=1, phi=silu, size_hidden=15, score=0.206689, total=  14.4s\n",
      "[CV] C=0.001, alpha=1e-06, cost=cross-entropy, epochs=50, n_hidden=2, phi=sigmoid, size_hidden=15 \n"
     ]
    },
    {
     "name": "stderr",
     "output_type": "stream",
     "text": [
      "Epoch: 50/50"
     ]
    },
    {
     "name": "stdout",
     "output_type": "stream",
     "text": [
      "[CV]  C=0.001, alpha=1e-06, cost=cross-entropy, epochs=50, n_hidden=2, phi=sigmoid, size_hidden=15, score=0.093750, total=  14.1s\n",
      "[CV] C=0.001, alpha=1e-06, cost=cross-entropy, epochs=50, n_hidden=2, phi=sigmoid, size_hidden=15 \n"
     ]
    },
    {
     "name": "stderr",
     "output_type": "stream",
     "text": [
      "Epoch: 50/50"
     ]
    },
    {
     "name": "stdout",
     "output_type": "stream",
     "text": [
      "[CV]  C=0.001, alpha=1e-06, cost=cross-entropy, epochs=50, n_hidden=2, phi=sigmoid, size_hidden=15, score=0.100296, total=  14.1s\n",
      "[CV] C=0.001, alpha=1e-06, cost=cross-entropy, epochs=50, n_hidden=2, phi=sigmoid, size_hidden=15 \n"
     ]
    },
    {
     "name": "stderr",
     "output_type": "stream",
     "text": [
      "Epoch: 50/50"
     ]
    },
    {
     "name": "stdout",
     "output_type": "stream",
     "text": [
      "[CV]  C=0.001, alpha=1e-06, cost=cross-entropy, epochs=50, n_hidden=2, phi=sigmoid, size_hidden=15, score=0.109133, total=  14.1s\n",
      "[CV] C=0.001, alpha=1e-06, cost=cross-entropy, epochs=50, n_hidden=2, phi=linear, size_hidden=15 \n"
     ]
    },
    {
     "name": "stderr",
     "output_type": "stream",
     "text": [
      "Epoch: 50/50"
     ]
    },
    {
     "name": "stdout",
     "output_type": "stream",
     "text": [
      "[CV]  C=0.001, alpha=1e-06, cost=cross-entropy, epochs=50, n_hidden=2, phi=linear, size_hidden=15, score=0.274342, total=   9.9s\n",
      "[CV] C=0.001, alpha=1e-06, cost=cross-entropy, epochs=50, n_hidden=2, phi=linear, size_hidden=15 \n"
     ]
    },
    {
     "name": "stderr",
     "output_type": "stream",
     "text": [
      "Epoch: 50/50"
     ]
    },
    {
     "name": "stdout",
     "output_type": "stream",
     "text": [
      "[CV]  C=0.001, alpha=1e-06, cost=cross-entropy, epochs=50, n_hidden=2, phi=linear, size_hidden=15, score=0.247614, total=   9.9s\n",
      "[CV] C=0.001, alpha=1e-06, cost=cross-entropy, epochs=50, n_hidden=2, phi=linear, size_hidden=15 \n"
     ]
    },
    {
     "name": "stderr",
     "output_type": "stream",
     "text": [
      "Epoch: 50/50"
     ]
    },
    {
     "name": "stdout",
     "output_type": "stream",
     "text": [
      "[CV]  C=0.001, alpha=1e-06, cost=cross-entropy, epochs=50, n_hidden=2, phi=linear, size_hidden=15, score=0.258393, total=   9.9s\n",
      "[CV] C=0.001, alpha=1e-06, cost=cross-entropy, epochs=50, n_hidden=2, phi=relu, size_hidden=15 \n"
     ]
    },
    {
     "name": "stderr",
     "output_type": "stream",
     "text": [
      "Epoch: 50/50"
     ]
    },
    {
     "name": "stdout",
     "output_type": "stream",
     "text": [
      "[CV]  C=0.001, alpha=1e-06, cost=cross-entropy, epochs=50, n_hidden=2, phi=relu, size_hidden=15, score=0.175942, total=  11.8s\n",
      "[CV] C=0.001, alpha=1e-06, cost=cross-entropy, epochs=50, n_hidden=2, phi=relu, size_hidden=15 \n"
     ]
    },
    {
     "name": "stderr",
     "output_type": "stream",
     "text": [
      "Epoch: 50/50"
     ]
    },
    {
     "name": "stdout",
     "output_type": "stream",
     "text": [
      "[CV]  C=0.001, alpha=1e-06, cost=cross-entropy, epochs=50, n_hidden=2, phi=relu, size_hidden=15, score=0.203592, total=  11.6s\n",
      "[CV] C=0.001, alpha=1e-06, cost=cross-entropy, epochs=50, n_hidden=2, phi=relu, size_hidden=15 \n"
     ]
    },
    {
     "name": "stderr",
     "output_type": "stream",
     "text": [
      "Epoch: 50/50"
     ]
    },
    {
     "name": "stdout",
     "output_type": "stream",
     "text": [
      "[CV]  C=0.001, alpha=1e-06, cost=cross-entropy, epochs=50, n_hidden=2, phi=relu, size_hidden=15, score=0.162843, total=  11.6s\n",
      "[CV] C=0.001, alpha=1e-06, cost=cross-entropy, epochs=50, n_hidden=2, phi=silu, size_hidden=15 \n"
     ]
    },
    {
     "name": "stderr",
     "output_type": "stream",
     "text": [
      "Epoch: 50/50"
     ]
    },
    {
     "name": "stdout",
     "output_type": "stream",
     "text": [
      "[CV]  C=0.001, alpha=1e-06, cost=cross-entropy, epochs=50, n_hidden=2, phi=silu, size_hidden=15, score=0.210315, total=  14.4s\n",
      "[CV] C=0.001, alpha=1e-06, cost=cross-entropy, epochs=50, n_hidden=2, phi=silu, size_hidden=15 \n"
     ]
    },
    {
     "name": "stderr",
     "output_type": "stream",
     "text": [
      "Epoch: 50/50"
     ]
    },
    {
     "name": "stdout",
     "output_type": "stream",
     "text": [
      "[CV]  C=0.001, alpha=1e-06, cost=cross-entropy, epochs=50, n_hidden=2, phi=silu, size_hidden=15, score=0.181155, total=  14.4s\n",
      "[CV] C=0.001, alpha=1e-06, cost=cross-entropy, epochs=50, n_hidden=2, phi=silu, size_hidden=15 \n"
     ]
    },
    {
     "name": "stderr",
     "output_type": "stream",
     "text": [
      "Epoch: 50/50"
     ]
    },
    {
     "name": "stdout",
     "output_type": "stream",
     "text": [
      "[CV]  C=0.001, alpha=1e-06, cost=cross-entropy, epochs=50, n_hidden=2, phi=silu, size_hidden=15, score=0.188441, total=  14.3s\n",
      "[CV] C=0.001, alpha=1e-06, cost=cross-entropy, epochs=50, n_hidden=3, phi=sigmoid, size_hidden=15 \n"
     ]
    },
    {
     "name": "stderr",
     "output_type": "stream",
     "text": [
      "Epoch: 50/50"
     ]
    },
    {
     "name": "stdout",
     "output_type": "stream",
     "text": [
      "[CV]  C=0.001, alpha=1e-06, cost=cross-entropy, epochs=50, n_hidden=3, phi=sigmoid, size_hidden=15, score=0.098169, total=  14.1s\n",
      "[CV] C=0.001, alpha=1e-06, cost=cross-entropy, epochs=50, n_hidden=3, phi=sigmoid, size_hidden=15 \n"
     ]
    },
    {
     "name": "stderr",
     "output_type": "stream",
     "text": [
      "Epoch: 50/50"
     ]
    },
    {
     "name": "stdout",
     "output_type": "stream",
     "text": [
      "[CV]  C=0.001, alpha=1e-06, cost=cross-entropy, epochs=50, n_hidden=3, phi=sigmoid, size_hidden=15, score=0.093486, total=  14.1s\n",
      "[CV] C=0.001, alpha=1e-06, cost=cross-entropy, epochs=50, n_hidden=3, phi=sigmoid, size_hidden=15 \n"
     ]
    },
    {
     "name": "stderr",
     "output_type": "stream",
     "text": [
      "Epoch: 50/50"
     ]
    },
    {
     "name": "stdout",
     "output_type": "stream",
     "text": [
      "[CV]  C=0.001, alpha=1e-06, cost=cross-entropy, epochs=50, n_hidden=3, phi=sigmoid, size_hidden=15, score=0.105019, total=  14.4s\n",
      "[CV] C=0.001, alpha=1e-06, cost=cross-entropy, epochs=50, n_hidden=3, phi=linear, size_hidden=15 \n"
     ]
    },
    {
     "name": "stderr",
     "output_type": "stream",
     "text": [
      "Epoch: 50/50"
     ]
    },
    {
     "name": "stdout",
     "output_type": "stream",
     "text": [
      "[CV]  C=0.001, alpha=1e-06, cost=cross-entropy, epochs=50, n_hidden=3, phi=linear, size_hidden=15, score=0.247719, total=   9.9s\n",
      "[CV] C=0.001, alpha=1e-06, cost=cross-entropy, epochs=50, n_hidden=3, phi=linear, size_hidden=15 \n"
     ]
    },
    {
     "name": "stderr",
     "output_type": "stream",
     "text": [
      "Epoch: 50/50"
     ]
    },
    {
     "name": "stdout",
     "output_type": "stream",
     "text": [
      "[CV]  C=0.001, alpha=1e-06, cost=cross-entropy, epochs=50, n_hidden=3, phi=linear, size_hidden=15, score=0.250159, total=   9.9s\n",
      "[CV] C=0.001, alpha=1e-06, cost=cross-entropy, epochs=50, n_hidden=3, phi=linear, size_hidden=15 \n"
     ]
    },
    {
     "name": "stderr",
     "output_type": "stream",
     "text": [
      "Epoch: 50/50"
     ]
    },
    {
     "name": "stdout",
     "output_type": "stream",
     "text": [
      "[CV]  C=0.001, alpha=1e-06, cost=cross-entropy, epochs=50, n_hidden=3, phi=linear, size_hidden=15, score=0.229610, total=   9.9s\n",
      "[CV] C=0.001, alpha=1e-06, cost=cross-entropy, epochs=50, n_hidden=3, phi=relu, size_hidden=15 \n"
     ]
    },
    {
     "name": "stderr",
     "output_type": "stream",
     "text": [
      "Epoch: 50/50"
     ]
    },
    {
     "name": "stdout",
     "output_type": "stream",
     "text": [
      "[CV]  C=0.001, alpha=1e-06, cost=cross-entropy, epochs=50, n_hidden=3, phi=relu, size_hidden=15, score=0.158022, total=  11.5s\n",
      "[CV] C=0.001, alpha=1e-06, cost=cross-entropy, epochs=50, n_hidden=3, phi=relu, size_hidden=15 \n"
     ]
    },
    {
     "name": "stderr",
     "output_type": "stream",
     "text": [
      "Epoch: 50/50"
     ]
    },
    {
     "name": "stdout",
     "output_type": "stream",
     "text": [
      "[CV]  C=0.001, alpha=1e-06, cost=cross-entropy, epochs=50, n_hidden=3, phi=relu, size_hidden=15, score=0.192327, total=  11.5s\n",
      "[CV] C=0.001, alpha=1e-06, cost=cross-entropy, epochs=50, n_hidden=3, phi=relu, size_hidden=15 \n"
     ]
    },
    {
     "name": "stderr",
     "output_type": "stream",
     "text": [
      "Epoch: 50/50"
     ]
    },
    {
     "name": "stdout",
     "output_type": "stream",
     "text": [
      "[CV]  C=0.001, alpha=1e-06, cost=cross-entropy, epochs=50, n_hidden=3, phi=relu, size_hidden=15, score=0.192766, total=  11.5s\n",
      "[CV] C=0.001, alpha=1e-06, cost=cross-entropy, epochs=50, n_hidden=3, phi=silu, size_hidden=15 \n"
     ]
    },
    {
     "name": "stderr",
     "output_type": "stream",
     "text": [
      "Epoch: 50/50"
     ]
    },
    {
     "name": "stdout",
     "output_type": "stream",
     "text": [
      "[CV]  C=0.001, alpha=1e-06, cost=cross-entropy, epochs=50, n_hidden=3, phi=silu, size_hidden=15, score=0.156535, total=  14.4s\n",
      "[CV] C=0.001, alpha=1e-06, cost=cross-entropy, epochs=50, n_hidden=3, phi=silu, size_hidden=15 \n"
     ]
    },
    {
     "name": "stderr",
     "output_type": "stream",
     "text": [
      "Epoch: 50/50"
     ]
    },
    {
     "name": "stdout",
     "output_type": "stream",
     "text": [
      "[CV]  C=0.001, alpha=1e-06, cost=cross-entropy, epochs=50, n_hidden=3, phi=silu, size_hidden=15, score=0.220713, total=  14.4s\n",
      "[CV] C=0.001, alpha=1e-06, cost=cross-entropy, epochs=50, n_hidden=3, phi=silu, size_hidden=15 \n"
     ]
    },
    {
     "name": "stderr",
     "output_type": "stream",
     "text": [
      "Epoch: 50/50"
     ]
    },
    {
     "name": "stdout",
     "output_type": "stream",
     "text": [
      "[CV]  C=0.001, alpha=1e-06, cost=cross-entropy, epochs=50, n_hidden=3, phi=silu, size_hidden=15, score=0.178883, total=  14.4s\n"
     ]
    },
    {
     "name": "stderr",
     "output_type": "stream",
     "text": [
      "[Parallel(n_jobs=1)]: Done  72 out of  72 | elapsed: 15.5min finished\n",
      "Epoch: 50/50"
     ]
    },
    {
     "data": {
      "text/plain": [
       "GridSearchCV(cv=3, error_score='raise',\n",
       "       estimator=<__main__.MultiLayerPerceptron object at 0x2aab8e713048>,\n",
       "       fit_params={}, iid=True, n_jobs=1,\n",
       "       param_grid={'phi': ['sigmoid', 'linear', 'relu', 'silu'], 'cost': ['mse', 'cross-entropy'], 'n_hidden': [1, 2, 3], 'alpha': [1e-06], 'epochs': [50], 'C': [0.001], 'size_hidden': [15]},\n",
       "       pre_dispatch='2*n_jobs', refit=True, return_train_score=True,\n",
       "       scoring=make_scorer(f1_score, average=macro), verbose=5)"
      ]
     },
     "execution_count": 81,
     "metadata": {},
     "output_type": "execute_result"
    }
   ],
   "source": [
    "# let's try adjusting some of the fixed parameters we used to ones that tend to work better\n",
    "param_grid['C'] = [0.001]\n",
    "param_grid['size_hidden'] = [15]\n",
    "param_grid['alpha'] = [1e-6]\n",
    "param_grid['epochs'] = [50]\n",
    "\n",
    "gs2 = GridSearchCV(estimator=MultiLayerPerceptron(),\n",
    "                  param_grid=param_grid,\n",
    "                  cv=3, #default is to use SKF, so no need to supply our own\n",
    "                  scoring=f1_scorer,\n",
    "                  verbose=5\n",
    "                 )\n",
    "\n",
    "# gs2.fit(X_train, y_train)"
   ]
  },
  {
   "cell_type": "code",
   "execution_count": 85,
   "metadata": {
    "collapsed": true
   },
   "outputs": [],
   "source": [
    "# pickle.dump(gs2, open('better-grid-search.p', 'wb'))"
   ]
  },
  {
   "cell_type": "code",
   "execution_count": null,
   "metadata": {
    "collapsed": true
   },
   "outputs": [],
   "source": [
    "gs2 = pickle.load(open('better-grid-search.p', 'rb'))"
   ]
  },
  {
   "cell_type": "code",
   "execution_count": 98,
   "metadata": {
    "scrolled": true
   },
   "outputs": [
    {
     "name": "stdout",
     "output_type": "stream",
     "text": [
      "According to the new grid search, the best performer was a LINEAR network with MSE cost function and 3 hidden layer(s), which achieved an f1 score of 0.2661418718302856.\n"
     ]
    }
   ],
   "source": [
    "bp = gs2.best_params_\n",
    "\n",
    "print('According to the new grid search, the best performer was a {} '\n",
    "      'network with {} cost function and {} hidden layer(s), which achieved '\n",
    "      'an f1 score of {}.'.format(bp['phi'].upper(), bp['cost'].upper(), bp['n_hidden'], gs2.best_score_))"
   ]
  },
  {
   "cell_type": "markdown",
   "metadata": {},
   "source": [
    "Well, it doesn't appear to be particularly good, but at least it seems to know a thing or two about the dataset."
   ]
  },
  {
   "cell_type": "code",
   "execution_count": 169,
   "metadata": {},
   "outputs": [
    {
     "data": {
      "image/png": "[encoded data removed]",
      "text/plain": [
       "<matplotlib.figure.Figure at 0x2aab808b23c8>"
      ]
     },
     "metadata": {},
     "output_type": "display_data"
    }
   ],
   "source": [
    "grid_df = pd.DataFrame(gs2.cv_results_)\n",
    "grid_df['name'] = grid_df.param_phi + grid_df.param_cost + grid_df.param_n_hidden.astype(str)\n",
    "\n",
    "grid_df.sort_index(by='mean_test_score', inplace=True, ascending=False)\n",
    "split_grid = grid_df.melt(value_vars=['split0_test_score','split1_test_score','split2_test_score'], \n",
    "                          var_name='split', value_name='score', id_vars='name')\n",
    "\n",
    "\n",
    "sns.swarmplot(data=split_grid, x='name', y='score')\n",
    "plt.xticks(rotation=90)\n",
    "plt.show()"
   ]
  },
  {
   "cell_type": "markdown",
   "metadata": {},
   "source": [
    "One way or another, linear activation appears to stand head and shoulders above the rest here, with sigmoid comfortably below everything else, and MSE smashes cross-entropy.\n",
    "\n",
    "However, this is not quite enough, for two reasons. First, three folds is not nearly enough to draw conclusions with, and second, in the preliminary phase, we saw a phenomenon wherein the linear networks would train most of the way very quickly, but eventually be overtaken by SiLU and ReLU. A similar phenomenon occurred with MSE versus cross-entropy. Granted, all datasets are different, but not to be short-sighted, we'll account for that possibility here.\n",
    "\n",
    "So, here's the plan. We'll take the a couple of the top-performing networks overall, a couple of the top-performing non-linear networks, and a couple of the top-performing cross-entropy networks and we'll run full, 10-fold, Stratified Cross-Validation on them with more epochs, and we'll see what comes out on top.\n",
    "\n",
    "... That was the original plan anyways, but reporting from the future, that many models on the desired number of epochs would take hours to compute, so we picked three of them instead."
   ]
  },
  {
   "cell_type": "code",
   "execution_count": 184,
   "metadata": {},
   "outputs": [],
   "source": [
    "optimal_configs = [\n",
    "    {'phi': 'linear', 'cost': 'mse', 'n_hidden': 3},\n",
    "    {'phi': 'linear', 'cost': 'cross-entropy', 'n_hidden': 2},\n",
    "    {'phi': 'silu', 'cost': 'cross-entropy', 'n_hidden': 2}\n",
    "]\n",
    "\n",
    "for config in optimal_configs:\n",
    "    config.update({'C': 0.001, \n",
    "                   'alpha': 1e-6, \n",
    "                   'size_hidden': 15,\n",
    "                   'epochs': 100\n",
    "                  })"
   ]
  },
  {
   "cell_type": "code",
   "execution_count": 185,
   "metadata": {
    "scrolled": true
   },
   "outputs": [
    {
     "name": "stdout",
     "output_type": "stream",
     "text": [
      "[CV]  ................................................................\n"
     ]
    },
    {
     "name": "stderr",
     "output_type": "stream",
     "text": [
      "Epoch: 100/100[Parallel(n_jobs=1)]: Done   1 out of   1 | elapsed:   53.2s remaining:    0.0s\n"
     ]
    },
    {
     "name": "stdout",
     "output_type": "stream",
     "text": [
      "[CV] ................................. , score=0.258531, total=  53.2s\n",
      "[CV]  ................................................................\n"
     ]
    },
    {
     "name": "stderr",
     "output_type": "stream",
     "text": [
      "Epoch: 100/100[Parallel(n_jobs=1)]: Done   2 out of   2 | elapsed:  1.8min remaining:    0.0s\n"
     ]
    },
    {
     "name": "stdout",
     "output_type": "stream",
     "text": [
      "[CV] ................................. , score=0.300779, total=  53.6s\n",
      "[CV]  ................................................................\n"
     ]
    },
    {
     "name": "stderr",
     "output_type": "stream",
     "text": [
      "Epoch: 100/100[Parallel(n_jobs=1)]: Done   3 out of   3 | elapsed:  2.7min remaining:    0.0s\n"
     ]
    },
    {
     "name": "stdout",
     "output_type": "stream",
     "text": [
      "[CV] ................................. , score=0.274886, total=  53.2s\n",
      "[CV]  ................................................................\n"
     ]
    },
    {
     "name": "stderr",
     "output_type": "stream",
     "text": [
      "Epoch: 100/100[Parallel(n_jobs=1)]: Done   4 out of   4 | elapsed:  3.6min remaining:    0.0s\n"
     ]
    },
    {
     "name": "stdout",
     "output_type": "stream",
     "text": [
      "[CV] ................................. , score=0.275113, total=  53.5s\n",
      "[CV]  ................................................................\n"
     ]
    },
    {
     "name": "stderr",
     "output_type": "stream",
     "text": [
      "Epoch: 100/100"
     ]
    },
    {
     "name": "stdout",
     "output_type": "stream",
     "text": [
      "[CV] ................................. , score=0.269431, total=  53.0s\n",
      "[CV]  ................................................................\n"
     ]
    },
    {
     "name": "stderr",
     "output_type": "stream",
     "text": [
      "Epoch: 100/100"
     ]
    },
    {
     "name": "stdout",
     "output_type": "stream",
     "text": [
      "[CV] ................................. , score=0.264220, total=  53.0s\n",
      "[CV]  ................................................................\n"
     ]
    },
    {
     "name": "stderr",
     "output_type": "stream",
     "text": [
      "Epoch: 100/100"
     ]
    },
    {
     "name": "stdout",
     "output_type": "stream",
     "text": [
      "[CV] ................................. , score=0.304480, total=  53.3s\n",
      "[CV]  ................................................................\n"
     ]
    },
    {
     "name": "stderr",
     "output_type": "stream",
     "text": [
      "Epoch: 100/100"
     ]
    },
    {
     "name": "stdout",
     "output_type": "stream",
     "text": [
      "[CV] ................................. , score=0.276263, total=  53.2s\n",
      "[CV]  ................................................................\n"
     ]
    },
    {
     "name": "stderr",
     "output_type": "stream",
     "text": [
      "Epoch: 100/100"
     ]
    },
    {
     "name": "stdout",
     "output_type": "stream",
     "text": [
      "[CV] ................................. , score=0.270952, total=  53.4s\n",
      "[CV]  ................................................................\n"
     ]
    },
    {
     "name": "stderr",
     "output_type": "stream",
     "text": [
      "Epoch: 100/100[Parallel(n_jobs=1)]: Done  10 out of  10 | elapsed:  8.9min finished\n"
     ]
    },
    {
     "name": "stdout",
     "output_type": "stream",
     "text": [
      "[CV] ................................. , score=0.282666, total=  53.2s\n",
      "[CV]  ................................................................\n"
     ]
    },
    {
     "name": "stderr",
     "output_type": "stream",
     "text": [
      "Epoch: 100/100[Parallel(n_jobs=1)]: Done   1 out of   1 | elapsed:   39.0s remaining:    0.0s\n"
     ]
    },
    {
     "name": "stdout",
     "output_type": "stream",
     "text": [
      "[CV] ................................. , score=0.260767, total=  39.0s\n",
      "[CV]  ................................................................\n"
     ]
    },
    {
     "name": "stderr",
     "output_type": "stream",
     "text": [
      "Epoch: 100/100[Parallel(n_jobs=1)]: Done   2 out of   2 | elapsed:  1.3min remaining:    0.0s\n"
     ]
    },
    {
     "name": "stdout",
     "output_type": "stream",
     "text": [
      "[CV] ................................. , score=0.263715, total=  39.1s\n",
      "[CV]  ................................................................\n"
     ]
    },
    {
     "name": "stderr",
     "output_type": "stream",
     "text": [
      "Epoch: 100/100[Parallel(n_jobs=1)]: Done   3 out of   3 | elapsed:  1.9min remaining:    0.0s\n"
     ]
    },
    {
     "name": "stdout",
     "output_type": "stream",
     "text": [
      "[CV] ................................. , score=0.265997, total=  38.9s\n",
      "[CV]  ................................................................\n"
     ]
    },
    {
     "name": "stderr",
     "output_type": "stream",
     "text": [
      "Epoch: 100/100[Parallel(n_jobs=1)]: Done   4 out of   4 | elapsed:  2.6min remaining:    0.0s\n"
     ]
    },
    {
     "name": "stdout",
     "output_type": "stream",
     "text": [
      "[CV] ................................. , score=0.271101, total=  38.8s\n",
      "[CV]  ................................................................\n"
     ]
    },
    {
     "name": "stderr",
     "output_type": "stream",
     "text": [
      "Epoch: 100/100"
     ]
    },
    {
     "name": "stdout",
     "output_type": "stream",
     "text": [
      "[CV] ................................. , score=0.284956, total=  39.2s\n",
      "[CV]  ................................................................\n"
     ]
    },
    {
     "name": "stderr",
     "output_type": "stream",
     "text": [
      "Epoch: 100/100"
     ]
    },
    {
     "name": "stdout",
     "output_type": "stream",
     "text": [
      "[CV] ................................. , score=0.238407, total=  38.8s\n",
      "[CV]  ................................................................\n"
     ]
    },
    {
     "name": "stderr",
     "output_type": "stream",
     "text": [
      "Epoch: 100/100"
     ]
    },
    {
     "name": "stdout",
     "output_type": "stream",
     "text": [
      "[CV] ................................. , score=0.236371, total=  38.9s\n",
      "[CV]  ................................................................\n"
     ]
    },
    {
     "name": "stderr",
     "output_type": "stream",
     "text": [
      "Epoch: 100/100"
     ]
    },
    {
     "name": "stdout",
     "output_type": "stream",
     "text": [
      "[CV] ................................. , score=0.265350, total=  39.3s\n",
      "[CV]  ................................................................\n"
     ]
    },
    {
     "name": "stderr",
     "output_type": "stream",
     "text": [
      "Epoch: 100/100"
     ]
    },
    {
     "name": "stdout",
     "output_type": "stream",
     "text": [
      "[CV] ................................. , score=0.257366, total=  38.9s\n",
      "[CV]  ................................................................\n"
     ]
    },
    {
     "name": "stderr",
     "output_type": "stream",
     "text": [
      "Epoch: 100/100[Parallel(n_jobs=1)]: Done  10 out of  10 | elapsed:  6.5min finished\n"
     ]
    },
    {
     "name": "stdout",
     "output_type": "stream",
     "text": [
      "[CV] ................................. , score=0.255894, total=  38.8s\n",
      "[CV]  ................................................................\n"
     ]
    },
    {
     "name": "stderr",
     "output_type": "stream",
     "text": [
      "Epoch: 100/100[Parallel(n_jobs=1)]: Done   1 out of   1 | elapsed:  1.7min remaining:    0.0s\n"
     ]
    },
    {
     "name": "stdout",
     "output_type": "stream",
     "text": [
      "[CV] ................................. , score=0.280288, total= 1.7min\n",
      "[CV]  ................................................................\n"
     ]
    },
    {
     "name": "stderr",
     "output_type": "stream",
     "text": [
      "Epoch: 100/100[Parallel(n_jobs=1)]: Done   2 out of   2 | elapsed:  3.4min remaining:    0.0s\n"
     ]
    },
    {
     "name": "stdout",
     "output_type": "stream",
     "text": [
      "[CV] ................................. , score=0.204680, total= 1.7min\n",
      "[CV]  ................................................................\n"
     ]
    },
    {
     "name": "stderr",
     "output_type": "stream",
     "text": [
      "Epoch: 100/100[Parallel(n_jobs=1)]: Done   3 out of   3 | elapsed:  5.1min remaining:    0.0s\n"
     ]
    },
    {
     "name": "stdout",
     "output_type": "stream",
     "text": [
      "[CV] ................................. , score=0.177827, total= 1.7min\n",
      "[CV]  ................................................................\n"
     ]
    },
    {
     "name": "stderr",
     "output_type": "stream",
     "text": [
      "Epoch: 100/100[Parallel(n_jobs=1)]: Done   4 out of   4 | elapsed:  6.7min remaining:    0.0s\n"
     ]
    },
    {
     "name": "stdout",
     "output_type": "stream",
     "text": [
      "[CV] ................................. , score=0.234456, total= 1.7min\n",
      "[CV]  ................................................................\n"
     ]
    },
    {
     "name": "stderr",
     "output_type": "stream",
     "text": [
      "Epoch: 100/100"
     ]
    },
    {
     "name": "stdout",
     "output_type": "stream",
     "text": [
      "[CV] ................................. , score=0.230562, total= 1.7min\n",
      "[CV]  ................................................................\n"
     ]
    },
    {
     "name": "stderr",
     "output_type": "stream",
     "text": [
      "Epoch: 100/100"
     ]
    },
    {
     "name": "stdout",
     "output_type": "stream",
     "text": [
      "[CV] ................................. , score=0.222395, total= 1.7min\n",
      "[CV]  ................................................................\n"
     ]
    },
    {
     "name": "stderr",
     "output_type": "stream",
     "text": [
      "Epoch: 100/100"
     ]
    },
    {
     "name": "stdout",
     "output_type": "stream",
     "text": [
      "[CV] ................................. , score=0.209369, total= 1.7min\n",
      "[CV]  ................................................................\n"
     ]
    },
    {
     "name": "stderr",
     "output_type": "stream",
     "text": [
      "Epoch: 100/100"
     ]
    },
    {
     "name": "stdout",
     "output_type": "stream",
     "text": [
      "[CV] ................................. , score=0.239920, total= 1.7min\n",
      "[CV]  ................................................................\n"
     ]
    },
    {
     "name": "stderr",
     "output_type": "stream",
     "text": [
      "Epoch: 100/100"
     ]
    },
    {
     "name": "stdout",
     "output_type": "stream",
     "text": [
      "[CV] ................................. , score=0.222670, total= 1.7min\n",
      "[CV]  ................................................................\n"
     ]
    },
    {
     "name": "stderr",
     "output_type": "stream",
     "text": [
      "Epoch: 100/100"
     ]
    },
    {
     "name": "stdout",
     "output_type": "stream",
     "text": [
      "[CV] ................................. , score=0.237637, total= 1.7min\n"
     ]
    },
    {
     "name": "stderr",
     "output_type": "stream",
     "text": [
      "[Parallel(n_jobs=1)]: Done  10 out of  10 | elapsed: 16.8min finished\n"
     ]
    }
   ],
   "source": [
    "from sklearn.model_selection import cross_val_score\n",
    "\n",
    "# scores = {}\n",
    "\n",
    "# for config in optimal_configs:\n",
    "#     mlp = MultiLayerPerceptron(**config)\n",
    "#     cv_score = cross_val_score(mlp, \n",
    "#                     X_train, \n",
    "#                     y_train, \n",
    "#                     scoring=f1_scorer, \n",
    "#                     cv=10,\n",
    "#                     verbose=5\n",
    "#                    )\n",
    "#     name = config['phi'] + config['cost'] + str(config['n_hidden'])\n",
    "#     scores.update({name: cv_score})"
   ]
  },
  {
   "cell_type": "code",
   "execution_count": 188,
   "metadata": {},
   "outputs": [],
   "source": [
    "# pickle.dump(scores, open('cv_scores.p', 'wb'))"
   ]
  },
  {
   "cell_type": "code",
   "execution_count": null,
   "metadata": {
    "collapsed": true
   },
   "outputs": [],
   "source": [
    "scores = pickle.load(open('cv_scores.p', 'rb'))"
   ]
  },
  {
   "cell_type": "code",
   "execution_count": 194,
   "metadata": {},
   "outputs": [
    {
     "data": {
      "image/png": "[encoded data removed]",
      "text/plain": [
       "<matplotlib.figure.Figure at 0x2aab80189438>"
      ]
     },
     "metadata": {},
     "output_type": "display_data"
    }
   ],
   "source": [
    "cv_df = pd.DataFrame(scores).melt(value_vars=['linearcross-entropy2',\n",
    "                                              'linearmse3',\n",
    "                                              'silucross-entropy2'],\n",
    "                                 var_name='network',\n",
    "                                 value_name='score')\n",
    "\n",
    "sns.swarmplot(data=cv_df, x='network', y='score')\n",
    "plt.show()"
   ]
  },
  {
   "cell_type": "markdown",
   "metadata": {},
   "source": [
    "Without producing any confidence intervals or running hypothesis tests, it appears as though our choice of parameters will indeed be the linear MSE network with 3 hidden layers."
   ]
  },
  {
   "cell_type": "markdown",
   "metadata": {},
   "source": [
    "### Evaluating the Final Model"
   ]
  },
  {
   "cell_type": "code",
   "execution_count": 195,
   "metadata": {},
   "outputs": [
    {
     "name": "stderr",
     "output_type": "stream",
     "text": [
      "Epoch: 4/500"
     ]
    },
    {
     "data": {
      "image/png": "[encoded data removed]",
      "text/plain": [
       "<matplotlib.figure.Figure at 0x2aab8039a9b0>"
      ]
     },
     "metadata": {},
     "output_type": "display_data"
    },
    {
     "data": {
      "image/png": "[encoded data removed]",
      "text/plain": [
       "<matplotlib.figure.Figure at 0x2aab80877eb8>"
      ]
     },
     "metadata": {},
     "output_type": "display_data"
    }
   ],
   "source": [
    "model_params = {\n",
    "    'phi': 'linear',\n",
    "    'cost': 'mse',\n",
    "    'n_hidden': 3,\n",
    "    'C': 0.001, \n",
    "    'alpha': 1e-6, \n",
    "    'size_hidden': 15,\n",
    "    'epochs': 500\n",
    "}\n",
    "\n",
    "model = MultiLayerPerceptron(**model_params)\n",
    "grads = model.fit(X_train, y_train, \n",
    "                  print_progress=True, \n",
    "                  track_gradient=True,\n",
    "                  show_cost=True\n",
    "                 )\n",
    "\n",
    "for i in range(mlp.n_layers):\n",
    "    plt.plot(np.arange(len(grads[0])), grads[i], label='layer {}'.format(i+1))\n",
    "plt.legend(loc='best')\n",
    "plt.show()"
   ]
  },
  {
   "cell_type": "markdown",
   "metadata": {},
   "source": [
    "Well, things are a bit messy, though with a learning rate as low as the one we're using, gradient variations on this scale really don't make much of a difference. However, their particular pattern is interesting and somewhat unexpected."
   ]
  }
 ],
 "metadata": {
  "kernelspec": {
   "display_name": "Python 3",
   "language": "python",
   "name": "python3"
  },
  "language_info": {
   "codemirror_mode": {
    "name": "ipython",
    "version": 3
   },
   "file_extension": ".py",
   "mimetype": "text/x-python",
   "name": "python",
   "nbconvert_exporter": "python",
   "pygments_lexer": "ipython3",
   "version": "3.6.2"
  }
 },
 "nbformat": 4,
 "nbformat_minor": 2
}
